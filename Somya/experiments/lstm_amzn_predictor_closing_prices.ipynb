{
 "cells": [
  {
   "cell_type": "markdown",
   "metadata": {
    "id": "IGkMahIMJ7pZ"
   },
   "source": [
    "# LSTM Stock Predictor Using Closing Prices\n",
    "In this notebook, we will build and train a custom LSTM RNN that uses a 10 day window of Stock closing prices to predict the 11th day closing price.\n",
    "\n",
    "You will need to:\n",
    "\n",
    "Prepare the data for training and testing\n",
    "Build and train a custom LSTM RNN\n",
    "Evaluate the performance of the model\n",
    "Data Preparation\n",
    "In this section, we will need to prepare the training and testing data for the model. The model will use a rolling 10 day window to predict the 11th day closing price.\n",
    "\n",
    "You will need to:\n",
    "\n",
    "Use the window_data function to generate the X and y values for the model.\n",
    "Split the data into 70% training and 30% testing\n",
    "Apply the MinMaxScaler to the X and y values\n",
    "Reshape the X_train and X_test data for the model."
   ]
  },
  {
   "cell_type": "code",
   "execution_count": 1,
   "metadata": {
    "colab": {
     "base_uri": "https://localhost:8080/"
    },
    "executionInfo": {
     "elapsed": 3315,
     "status": "ok",
     "timestamp": 1622616867039,
     "user": {
      "displayName": "somya panda",
      "photoUrl": "https://lh3.googleusercontent.com/a-/AOh14GgPG3HPtIinE4WxzphAj532IXowQAFLSEzeDJd-Yw=s64",
      "userId": "15898368594235905975"
     },
     "user_tz": 420
    },
    "id": "X_-lDQ1PYHn6",
    "outputId": "e23415f9-e9e9-4a79-e6cf-e5add7bf0828"
   },
   "outputs": [
    {
     "name": "stdout",
     "output_type": "stream",
     "text": [
      "Collecting hvplot\n",
      "  Downloading hvplot-0.7.2-py2.py3-none-any.whl (3.1 MB)\n",
      "\u001b[K     |████████████████████████████████| 3.1 MB 2.8 MB/s eta 0:00:01\n",
      "\u001b[?25hCollecting holoviews>=1.11.0\n",
      "  Downloading holoviews-1.14.4-py2.py3-none-any.whl (4.3 MB)\n",
      "\u001b[K     |████████████████████████████████| 4.3 MB 6.4 MB/s eta 0:00:01\n",
      "\u001b[?25hRequirement already satisfied: numpy>=1.15 in /Users/soma/opt/anaconda3/envs/dev/lib/python3.7/site-packages (from hvplot) (1.19.2)\n",
      "Requirement already satisfied: bokeh>=1.0.0 in /Users/soma/opt/anaconda3/envs/dev/lib/python3.7/site-packages (from hvplot) (2.2.3)\n",
      "Requirement already satisfied: pandas in /Users/soma/opt/anaconda3/envs/dev/lib/python3.7/site-packages (from hvplot) (1.1.3)\n",
      "Collecting colorcet>=2\n",
      "  Downloading colorcet-2.0.6-py2.py3-none-any.whl (1.6 MB)\n",
      "\u001b[K     |████████████████████████████████| 1.6 MB 16.2 MB/s eta 0:00:01\n",
      "\u001b[?25hCollecting panel>=0.8.0\n",
      "  Downloading panel-0.11.3-py2.py3-none-any.whl (9.0 MB)\n",
      "\u001b[K     |████████████████████████████████| 9.0 MB 13.2 MB/s eta 0:00:01\n",
      "\u001b[?25hCollecting pyviz-comms>=0.7.4\n",
      "  Downloading pyviz_comms-2.0.1-py2.py3-none-any.whl (240 kB)\n",
      "\u001b[K     |████████████████████████████████| 240 kB 6.5 MB/s eta 0:00:01\n",
      "\u001b[?25hCollecting param<2.0,>=1.9.3\n",
      "  Downloading param-1.10.1-py2.py3-none-any.whl (76 kB)\n",
      "\u001b[K     |████████████████████████████████| 76 kB 17.7 MB/s eta 0:00:011\n",
      "\u001b[?25hRequirement already satisfied: packaging>=16.8 in /Users/soma/opt/anaconda3/envs/dev/lib/python3.7/site-packages (from bokeh>=1.0.0->hvplot) (20.4)\n",
      "Requirement already satisfied: Jinja2>=2.7 in /Users/soma/opt/anaconda3/envs/dev/lib/python3.7/site-packages (from bokeh>=1.0.0->hvplot) (2.11.2)\n",
      "Requirement already satisfied: pillow>=7.1.0 in /Users/soma/opt/anaconda3/envs/dev/lib/python3.7/site-packages (from bokeh>=1.0.0->hvplot) (8.0.1)\n",
      "Requirement already satisfied: typing-extensions>=3.7.4 in /Users/soma/opt/anaconda3/envs/dev/lib/python3.7/site-packages (from bokeh>=1.0.0->hvplot) (3.7.4.3)\n",
      "Requirement already satisfied: tornado>=5.1 in /Users/soma/opt/anaconda3/envs/dev/lib/python3.7/site-packages (from bokeh>=1.0.0->hvplot) (6.0.4)\n",
      "Requirement already satisfied: python-dateutil>=2.1 in /Users/soma/opt/anaconda3/envs/dev/lib/python3.7/site-packages (from bokeh>=1.0.0->hvplot) (2.8.1)\n",
      "Requirement already satisfied: PyYAML>=3.10 in /Users/soma/opt/anaconda3/envs/dev/lib/python3.7/site-packages (from bokeh>=1.0.0->hvplot) (5.3.1)\n",
      "Requirement already satisfied: pytz>=2017.2 in /Users/soma/opt/anaconda3/envs/dev/lib/python3.7/site-packages (from pandas->hvplot) (2020.1)\n",
      "Collecting pyct>=0.4.4\n",
      "  Downloading pyct-0.4.8-py2.py3-none-any.whl (15 kB)\n",
      "Requirement already satisfied: tqdm in /Users/soma/opt/anaconda3/envs/dev/lib/python3.7/site-packages (from panel>=0.8.0->holoviews>=1.11.0->hvplot) (4.50.2)\n",
      "Requirement already satisfied: requests in /Users/soma/opt/anaconda3/envs/dev/lib/python3.7/site-packages (from panel>=0.8.0->holoviews>=1.11.0->hvplot) (2.24.0)\n",
      "Requirement already satisfied: markdown in /Users/soma/opt/anaconda3/envs/dev/lib/python3.7/site-packages (from panel>=0.8.0->holoviews>=1.11.0->hvplot) (3.3.4)\n",
      "Requirement already satisfied: pyparsing>=2.0.2 in /Users/soma/opt/anaconda3/envs/dev/lib/python3.7/site-packages (from packaging>=16.8->bokeh>=1.0.0->hvplot) (2.4.7)\n",
      "Requirement already satisfied: six in /Users/soma/opt/anaconda3/envs/dev/lib/python3.7/site-packages (from packaging>=16.8->bokeh>=1.0.0->hvplot) (1.15.0)\n",
      "Requirement already satisfied: MarkupSafe>=0.23 in /Users/soma/opt/anaconda3/envs/dev/lib/python3.7/site-packages (from Jinja2>=2.7->bokeh>=1.0.0->hvplot) (1.1.1)\n",
      "Requirement already satisfied: certifi>=2017.4.17 in /Users/soma/opt/anaconda3/envs/dev/lib/python3.7/site-packages (from requests->panel>=0.8.0->holoviews>=1.11.0->hvplot) (2020.12.5)\n",
      "Requirement already satisfied: urllib3!=1.25.0,!=1.25.1,<1.26,>=1.21.1 in /Users/soma/opt/anaconda3/envs/dev/lib/python3.7/site-packages (from requests->panel>=0.8.0->holoviews>=1.11.0->hvplot) (1.25.11)\n",
      "Requirement already satisfied: idna<3,>=2.5 in /Users/soma/opt/anaconda3/envs/dev/lib/python3.7/site-packages (from requests->panel>=0.8.0->holoviews>=1.11.0->hvplot) (2.10)\n",
      "Requirement already satisfied: chardet<4,>=3.0.2 in /Users/soma/opt/anaconda3/envs/dev/lib/python3.7/site-packages (from requests->panel>=0.8.0->holoviews>=1.11.0->hvplot) (3.0.4)\n",
      "Requirement already satisfied: importlib-metadata; python_version < \"3.8\" in /Users/soma/opt/anaconda3/envs/dev/lib/python3.7/site-packages (from markdown->panel>=0.8.0->holoviews>=1.11.0->hvplot) (2.0.0)\n",
      "Requirement already satisfied: zipp>=0.5 in /Users/soma/opt/anaconda3/envs/dev/lib/python3.7/site-packages (from importlib-metadata; python_version < \"3.8\"->markdown->panel>=0.8.0->holoviews>=1.11.0->hvplot) (3.4.0)\n",
      "Installing collected packages: param, pyct, pyviz-comms, panel, colorcet, holoviews, hvplot\n",
      "\u001b[31mERROR: After October 2020 you may experience errors when installing or updating packages. This is because pip will change the way that it resolves dependency conflicts.\n",
      "\n",
      "We recommend you use --use-feature=2020-resolver to test your packages with the new resolver before it becomes the default.\n",
      "\n",
      "panel 0.11.3 requires bokeh<2.4.0,>=2.3.0, but you'll have bokeh 2.2.3 which is incompatible.\u001b[0m\n",
      "Successfully installed colorcet-2.0.6 holoviews-1.14.4 hvplot-0.7.2 panel-0.11.3 param-1.10.1 pyct-0.4.8 pyviz-comms-2.0.1\n",
      "Note: you may need to restart the kernel to use updated packages.\n"
     ]
    }
   ],
   "source": [
    "pip install hvplot"
   ]
  },
  {
   "cell_type": "code",
   "execution_count": 2,
   "metadata": {
    "executionInfo": {
     "elapsed": 228,
     "status": "ok",
     "timestamp": 1622616867261,
     "user": {
      "displayName": "somya panda",
      "photoUrl": "https://lh3.googleusercontent.com/a-/AOh14GgPG3HPtIinE4WxzphAj532IXowQAFLSEzeDJd-Yw=s64",
      "userId": "15898368594235905975"
     },
     "user_tz": 420
    },
    "id": "C-3W9GmpJ_YC"
   },
   "outputs": [],
   "source": [
    "import numpy as np\n",
    "import pandas as pd\n",
    "from bokeh.models.formatters import DatetimeTickFormatter\n",
    "from bokeh.models import HoverTool"
   ]
  },
  {
   "cell_type": "code",
   "execution_count": 3,
   "metadata": {
    "executionInfo": {
     "elapsed": 2177,
     "status": "ok",
     "timestamp": 1622616869435,
     "user": {
      "displayName": "somya panda",
      "photoUrl": "https://lh3.googleusercontent.com/a-/AOh14GgPG3HPtIinE4WxzphAj532IXowQAFLSEzeDJd-Yw=s64",
      "userId": "15898368594235905975"
     },
     "user_tz": 420
    },
    "id": "bs8OWveYKYQq"
   },
   "outputs": [
    {
     "ename": "ModuleNotFoundError",
     "evalue": "No module named 'tensorflow'",
     "output_type": "error",
     "traceback": [
      "\u001b[0;31m---------------------------------------------------------------------------\u001b[0m",
      "\u001b[0;31mModuleNotFoundError\u001b[0m                       Traceback (most recent call last)",
      "\u001b[0;32m<ipython-input-3-d764ba80f232>\u001b[0m in \u001b[0;36m<module>\u001b[0;34m\u001b[0m\n\u001b[1;32m      2\u001b[0m \u001b[0;32mfrom\u001b[0m \u001b[0mnumpy\u001b[0m\u001b[0;34m.\u001b[0m\u001b[0mrandom\u001b[0m \u001b[0;32mimport\u001b[0m \u001b[0mseed\u001b[0m\u001b[0;34m\u001b[0m\u001b[0;34m\u001b[0m\u001b[0m\n\u001b[1;32m      3\u001b[0m \u001b[0mseed\u001b[0m\u001b[0;34m(\u001b[0m\u001b[0;36m1\u001b[0m\u001b[0;34m)\u001b[0m\u001b[0;34m\u001b[0m\u001b[0;34m\u001b[0m\u001b[0m\n\u001b[0;32m----> 4\u001b[0;31m \u001b[0;32mfrom\u001b[0m \u001b[0mtensorflow\u001b[0m \u001b[0;32mimport\u001b[0m \u001b[0mrandom\u001b[0m\u001b[0;34m\u001b[0m\u001b[0;34m\u001b[0m\u001b[0m\n\u001b[0m\u001b[1;32m      5\u001b[0m \u001b[0mrandom\u001b[0m\u001b[0;34m.\u001b[0m\u001b[0mset_seed\u001b[0m\u001b[0;34m(\u001b[0m\u001b[0;36m2\u001b[0m\u001b[0;34m)\u001b[0m\u001b[0;34m\u001b[0m\u001b[0;34m\u001b[0m\u001b[0m\n",
      "\u001b[0;31mModuleNotFoundError\u001b[0m: No module named 'tensorflow'"
     ]
    }
   ],
   "source": [
    "# Set the random seed for reproducibility\n",
    "from numpy.random import seed\n",
    "seed(1)\n",
    "from tensorflow import random\n",
    "random.set_seed(2)"
   ]
  },
  {
   "cell_type": "code",
   "execution_count": 4,
   "metadata": {
    "colab": {
     "base_uri": "https://localhost:8080/",
     "height": 450
    },
    "executionInfo": {
     "elapsed": 15,
     "status": "ok",
     "timestamp": 1622616869443,
     "user": {
      "displayName": "somya panda",
      "photoUrl": "https://lh3.googleusercontent.com/a-/AOh14GgPG3HPtIinE4WxzphAj532IXowQAFLSEzeDJd-Yw=s64",
      "userId": "15898368594235905975"
     },
     "user_tz": 420
    },
    "id": "Rf3XTydmKaIo",
    "outputId": "e93b8d76-fd62-468e-d481-2894e00c1a50"
   },
   "outputs": [
    {
     "data": {
      "text/html": [
       "<div>\n",
       "<style scoped>\n",
       "    .dataframe tbody tr th:only-of-type {\n",
       "        vertical-align: middle;\n",
       "    }\n",
       "\n",
       "    .dataframe tbody tr th {\n",
       "        vertical-align: top;\n",
       "    }\n",
       "\n",
       "    .dataframe thead th {\n",
       "        text-align: right;\n",
       "    }\n",
       "</style>\n",
       "<table border=\"1\" class=\"dataframe\">\n",
       "  <thead>\n",
       "    <tr style=\"text-align: right;\">\n",
       "      <th></th>\n",
       "      <th>Open</th>\n",
       "      <th>High</th>\n",
       "      <th>Low</th>\n",
       "      <th>Close</th>\n",
       "      <th>Adj Close</th>\n",
       "      <th>Volume</th>\n",
       "    </tr>\n",
       "    <tr>\n",
       "      <th>Date</th>\n",
       "      <th></th>\n",
       "      <th></th>\n",
       "      <th></th>\n",
       "      <th></th>\n",
       "      <th></th>\n",
       "      <th></th>\n",
       "    </tr>\n",
       "  </thead>\n",
       "  <tbody>\n",
       "    <tr>\n",
       "      <th>2011-01-03</th>\n",
       "      <td>181.369995</td>\n",
       "      <td>186.000000</td>\n",
       "      <td>181.210007</td>\n",
       "      <td>184.220001</td>\n",
       "      <td>184.220001</td>\n",
       "      <td>5331400</td>\n",
       "    </tr>\n",
       "    <tr>\n",
       "      <th>2011-01-04</th>\n",
       "      <td>186.149994</td>\n",
       "      <td>187.699997</td>\n",
       "      <td>183.779999</td>\n",
       "      <td>185.009995</td>\n",
       "      <td>185.009995</td>\n",
       "      <td>5031800</td>\n",
       "    </tr>\n",
       "    <tr>\n",
       "      <th>2011-01-05</th>\n",
       "      <td>184.100006</td>\n",
       "      <td>187.449997</td>\n",
       "      <td>184.070007</td>\n",
       "      <td>187.419998</td>\n",
       "      <td>187.419998</td>\n",
       "      <td>3418800</td>\n",
       "    </tr>\n",
       "    <tr>\n",
       "      <th>2011-01-06</th>\n",
       "      <td>186.500000</td>\n",
       "      <td>187.410004</td>\n",
       "      <td>185.250000</td>\n",
       "      <td>185.860001</td>\n",
       "      <td>185.860001</td>\n",
       "      <td>3179700</td>\n",
       "    </tr>\n",
       "    <tr>\n",
       "      <th>2011-01-07</th>\n",
       "      <td>187.880005</td>\n",
       "      <td>188.449997</td>\n",
       "      <td>183.740005</td>\n",
       "      <td>185.490005</td>\n",
       "      <td>185.490005</td>\n",
       "      <td>5221700</td>\n",
       "    </tr>\n",
       "    <tr>\n",
       "      <th>...</th>\n",
       "      <td>...</td>\n",
       "      <td>...</td>\n",
       "      <td>...</td>\n",
       "      <td>...</td>\n",
       "      <td>...</td>\n",
       "      <td>...</td>\n",
       "    </tr>\n",
       "    <tr>\n",
       "      <th>2021-05-24</th>\n",
       "      <td>3215.500000</td>\n",
       "      <td>3257.949951</td>\n",
       "      <td>3210.500000</td>\n",
       "      <td>3244.989990</td>\n",
       "      <td>3244.989990</td>\n",
       "      <td>2422800</td>\n",
       "    </tr>\n",
       "    <tr>\n",
       "      <th>2021-05-25</th>\n",
       "      <td>3266.669922</td>\n",
       "      <td>3279.820068</td>\n",
       "      <td>3213.760010</td>\n",
       "      <td>3259.050049</td>\n",
       "      <td>3259.050049</td>\n",
       "      <td>3261100</td>\n",
       "    </tr>\n",
       "    <tr>\n",
       "      <th>2021-05-26</th>\n",
       "      <td>3274.590088</td>\n",
       "      <td>3295.729980</td>\n",
       "      <td>3258.510010</td>\n",
       "      <td>3265.159912</td>\n",
       "      <td>3265.159912</td>\n",
       "      <td>2384000</td>\n",
       "    </tr>\n",
       "    <tr>\n",
       "      <th>2021-05-27</th>\n",
       "      <td>3256.000000</td>\n",
       "      <td>3260.360107</td>\n",
       "      <td>3230.040039</td>\n",
       "      <td>3230.110107</td>\n",
       "      <td>3230.110107</td>\n",
       "      <td>2555400</td>\n",
       "    </tr>\n",
       "    <tr>\n",
       "      <th>2021-05-28</th>\n",
       "      <td>3242.000000</td>\n",
       "      <td>3247.989990</td>\n",
       "      <td>3219.699951</td>\n",
       "      <td>3223.070068</td>\n",
       "      <td>3223.070068</td>\n",
       "      <td>2329800</td>\n",
       "    </tr>\n",
       "  </tbody>\n",
       "</table>\n",
       "<p>2619 rows × 6 columns</p>\n",
       "</div>"
      ],
      "text/plain": [
       "                   Open         High  ...    Adj Close   Volume\n",
       "Date                                  ...                      \n",
       "2011-01-03   181.369995   186.000000  ...   184.220001  5331400\n",
       "2011-01-04   186.149994   187.699997  ...   185.009995  5031800\n",
       "2011-01-05   184.100006   187.449997  ...   187.419998  3418800\n",
       "2011-01-06   186.500000   187.410004  ...   185.860001  3179700\n",
       "2011-01-07   187.880005   188.449997  ...   185.490005  5221700\n",
       "...                 ...          ...  ...          ...      ...\n",
       "2021-05-24  3215.500000  3257.949951  ...  3244.989990  2422800\n",
       "2021-05-25  3266.669922  3279.820068  ...  3259.050049  3261100\n",
       "2021-05-26  3274.590088  3295.729980  ...  3265.159912  2384000\n",
       "2021-05-27  3256.000000  3260.360107  ...  3230.110107  2555400\n",
       "2021-05-28  3242.000000  3247.989990  ...  3223.070068  2329800\n",
       "\n",
       "[2619 rows x 6 columns]"
      ]
     },
     "execution_count": 4,
     "metadata": {
      "tags": []
     },
     "output_type": "execute_result"
    }
   ],
   "source": [
    "# Load the historical closing prices for Bitcoin\n",
    "amzn_df = pd.read_csv('amzn_closing_prices.csv', index_col=\"Date\", infer_datetime_format=True, parse_dates=True)\n",
    "amzn_df = amzn_df.sort_index()\n",
    "amzn_df"
   ]
  },
  {
   "cell_type": "code",
   "execution_count": 5,
   "metadata": {
    "colab": {
     "base_uri": "https://localhost:8080/",
     "height": 235
    },
    "executionInfo": {
     "elapsed": 12,
     "status": "ok",
     "timestamp": 1622616869444,
     "user": {
      "displayName": "somya panda",
      "photoUrl": "https://lh3.googleusercontent.com/a-/AOh14GgPG3HPtIinE4WxzphAj532IXowQAFLSEzeDJd-Yw=s64",
      "userId": "15898368594235905975"
     },
     "user_tz": 420
    },
    "id": "nXmZFL3XNb4X",
    "outputId": "6a58dded-f074-4b66-d8ee-9d96641d8a8f"
   },
   "outputs": [
    {
     "data": {
      "text/html": [
       "<div>\n",
       "<style scoped>\n",
       "    .dataframe tbody tr th:only-of-type {\n",
       "        vertical-align: middle;\n",
       "    }\n",
       "\n",
       "    .dataframe tbody tr th {\n",
       "        vertical-align: top;\n",
       "    }\n",
       "\n",
       "    .dataframe thead th {\n",
       "        text-align: right;\n",
       "    }\n",
       "</style>\n",
       "<table border=\"1\" class=\"dataframe\">\n",
       "  <thead>\n",
       "    <tr style=\"text-align: right;\">\n",
       "      <th></th>\n",
       "      <th>Close</th>\n",
       "    </tr>\n",
       "    <tr>\n",
       "      <th>Date</th>\n",
       "      <th></th>\n",
       "    </tr>\n",
       "  </thead>\n",
       "  <tbody>\n",
       "    <tr>\n",
       "      <th>2011-01-03</th>\n",
       "      <td>184.220001</td>\n",
       "    </tr>\n",
       "    <tr>\n",
       "      <th>2011-01-04</th>\n",
       "      <td>185.009995</td>\n",
       "    </tr>\n",
       "    <tr>\n",
       "      <th>2011-01-05</th>\n",
       "      <td>187.419998</td>\n",
       "    </tr>\n",
       "    <tr>\n",
       "      <th>2011-01-06</th>\n",
       "      <td>185.860001</td>\n",
       "    </tr>\n",
       "    <tr>\n",
       "      <th>2011-01-07</th>\n",
       "      <td>185.490005</td>\n",
       "    </tr>\n",
       "  </tbody>\n",
       "</table>\n",
       "</div>"
      ],
      "text/plain": [
       "                 Close\n",
       "Date                  \n",
       "2011-01-03  184.220001\n",
       "2011-01-04  185.009995\n",
       "2011-01-05  187.419998\n",
       "2011-01-06  185.860001\n",
       "2011-01-07  185.490005"
      ]
     },
     "execution_count": 5,
     "metadata": {
      "tags": []
     },
     "output_type": "execute_result"
    }
   ],
   "source": [
    "amzn_closing_df = amzn_df['Close'].reset_index()\n",
    "amzn_closing_df = amzn_closing_df.set_index('Date')\n",
    "amzn_closing_df.head()"
   ]
  },
  {
   "cell_type": "code",
   "execution_count": 6,
   "metadata": {
    "executionInfo": {
     "elapsed": 11,
     "status": "ok",
     "timestamp": 1622616869445,
     "user": {
      "displayName": "somya panda",
      "photoUrl": "https://lh3.googleusercontent.com/a-/AOh14GgPG3HPtIinE4WxzphAj532IXowQAFLSEzeDJd-Yw=s64",
      "userId": "15898368594235905975"
     },
     "user_tz": 420
    },
    "id": "RgLLlE4UK19Y"
   },
   "outputs": [],
   "source": [
    "# This function accepts the column number for the features (X) and the target (y)\n",
    "# It chunks the data up with a rolling window of Xt-n to predict Xt\n",
    "# It returns a numpy array of X any y\n",
    "def window_data(stock_closing_df, window, feature_col_number, target_col_number):\n",
    "    X = []\n",
    "    y = []\n",
    "    for i in range(len(amzn_closing_df) - window - 1):\n",
    "        features = amzn_closing_df.iloc[i:(i + window), feature_col_number]\n",
    "        target = amzn_closing_df.iloc[(i + window), target_col_number]\n",
    "        X.append(features)\n",
    "        y.append(target)\n",
    "    return np.array(X), np.array(y).reshape(-1, 1)"
   ]
  },
  {
   "cell_type": "code",
   "execution_count": 7,
   "metadata": {
    "colab": {
     "base_uri": "https://localhost:8080/"
    },
    "executionInfo": {
     "elapsed": 279,
     "status": "ok",
     "timestamp": 1622616869713,
     "user": {
      "displayName": "somya panda",
      "photoUrl": "https://lh3.googleusercontent.com/a-/AOh14GgPG3HPtIinE4WxzphAj532IXowQAFLSEzeDJd-Yw=s64",
      "userId": "15898368594235905975"
     },
     "user_tz": 420
    },
    "id": "3jKyLLOnRj2X",
    "outputId": "06bdeb6a-c740-4188-def3-865a28d1527b"
   },
   "outputs": [
    {
     "name": "stdout",
     "output_type": "stream",
     "text": [
      "X sample values:\n",
      "[[184.22000122 185.00999451 187.41999817 185.86000061 185.49000549\n",
      "  184.67999268 184.33999634 184.08000183 185.52999878 188.75      ]\n",
      " [185.00999451 187.41999817 185.86000061 185.49000549 184.67999268\n",
      "  184.33999634 184.08000183 185.52999878 188.75       191.25      ]\n",
      " [187.41999817 185.86000061 185.49000549 184.67999268 184.33999634\n",
      "  184.08000183 185.52999878 188.75       191.25       186.86999512]\n",
      " [185.86000061 185.49000549 184.67999268 184.33999634 184.08000183\n",
      "  185.52999878 188.75       191.25       186.86999512 181.96000671]\n",
      " [185.49000549 184.67999268 184.33999634 184.08000183 185.52999878\n",
      "  188.75       191.25       186.86999512 181.96000671 177.41999817]\n",
      " [184.67999268 184.33999634 184.08000183 185.52999878 188.75\n",
      "  191.25       186.86999512 181.96000671 177.41999817 176.8500061 ]\n",
      " [184.33999634 184.08000183 185.52999878 188.75       191.25\n",
      "  186.86999512 181.96000671 177.41999817 176.8500061  176.69999695]\n",
      " [184.08000183 185.52999878 188.75       191.25       186.86999512\n",
      "  181.96000671 177.41999817 176.8500061  176.69999695 175.38999939]\n",
      " [185.52999878 188.75       191.25       186.86999512 181.96000671\n",
      "  177.41999817 176.8500061  176.69999695 175.38999939 184.44999695]\n",
      " [188.75       191.25       186.86999512 181.96000671 177.41999817\n",
      "  176.8500061  176.69999695 175.38999939 184.44999695 171.13999939]] \n",
      "\n",
      "y sample values:\n",
      "[[191.25      ]\n",
      " [186.86999512]\n",
      " [181.96000671]\n",
      " [177.41999817]\n",
      " [176.8500061 ]\n",
      " [176.69999695]\n",
      " [175.38999939]\n",
      " [184.44999695]\n",
      " [171.13999939]\n",
      " [169.63999939]]\n"
     ]
    }
   ],
   "source": [
    "# Predict Closing Prices using a 10 day window of previous closing prices\n",
    "window_size = 10\n",
    "\n",
    "# Column index 0, is the `Close` column\n",
    "feature_column = 0\n",
    "target_column = 0\n",
    "X, y = window_data(amzn_closing_df, window_size, feature_column, target_column)\n",
    "print (f\"X sample values:\\n{X[:10]} \\n\")\n",
    "print (f\"y sample values:\\n{y[:10]}\")"
   ]
  },
  {
   "cell_type": "code",
   "execution_count": 8,
   "metadata": {
    "executionInfo": {
     "elapsed": 5,
     "status": "ok",
     "timestamp": 1622616869714,
     "user": {
      "displayName": "somya panda",
      "photoUrl": "https://lh3.googleusercontent.com/a-/AOh14GgPG3HPtIinE4WxzphAj532IXowQAFLSEzeDJd-Yw=s64",
      "userId": "15898368594235905975"
     },
     "user_tz": 420
    },
    "id": "ad_fzUERR4UB"
   },
   "outputs": [],
   "source": [
    "# Use 70% of the data for training and the remaineder for testing\n",
    "split_data = int(0.7 * len(X))\n",
    "\n",
    "X_train = X[:split_data - 1]\n",
    "X_test = X[split_data:]\n",
    "\n",
    "y_train = y[:split_data - 1]\n",
    "y_test = y[split_data:]"
   ]
  },
  {
   "cell_type": "code",
   "execution_count": 9,
   "metadata": {
    "executionInfo": {
     "elapsed": 256,
     "status": "ok",
     "timestamp": 1622616869966,
     "user": {
      "displayName": "somya panda",
      "photoUrl": "https://lh3.googleusercontent.com/a-/AOh14GgPG3HPtIinE4WxzphAj532IXowQAFLSEzeDJd-Yw=s64",
      "userId": "15898368594235905975"
     },
     "user_tz": 420
    },
    "id": "-RyrlgOtUjTn"
   },
   "outputs": [],
   "source": [
    "from sklearn.preprocessing import MinMaxScaler\n",
    "# Use the MinMaxScaler to scale data between 0 and 1.\n",
    "# Create a MinMaxScaler object\n",
    "x_train_scaler = MinMaxScaler()\n",
    "x_test_scaler = MinMaxScaler()\n",
    "y_train_scaler = MinMaxScaler()\n",
    "y_test_scaler = MinMaxScaler()\n",
    "\n",
    "# Fit the scaler for the training Data\n",
    "x_train_scaler.fit(X_train)\n",
    "y_train_scaler.fit(y_train)\n",
    "\n",
    "# Scale the training data\n",
    "X_train = x_train_scaler.transform(X_train)\n",
    "y_train = y_train_scaler.transform(y_train)\n",
    "\n",
    "# Fit the scaler for the testing Data\n",
    "x_test_scaler.fit(X_test)\n",
    "y_test_scaler.fit(y_test)\n",
    "\n",
    "# Scale the y_test data\n",
    "X_test = x_test_scaler.transform(X_test)\n",
    "y_test = y_test_scaler.transform(y_test)"
   ]
  },
  {
   "cell_type": "code",
   "execution_count": 10,
   "metadata": {
    "colab": {
     "base_uri": "https://localhost:8080/"
    },
    "executionInfo": {
     "elapsed": 8,
     "status": "ok",
     "timestamp": 1622616869966,
     "user": {
      "displayName": "somya panda",
      "photoUrl": "https://lh3.googleusercontent.com/a-/AOh14GgPG3HPtIinE4WxzphAj532IXowQAFLSEzeDJd-Yw=s64",
      "userId": "15898368594235905975"
     },
     "user_tz": 420
    },
    "id": "MDflTLH5U5gZ",
    "outputId": "7b00b988-8693-4b0f-d21c-fe2f611919e5"
   },
   "outputs": [
    {
     "data": {
      "text/plain": [
       "array([[0.01617481, 0.0167244 , 0.01840102, ..., 0.01607742, 0.01708617,\n",
       "        0.01932629],\n",
       "       [0.0167244 , 0.01840102, 0.01731575, ..., 0.01708617, 0.01932629,\n",
       "        0.02106552],\n",
       "       [0.01840102, 0.01731575, 0.01705834, ..., 0.01932629, 0.02106552,\n",
       "        0.01801839],\n",
       "       ...,\n",
       "       [0.89491586, 0.84249557, 0.85645117, ..., 0.88717978, 0.88080035,\n",
       "        0.89572288],\n",
       "       [0.84249557, 0.85645117, 0.86933529, ..., 0.88080035, 0.89572288,\n",
       "        0.88340222],\n",
       "       [0.85645117, 0.86933529, 0.89798388, ..., 0.89572288, 0.88340222,\n",
       "        0.89085305]])"
      ]
     },
     "execution_count": 10,
     "metadata": {
      "tags": []
     },
     "output_type": "execute_result"
    }
   ],
   "source": [
    "X_train"
   ]
  },
  {
   "cell_type": "code",
   "execution_count": 11,
   "metadata": {
    "colab": {
     "base_uri": "https://localhost:8080/"
    },
    "executionInfo": {
     "elapsed": 8,
     "status": "ok",
     "timestamp": 1622616869967,
     "user": {
      "displayName": "somya panda",
      "photoUrl": "https://lh3.googleusercontent.com/a-/AOh14GgPG3HPtIinE4WxzphAj532IXowQAFLSEzeDJd-Yw=s64",
      "userId": "15898368594235905975"
     },
     "user_tz": 420
    },
    "id": "sc8LQdguU9Ym",
    "outputId": "284e48e1-70af-48c4-eaa5-aa89a70f2a5b"
   },
   "outputs": [
    {
     "name": "stdout",
     "output_type": "stream",
     "text": [
      "X_train sample values:\n",
      "[[[0.01617481]\n",
      "  [0.0167244 ]\n",
      "  [0.01840102]\n",
      "  [0.01731575]\n",
      "  [0.01705834]\n",
      "  [0.01649482]\n",
      "  [0.01625829]\n",
      "  [0.01607742]\n",
      "  [0.01708617]\n",
      "  [0.01932629]]\n",
      "\n",
      " [[0.0167244 ]\n",
      "  [0.01840102]\n",
      "  [0.01731575]\n",
      "  [0.01705834]\n",
      "  [0.01649482]\n",
      "  [0.01625829]\n",
      "  [0.01607742]\n",
      "  [0.01708617]\n",
      "  [0.01932629]\n",
      "  [0.02106552]]\n",
      "\n",
      " [[0.01840102]\n",
      "  [0.01731575]\n",
      "  [0.01705834]\n",
      "  [0.01649482]\n",
      "  [0.01625829]\n",
      "  [0.01607742]\n",
      "  [0.01708617]\n",
      "  [0.01932629]\n",
      "  [0.02106552]\n",
      "  [0.01801839]]\n",
      "\n",
      " [[0.01731575]\n",
      "  [0.01705834]\n",
      "  [0.01649482]\n",
      "  [0.01625829]\n",
      "  [0.01607742]\n",
      "  [0.01708617]\n",
      "  [0.01932629]\n",
      "  [0.02106552]\n",
      "  [0.01801839]\n",
      "  [0.01460256]]\n",
      "\n",
      " [[0.01705834]\n",
      "  [0.01649482]\n",
      "  [0.01625829]\n",
      "  [0.01607742]\n",
      "  [0.01708617]\n",
      "  [0.01932629]\n",
      "  [0.02106552]\n",
      "  [0.01801839]\n",
      "  [0.01460256]\n",
      "  [0.01144411]]] \n",
      "\n",
      "X_test sample values:\n",
      "[[[0.04927567]\n",
      "  [0.02800928]\n",
      "  [0.02839784]\n",
      "  [0.0421762 ]\n",
      "  [0.03798421]\n",
      "  [0.04778995]\n",
      "  [0.03969393]\n",
      "  [0.04458994]\n",
      "  [0.07308376]\n",
      "  [0.08405982]]\n",
      "\n",
      " [[0.02800928]\n",
      "  [0.02839784]\n",
      "  [0.0421762 ]\n",
      "  [0.03798421]\n",
      "  [0.04778995]\n",
      "  [0.03969393]\n",
      "  [0.04458994]\n",
      "  [0.07308376]\n",
      "  [0.08405982]\n",
      "  [0.09734905]]\n",
      "\n",
      " [[0.02839784]\n",
      "  [0.0421762 ]\n",
      "  [0.03798421]\n",
      "  [0.04778995]\n",
      "  [0.03969393]\n",
      "  [0.04458994]\n",
      "  [0.07308376]\n",
      "  [0.08405982]\n",
      "  [0.09734905]\n",
      "  [0.08389983]]\n",
      "\n",
      " [[0.0421762 ]\n",
      "  [0.03798421]\n",
      "  [0.04778995]\n",
      "  [0.03969393]\n",
      "  [0.04458994]\n",
      "  [0.07308376]\n",
      "  [0.08405982]\n",
      "  [0.09734905]\n",
      "  [0.08389983]\n",
      "  [0.07949752]]\n",
      "\n",
      " [[0.03798421]\n",
      "  [0.04778995]\n",
      "  [0.03969393]\n",
      "  [0.04458994]\n",
      "  [0.07308376]\n",
      "  [0.08405982]\n",
      "  [0.09734905]\n",
      "  [0.08389983]\n",
      "  [0.07949752]\n",
      "  [0.05308825]]]\n"
     ]
    }
   ],
   "source": [
    "# Reshape the features for the model\n",
    "X_train = X_train.reshape((X_train.shape[0], X_train.shape[1], 1))\n",
    "X_test = X_test.reshape((X_test.shape[0], X_test.shape[1], 1))\n",
    "\n",
    "# Print some sample data after reshaping the datasets\n",
    "print (f\"X_train sample values:\\n{X_train[:5]} \\n\")\n",
    "print (f\"X_test sample values:\\n{X_test[:5]}\")"
   ]
  },
  {
   "cell_type": "markdown",
   "metadata": {
    "id": "V6IR61w6VXVR"
   },
   "source": [
    "## Build and Train the LSTM RNN\n",
    "In this section, we will design a custom LSTM RNN and fit (train) it using the training data.\n",
    "\n",
    "We will need to:\n",
    "\n",
    "Define the model architecture\n",
    "Compile the model\n",
    "Fit the model to the training data"
   ]
  },
  {
   "cell_type": "code",
   "execution_count": 12,
   "metadata": {
    "executionInfo": {
     "elapsed": 5,
     "status": "ok",
     "timestamp": 1622616869967,
     "user": {
      "displayName": "somya panda",
      "photoUrl": "https://lh3.googleusercontent.com/a-/AOh14GgPG3HPtIinE4WxzphAj532IXowQAFLSEzeDJd-Yw=s64",
      "userId": "15898368594235905975"
     },
     "user_tz": 420
    },
    "id": "0uL-fSpsVZg-"
   },
   "outputs": [],
   "source": [
    "from tensorflow.keras.models import Sequential\n",
    "from tensorflow.keras.layers import LSTM, Dense, Dropout\n"
   ]
  },
  {
   "cell_type": "code",
   "execution_count": 13,
   "metadata": {
    "executionInfo": {
     "elapsed": 1029,
     "status": "ok",
     "timestamp": 1622616870992,
     "user": {
      "displayName": "somya panda",
      "photoUrl": "https://lh3.googleusercontent.com/a-/AOh14GgPG3HPtIinE4WxzphAj532IXowQAFLSEzeDJd-Yw=s64",
      "userId": "15898368594235905975"
     },
     "user_tz": 420
    },
    "id": "oCw8CbKdVdmP"
   },
   "outputs": [],
   "source": [
    "# Define the LSTM RNN model\n",
    "model = Sequential()\n",
    "\n",
    "# Initial model setup\n",
    "number_units = 10\n",
    "dropout_fraction = 0.3\n",
    "\n",
    "# Layer 1\n",
    "model.add(LSTM(\n",
    "    units=number_units,\n",
    "    return_sequences=True,\n",
    "    input_shape=(X_train.shape[1], 1))\n",
    "    )\n",
    "model.add(Dropout(dropout_fraction))\n",
    "\n",
    "# Layer 2\n",
    "model.add(LSTM(\n",
    "    units=number_units, \n",
    "    return_sequences=True)\n",
    "    )\n",
    "model.add(Dropout(dropout_fraction))\n",
    "\n",
    "# Layer 3\n",
    "model.add(LSTM(\n",
    "    units=number_units)\n",
    "    )\n",
    "model.add(Dropout(dropout_fraction))\n",
    "\n",
    "# Output layer\n",
    "model.add(Dense(1))"
   ]
  },
  {
   "cell_type": "code",
   "execution_count": 14,
   "metadata": {
    "executionInfo": {
     "elapsed": 13,
     "status": "ok",
     "timestamp": 1622616870998,
     "user": {
      "displayName": "somya panda",
      "photoUrl": "https://lh3.googleusercontent.com/a-/AOh14GgPG3HPtIinE4WxzphAj532IXowQAFLSEzeDJd-Yw=s64",
      "userId": "15898368594235905975"
     },
     "user_tz": 420
    },
    "id": "wjFa-wq9VvL4"
   },
   "outputs": [],
   "source": [
    "# Compile the model\n",
    "model.compile(optimizer=\"adam\", loss=\"mean_squared_error\")"
   ]
  },
  {
   "cell_type": "code",
   "execution_count": 15,
   "metadata": {
    "colab": {
     "base_uri": "https://localhost:8080/"
    },
    "executionInfo": {
     "elapsed": 10,
     "status": "ok",
     "timestamp": 1622616870998,
     "user": {
      "displayName": "somya panda",
      "photoUrl": "https://lh3.googleusercontent.com/a-/AOh14GgPG3HPtIinE4WxzphAj532IXowQAFLSEzeDJd-Yw=s64",
      "userId": "15898368594235905975"
     },
     "user_tz": 420
    },
    "id": "0pSdsutEVyrv",
    "outputId": "7c604915-ada4-4bc5-ceca-e58a618cfd65"
   },
   "outputs": [
    {
     "name": "stdout",
     "output_type": "stream",
     "text": [
      "Model: \"sequential\"\n",
      "_________________________________________________________________\n",
      "Layer (type)                 Output Shape              Param #   \n",
      "=================================================================\n",
      "lstm (LSTM)                  (None, 10, 10)            480       \n",
      "_________________________________________________________________\n",
      "dropout (Dropout)            (None, 10, 10)            0         \n",
      "_________________________________________________________________\n",
      "lstm_1 (LSTM)                (None, 10, 10)            840       \n",
      "_________________________________________________________________\n",
      "dropout_1 (Dropout)          (None, 10, 10)            0         \n",
      "_________________________________________________________________\n",
      "lstm_2 (LSTM)                (None, 10)                840       \n",
      "_________________________________________________________________\n",
      "dropout_2 (Dropout)          (None, 10)                0         \n",
      "_________________________________________________________________\n",
      "dense (Dense)                (None, 1)                 11        \n",
      "=================================================================\n",
      "Total params: 2,171\n",
      "Trainable params: 2,171\n",
      "Non-trainable params: 0\n",
      "_________________________________________________________________\n"
     ]
    }
   ],
   "source": [
    "# Summarize the model\n",
    "model.summary()\n"
   ]
  },
  {
   "cell_type": "code",
   "execution_count": 16,
   "metadata": {
    "colab": {
     "base_uri": "https://localhost:8080/"
    },
    "executionInfo": {
     "elapsed": 143401,
     "status": "ok",
     "timestamp": 1622617014391,
     "user": {
      "displayName": "somya panda",
      "photoUrl": "https://lh3.googleusercontent.com/a-/AOh14GgPG3HPtIinE4WxzphAj532IXowQAFLSEzeDJd-Yw=s64",
      "userId": "15898368594235905975"
     },
     "user_tz": 420
    },
    "id": "2PY-c2EeV0on",
    "outputId": "717abe5a-0554-420e-96e9-3cbb0558e2e4"
   },
   "outputs": [
    {
     "name": "stdout",
     "output_type": "stream",
     "text": [
      "Epoch 1/10\n",
      "1824/1824 [==============================] - 17s 7ms/step - loss: 0.0011\n",
      "Epoch 2/10\n",
      "1824/1824 [==============================] - 14s 8ms/step - loss: 0.0072\n",
      "Epoch 3/10\n",
      "1824/1824 [==============================] - 14s 7ms/step - loss: 0.0062\n",
      "Epoch 4/10\n",
      "1824/1824 [==============================] - 14s 8ms/step - loss: 0.0036\n",
      "Epoch 5/10\n",
      "1824/1824 [==============================] - 14s 7ms/step - loss: 0.0034\n",
      "Epoch 6/10\n",
      "1824/1824 [==============================] - 14s 8ms/step - loss: 0.0034\n",
      "Epoch 7/10\n",
      "1824/1824 [==============================] - 14s 7ms/step - loss: 0.0030\n",
      "Epoch 8/10\n",
      "1824/1824 [==============================] - 15s 8ms/step - loss: 0.0032\n",
      "Epoch 9/10\n",
      "1824/1824 [==============================] - 14s 8ms/step - loss: 0.0034\n",
      "Epoch 10/10\n",
      "1824/1824 [==============================] - 14s 8ms/step - loss: 0.0029\n"
     ]
    },
    {
     "data": {
      "text/plain": [
       "<tensorflow.python.keras.callbacks.History at 0x7f280d308110>"
      ]
     },
     "execution_count": 16,
     "metadata": {
      "tags": []
     },
     "output_type": "execute_result"
    }
   ],
   "source": [
    "# Train the model\n",
    "model.fit(X_train, y_train, epochs=10, shuffle=False, batch_size=1, verbose=1)"
   ]
  },
  {
   "cell_type": "markdown",
   "metadata": {
    "id": "hz6t-JPVXufO"
   },
   "source": [
    "## Model Performance\n",
    "In this section, you will evaluate the model using the test data.\n",
    "\n",
    "You will need to:\n",
    "\n",
    "Evaluate the model using the X_test and y_test data.\n",
    "Use the X_test data to make predictions\n",
    "Create a DataFrame of Real (y_test) vs predicted values.\n",
    "Plot the Real vs predicted values as a line chart\n"
   ]
  },
  {
   "cell_type": "code",
   "execution_count": 17,
   "metadata": {
    "colab": {
     "base_uri": "https://localhost:8080/"
    },
    "executionInfo": {
     "elapsed": 1514,
     "status": "ok",
     "timestamp": 1622617015900,
     "user": {
      "displayName": "somya panda",
      "photoUrl": "https://lh3.googleusercontent.com/a-/AOh14GgPG3HPtIinE4WxzphAj532IXowQAFLSEzeDJd-Yw=s64",
      "userId": "15898368594235905975"
     },
     "user_tz": 420
    },
    "id": "tz3Q2enBXwId",
    "outputId": "74e65453-01b8-4270-9574-4d97b6c88df6"
   },
   "outputs": [
    {
     "name": "stdout",
     "output_type": "stream",
     "text": [
      "25/25 [==============================] - 1s 3ms/step - loss: 0.0594\n"
     ]
    },
    {
     "data": {
      "text/plain": [
       "0.05935908481478691"
      ]
     },
     "execution_count": 17,
     "metadata": {
      "tags": []
     },
     "output_type": "execute_result"
    }
   ],
   "source": [
    "# Evaluate the model\n",
    "model.evaluate(X_test, y_test)"
   ]
  },
  {
   "cell_type": "code",
   "execution_count": 18,
   "metadata": {
    "executionInfo": {
     "elapsed": 1079,
     "status": "ok",
     "timestamp": 1622617016975,
     "user": {
      "displayName": "somya panda",
      "photoUrl": "https://lh3.googleusercontent.com/a-/AOh14GgPG3HPtIinE4WxzphAj532IXowQAFLSEzeDJd-Yw=s64",
      "userId": "15898368594235905975"
     },
     "user_tz": 420
    },
    "id": "Fy67nZHbXzFD"
   },
   "outputs": [],
   "source": [
    "# Make some predictions\n",
    "predicted = model.predict(X_test)"
   ]
  },
  {
   "cell_type": "code",
   "execution_count": 19,
   "metadata": {
    "executionInfo": {
     "elapsed": 3,
     "status": "ok",
     "timestamp": 1622617016975,
     "user": {
      "displayName": "somya panda",
      "photoUrl": "https://lh3.googleusercontent.com/a-/AOh14GgPG3HPtIinE4WxzphAj532IXowQAFLSEzeDJd-Yw=s64",
      "userId": "15898368594235905975"
     },
     "user_tz": 420
    },
    "id": "mB8JtzN-X18I"
   },
   "outputs": [],
   "source": [
    "# Recover the original prices instead of the scaled version\n",
    "predicted_prices = y_test_scaler.inverse_transform(predicted)\n",
    "actual_prices = y_test_scaler.inverse_transform(y_test.reshape(-1, 1))"
   ]
  },
  {
   "cell_type": "code",
   "execution_count": 21,
   "metadata": {
    "colab": {
     "base_uri": "https://localhost:8080/",
     "height": 235
    },
    "executionInfo": {
     "elapsed": 146,
     "status": "ok",
     "timestamp": 1622617040818,
     "user": {
      "displayName": "somya panda",
      "photoUrl": "https://lh3.googleusercontent.com/a-/AOh14GgPG3HPtIinE4WxzphAj532IXowQAFLSEzeDJd-Yw=s64",
      "userId": "15898368594235905975"
     },
     "user_tz": 420
    },
    "id": "2AHU71n_X5Fc",
    "outputId": "715edc35-847f-4db5-d2f7-a0bbd45a6b5e"
   },
   "outputs": [
    {
     "data": {
      "text/html": [
       "<div>\n",
       "<style scoped>\n",
       "    .dataframe tbody tr th:only-of-type {\n",
       "        vertical-align: middle;\n",
       "    }\n",
       "\n",
       "    .dataframe tbody tr th {\n",
       "        vertical-align: top;\n",
       "    }\n",
       "\n",
       "    .dataframe thead th {\n",
       "        text-align: right;\n",
       "    }\n",
       "</style>\n",
       "<table border=\"1\" class=\"dataframe\">\n",
       "  <thead>\n",
       "    <tr style=\"text-align: right;\">\n",
       "      <th></th>\n",
       "      <th>Actual</th>\n",
       "      <th>Predicted</th>\n",
       "    </tr>\n",
       "    <tr>\n",
       "      <th>Date</th>\n",
       "      <th></th>\n",
       "      <th></th>\n",
       "    </tr>\n",
       "  </thead>\n",
       "  <tbody>\n",
       "    <tr>\n",
       "      <th>2018-04-20</th>\n",
       "      <td>1556.910034</td>\n",
       "      <td>2109.520508</td>\n",
       "    </tr>\n",
       "    <tr>\n",
       "      <th>2018-04-23</th>\n",
       "      <td>1527.489990</td>\n",
       "      <td>2112.161133</td>\n",
       "    </tr>\n",
       "    <tr>\n",
       "      <th>2018-04-24</th>\n",
       "      <td>1517.859985</td>\n",
       "      <td>2117.098389</td>\n",
       "    </tr>\n",
       "    <tr>\n",
       "      <th>2018-04-25</th>\n",
       "      <td>1460.089966</td>\n",
       "      <td>2122.405029</td>\n",
       "    </tr>\n",
       "    <tr>\n",
       "      <th>2018-04-26</th>\n",
       "      <td>1460.170044</td>\n",
       "      <td>2126.054199</td>\n",
       "    </tr>\n",
       "  </tbody>\n",
       "</table>\n",
       "</div>"
      ],
      "text/plain": [
       "                 Actual    Predicted\n",
       "Date                                \n",
       "2018-04-20  1556.910034  2109.520508\n",
       "2018-04-23  1527.489990  2112.161133\n",
       "2018-04-24  1517.859985  2117.098389\n",
       "2018-04-25  1460.089966  2122.405029\n",
       "2018-04-26  1460.170044  2126.054199"
      ]
     },
     "execution_count": 21,
     "metadata": {
      "tags": []
     },
     "output_type": "execute_result"
    }
   ],
   "source": [
    "# Create a DataFrame of Real and Predicted values\n",
    "amzn_stocks = pd.DataFrame({\n",
    "    \"Actual\": actual_prices.ravel(),\n",
    "    \"Predicted\": predicted_prices.ravel()\n",
    "}, index = amzn_closing_df.index[-len(actual_prices): ]) \n",
    "amzn_stocks.head()"
   ]
  },
  {
   "cell_type": "code",
   "execution_count": 22,
   "metadata": {
    "colab": {
     "base_uri": "https://localhost:8080/",
     "height": 294
    },
    "executionInfo": {
     "elapsed": 588,
     "status": "ok",
     "timestamp": 1622617045040,
     "user": {
      "displayName": "somya panda",
      "photoUrl": "https://lh3.googleusercontent.com/a-/AOh14GgPG3HPtIinE4WxzphAj532IXowQAFLSEzeDJd-Yw=s64",
      "userId": "15898368594235905975"
     },
     "user_tz": 420
    },
    "id": "xObj5U_OcQyD",
    "outputId": "c7cd1bc3-599d-4eef-92b1-606b0f878786"
   },
   "outputs": [
    {
     "data": {
      "text/plain": [
       "<matplotlib.axes._subplots.AxesSubplot at 0x7f2808e4fb10>"
      ]
     },
     "execution_count": 22,
     "metadata": {
      "tags": []
     },
     "output_type": "execute_result"
    },
    {
     "data": {
      "image/png": "[encoded data removed]",
      "text/plain": [
       "<Figure size 432x288 with 1 Axes>"
      ]
     },
     "metadata": {
      "needs_background": "light",
      "tags": []
     },
     "output_type": "display_data"
    }
   ],
   "source": [
    "amzn_stocks.plot()"
   ]
  }
 ],
 "metadata": {
  "colab": {
   "collapsed_sections": [],
   "name": "lstm_amzn_predictor_closing_prices.ipynb",
   "provenance": []
  },
  "kernelspec": {
   "display_name": "Python 3",
   "language": "python",
   "name": "python3"
  },
  "language_info": {
   "codemirror_mode": {
    "name": "ipython",
    "version": 3
   },
   "file_extension": ".py",
   "mimetype": "text/x-python",
   "name": "python",
   "nbconvert_exporter": "python",
   "pygments_lexer": "ipython3",
   "version": "3.7.7"
  }
 },
 "nbformat": 4,
 "nbformat_minor": 4
}
