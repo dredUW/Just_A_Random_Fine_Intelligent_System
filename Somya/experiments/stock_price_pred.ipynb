{
 "cells": [
  {
   "cell_type": "code",
   "execution_count": 1,
   "metadata": {},
   "outputs": [],
   "source": [
    "# Import Libraries\n",
    "import yfinance as yf\n",
    "import pandas as pd\n",
    "from matplotlib import pyplot as plt\n",
    "import numpy as np\n",
    "%matplotlib inline\n",
    "from pandas import DataFrame\n",
    "from sklearn.metrics import mean_squared_error\n",
    "import warnings\n",
    "warnings.filterwarnings('ignore')"
   ]
  },
  {
   "cell_type": "code",
   "execution_count": 2,
   "metadata": {},
   "outputs": [],
   "source": [
    "STOCK_TICKER = 'AMZN'"
   ]
  },
  {
   "cell_type": "code",
   "execution_count": 3,
   "metadata": {},
   "outputs": [
    {
     "name": "stdout",
     "output_type": "stream",
     "text": [
      "[*********************100%***********************]  1 of 1 completed\n"
     ]
    },
    {
     "data": {
      "text/html": [
       "<div>\n",
       "<style scoped>\n",
       "    .dataframe tbody tr th:only-of-type {\n",
       "        vertical-align: middle;\n",
       "    }\n",
       "\n",
       "    .dataframe tbody tr th {\n",
       "        vertical-align: top;\n",
       "    }\n",
       "\n",
       "    .dataframe thead th {\n",
       "        text-align: right;\n",
       "    }\n",
       "</style>\n",
       "<table border=\"1\" class=\"dataframe\">\n",
       "  <thead>\n",
       "    <tr style=\"text-align: right;\">\n",
       "      <th></th>\n",
       "      <th>Open</th>\n",
       "      <th>High</th>\n",
       "      <th>Low</th>\n",
       "      <th>Close</th>\n",
       "      <th>Adj Close</th>\n",
       "      <th>Volume</th>\n",
       "    </tr>\n",
       "    <tr>\n",
       "      <th>Date</th>\n",
       "      <th></th>\n",
       "      <th></th>\n",
       "      <th></th>\n",
       "      <th></th>\n",
       "      <th></th>\n",
       "      <th></th>\n",
       "    </tr>\n",
       "  </thead>\n",
       "  <tbody>\n",
       "    <tr>\n",
       "      <th>2011-01-03</th>\n",
       "      <td>181.369995</td>\n",
       "      <td>186.000000</td>\n",
       "      <td>181.210007</td>\n",
       "      <td>184.220001</td>\n",
       "      <td>184.220001</td>\n",
       "      <td>5331400</td>\n",
       "    </tr>\n",
       "    <tr>\n",
       "      <th>2011-01-04</th>\n",
       "      <td>186.149994</td>\n",
       "      <td>187.699997</td>\n",
       "      <td>183.779999</td>\n",
       "      <td>185.009995</td>\n",
       "      <td>185.009995</td>\n",
       "      <td>5031800</td>\n",
       "    </tr>\n",
       "    <tr>\n",
       "      <th>2011-01-05</th>\n",
       "      <td>184.100006</td>\n",
       "      <td>187.449997</td>\n",
       "      <td>184.070007</td>\n",
       "      <td>187.419998</td>\n",
       "      <td>187.419998</td>\n",
       "      <td>3418800</td>\n",
       "    </tr>\n",
       "    <tr>\n",
       "      <th>2011-01-06</th>\n",
       "      <td>186.500000</td>\n",
       "      <td>187.410004</td>\n",
       "      <td>185.250000</td>\n",
       "      <td>185.860001</td>\n",
       "      <td>185.860001</td>\n",
       "      <td>3179700</td>\n",
       "    </tr>\n",
       "    <tr>\n",
       "      <th>2011-01-07</th>\n",
       "      <td>187.880005</td>\n",
       "      <td>188.449997</td>\n",
       "      <td>183.740005</td>\n",
       "      <td>185.490005</td>\n",
       "      <td>185.490005</td>\n",
       "      <td>5221700</td>\n",
       "    </tr>\n",
       "    <tr>\n",
       "      <th>...</th>\n",
       "      <td>...</td>\n",
       "      <td>...</td>\n",
       "      <td>...</td>\n",
       "      <td>...</td>\n",
       "      <td>...</td>\n",
       "      <td>...</td>\n",
       "    </tr>\n",
       "    <tr>\n",
       "      <th>2021-05-24</th>\n",
       "      <td>3215.500000</td>\n",
       "      <td>3257.949951</td>\n",
       "      <td>3210.500000</td>\n",
       "      <td>3244.989990</td>\n",
       "      <td>3244.989990</td>\n",
       "      <td>2422800</td>\n",
       "    </tr>\n",
       "    <tr>\n",
       "      <th>2021-05-25</th>\n",
       "      <td>3266.669922</td>\n",
       "      <td>3279.820068</td>\n",
       "      <td>3213.760010</td>\n",
       "      <td>3259.050049</td>\n",
       "      <td>3259.050049</td>\n",
       "      <td>3261100</td>\n",
       "    </tr>\n",
       "    <tr>\n",
       "      <th>2021-05-26</th>\n",
       "      <td>3274.590088</td>\n",
       "      <td>3295.729980</td>\n",
       "      <td>3258.510010</td>\n",
       "      <td>3265.159912</td>\n",
       "      <td>3265.159912</td>\n",
       "      <td>2384000</td>\n",
       "    </tr>\n",
       "    <tr>\n",
       "      <th>2021-05-27</th>\n",
       "      <td>3256.000000</td>\n",
       "      <td>3260.360107</td>\n",
       "      <td>3230.040039</td>\n",
       "      <td>3230.110107</td>\n",
       "      <td>3230.110107</td>\n",
       "      <td>2555400</td>\n",
       "    </tr>\n",
       "    <tr>\n",
       "      <th>2021-05-28</th>\n",
       "      <td>3242.000000</td>\n",
       "      <td>3247.989990</td>\n",
       "      <td>3219.699951</td>\n",
       "      <td>3223.070068</td>\n",
       "      <td>3223.070068</td>\n",
       "      <td>2329800</td>\n",
       "    </tr>\n",
       "  </tbody>\n",
       "</table>\n",
       "<p>2619 rows × 6 columns</p>\n",
       "</div>"
      ],
      "text/plain": [
       "                   Open         High          Low        Close    Adj Close  \\\n",
       "Date                                                                          \n",
       "2011-01-03   181.369995   186.000000   181.210007   184.220001   184.220001   \n",
       "2011-01-04   186.149994   187.699997   183.779999   185.009995   185.009995   \n",
       "2011-01-05   184.100006   187.449997   184.070007   187.419998   187.419998   \n",
       "2011-01-06   186.500000   187.410004   185.250000   185.860001   185.860001   \n",
       "2011-01-07   187.880005   188.449997   183.740005   185.490005   185.490005   \n",
       "...                 ...          ...          ...          ...          ...   \n",
       "2021-05-24  3215.500000  3257.949951  3210.500000  3244.989990  3244.989990   \n",
       "2021-05-25  3266.669922  3279.820068  3213.760010  3259.050049  3259.050049   \n",
       "2021-05-26  3274.590088  3295.729980  3258.510010  3265.159912  3265.159912   \n",
       "2021-05-27  3256.000000  3260.360107  3230.040039  3230.110107  3230.110107   \n",
       "2021-05-28  3242.000000  3247.989990  3219.699951  3223.070068  3223.070068   \n",
       "\n",
       "             Volume  \n",
       "Date                 \n",
       "2011-01-03  5331400  \n",
       "2011-01-04  5031800  \n",
       "2011-01-05  3418800  \n",
       "2011-01-06  3179700  \n",
       "2011-01-07  5221700  \n",
       "...             ...  \n",
       "2021-05-24  2422800  \n",
       "2021-05-25  3261100  \n",
       "2021-05-26  2384000  \n",
       "2021-05-27  2555400  \n",
       "2021-05-28  2329800  \n",
       "\n",
       "[2619 rows x 6 columns]"
      ]
     },
     "execution_count": 3,
     "metadata": {},
     "output_type": "execute_result"
    }
   ],
   "source": [
    "# Load the Amazon closing prices data\n",
    "stock_df = yf.download(STOCK_TICKER, start=\"2011-01-01\", end=\"2021-05-31\")\n",
    "stock_df"
   ]
  },
  {
   "cell_type": "code",
   "execution_count": 4,
   "metadata": {},
   "outputs": [],
   "source": [
    "stock_df.to_csv('Resources/amzn_closing_prices.csv')"
   ]
  },
  {
   "cell_type": "code",
   "execution_count": 5,
   "metadata": {},
   "outputs": [
    {
     "data": {
      "image/png": "[encoded data removed]",
      "text/plain": [
       "<Figure size 864x576 with 1 Axes>"
      ]
     },
     "metadata": {
      "needs_background": "light"
     },
     "output_type": "display_data"
    }
   ],
   "source": [
    "# Plot just the \"Close\" column from the dataframe:\n",
    "stock_df['Close'].plot(\n",
    "    title='Amazon Closing Prices', \n",
    "    legend='Close', \n",
    "    figsize=(12, 8))\n",
    "plt.margins(x=0)"
   ]
  },
  {
   "cell_type": "markdown",
   "metadata": {},
   "source": [
    "From the above graph, we observe an upward trend in the long-term. The above time series plot also suggests that the time series is not stationary and will require differencing to make it stationary, at least a difference order of 1. "
   ]
  },
  {
   "cell_type": "code",
   "execution_count": null,
   "metadata": {},
   "outputs": [],
   "source": []
  }
 ],
 "metadata": {
  "kernelspec": {
   "display_name": "Python 3",
   "language": "python",
   "name": "python3"
  },
  "language_info": {
   "codemirror_mode": {
    "name": "ipython",
    "version": 3
   },
   "file_extension": ".py",
   "mimetype": "text/x-python",
   "name": "python",
   "nbconvert_exporter": "python",
   "pygments_lexer": "ipython3",
   "version": "3.7.7"
  }
 },
 "nbformat": 4,
 "nbformat_minor": 4
}
