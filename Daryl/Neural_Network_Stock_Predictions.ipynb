{
 "cells": [
  {
   "cell_type": "code",
   "execution_count": 83,
   "metadata": {},
   "outputs": [],
   "source": [
    "#Imports\n",
    "import pandas as pd\n",
    "import numpy as np\n",
    "import yfinance as yf\n",
    "from sklearn.preprocessing import MinMaxScaler\n",
    "import plotly.express as px"
   ]
  },
  {
   "cell_type": "code",
   "execution_count": 84,
   "metadata": {},
   "outputs": [],
   "source": [
    "#Function to pull in stock data\n",
    "def stock_data(ticker, start_date, end_date, drop_extra_cols = True):\n",
    "    try:\n",
    "        # get ticker object\n",
    "        ticker_data = yf.Ticker(ticker)\n",
    "        # fetch data between start date ane end date\n",
    "        df = ticker_data.history(start=start_date, end=end_date)\n",
    "        # Drop unnecessary columns\n",
    "        if len(df) > 0 and drop_extra_cols:\n",
    "            df = df.drop([\"Open\", \"High\", \"Low\", \"Volume\", \"Dividends\", \"Stock Splits\" ], axis=1)\n",
    "        return df\n",
    "    \n",
    "    except Exception as e:\n",
    "        print(f\"ERROR: An Error occurred while fetching and formatting data for {ticker} from yfinance  \\n DETAILS: {repr(e)}\")\n",
    "        raise\n",
    "        "
   ]
  },
  {
   "cell_type": "code",
   "execution_count": 88,
   "metadata": {},
   "outputs": [
    {
     "data": {
      "text/html": [
       "<div>\n",
       "<style scoped>\n",
       "    .dataframe tbody tr th:only-of-type {\n",
       "        vertical-align: middle;\n",
       "    }\n",
       "\n",
       "    .dataframe tbody tr th {\n",
       "        vertical-align: top;\n",
       "    }\n",
       "\n",
       "    .dataframe thead th {\n",
       "        text-align: right;\n",
       "    }\n",
       "</style>\n",
       "<table border=\"1\" class=\"dataframe\">\n",
       "  <thead>\n",
       "    <tr style=\"text-align: right;\">\n",
       "      <th></th>\n",
       "      <th>Close</th>\n",
       "      <th>Daily Return</th>\n",
       "      <th>Rolling Std Dev</th>\n",
       "      <th>Trading Signal</th>\n",
       "    </tr>\n",
       "    <tr>\n",
       "      <th>Date</th>\n",
       "      <th></th>\n",
       "      <th></th>\n",
       "      <th></th>\n",
       "      <th></th>\n",
       "    </tr>\n",
       "  </thead>\n",
       "  <tbody>\n",
       "    <tr>\n",
       "      <th>2010-03-08</th>\n",
       "      <td>22.299732</td>\n",
       "      <td>0.001399</td>\n",
       "      <td>0.009701</td>\n",
       "      <td>1.0</td>\n",
       "    </tr>\n",
       "    <tr>\n",
       "      <th>2010-03-09</th>\n",
       "      <td>22.432144</td>\n",
       "      <td>0.005938</td>\n",
       "      <td>0.003408</td>\n",
       "      <td>1.0</td>\n",
       "    </tr>\n",
       "    <tr>\n",
       "      <th>2010-03-10</th>\n",
       "      <td>22.564558</td>\n",
       "      <td>0.005903</td>\n",
       "      <td>0.003399</td>\n",
       "      <td>1.0</td>\n",
       "    </tr>\n",
       "    <tr>\n",
       "      <th>2010-03-11</th>\n",
       "      <td>22.728130</td>\n",
       "      <td>0.007249</td>\n",
       "      <td>0.003663</td>\n",
       "      <td>1.0</td>\n",
       "    </tr>\n",
       "    <tr>\n",
       "      <th>2010-03-12</th>\n",
       "      <td>22.798235</td>\n",
       "      <td>0.003084</td>\n",
       "      <td>0.002397</td>\n",
       "      <td>1.0</td>\n",
       "    </tr>\n",
       "  </tbody>\n",
       "</table>\n",
       "</div>"
      ],
      "text/plain": [
       "                Close  Daily Return  Rolling Std Dev  Trading Signal\n",
       "Date                                                                \n",
       "2010-03-08  22.299732      0.001399         0.009701             1.0\n",
       "2010-03-09  22.432144      0.005938         0.003408             1.0\n",
       "2010-03-10  22.564558      0.005903         0.003399             1.0\n",
       "2010-03-11  22.728130      0.007249         0.003663             1.0\n",
       "2010-03-12  22.798235      0.003084         0.002397             1.0"
      ]
     },
     "execution_count": 88,
     "metadata": {},
     "output_type": "execute_result"
    }
   ],
   "source": [
    "#Get stock data \n",
    "# Calculate daily return and rolling standard deviation\n",
    "# Generate trading signals, when daily return > 0 that's a buy signal or 1 and when daily return < 0 that's a sell \n",
    "#signal or 0\n",
    "# rolling window should equal the window size \n",
    "window = 5\n",
    "start_date = \"2010-03-01\"\n",
    "end_date = \"2017-12-31\"\n",
    "ticker = \"MSFT\"\n",
    "ticker_df = stock_data(ticker, start_date, end_date, drop_extra_cols = True)\n",
    "\n",
    "ticker_df[\"Daily Return\"] = ticker_df[\"Close\"].pct_change()\n",
    "ticker_df[\"Rolling Std Dev\"] = ticker_df[\"Daily Return\"].rolling(window = window).std()\n",
    "ticker_df[\"Trading Signal\"] = 0.0\n",
    "ticker_df[\"Trading Signal\"] = np.where(\n",
    "    ticker_df[\"Daily Return\"] > 0, 1.0, 0\n",
    ")\n",
    "ticker_df.dropna(inplace=True)\n",
    "ticker_df.head()"
   ]
  },
  {
   "cell_type": "code",
   "execution_count": 104,
   "metadata": {},
   "outputs": [],
   "source": [
    "#Function that returns numpy array for X and y\n",
    "def window_data(df, window, feature_col_number, target_col_number):\n",
    "    \n",
    "    X = []\n",
    "    y = []\n",
    "    for i in range(len(df) - window):\n",
    "        features = df.iloc[i : (i + window), feature_col_number]\n",
    "        target = df.iloc[(i + window), target_col_number]\n",
    "        X.append(features)\n",
    "        y.append(target)\n",
    "    return np.array(X), np.array(y).reshape(-1, 1)"
   ]
  },
  {
   "cell_type": "code",
   "execution_count": 105,
   "metadata": {},
   "outputs": [],
   "source": [
    "# Creating the features (X) and target (y) data using the window_data() function.\n",
    "# Here we are using previous returns to predict future returns \n",
    "window_size = window\n",
    "\n",
    "feature_column = 1\n",
    "target_column = 1\n",
    "X, y = window_data(ticker_df, window_size, feature_column, target_column)\n",
    "#print (f\"X sample values:\\n{X[:5]} \\n\")\n",
    "#print (f\"y sample values:\\n{y[:5]}\")"
   ]
  },
  {
   "cell_type": "code",
   "execution_count": 106,
   "metadata": {},
   "outputs": [],
   "source": [
    "#split the data into training data and testing data\n",
    "split = int(0.7 * len(X))\n",
    "X_train = X[: split]\n",
    "X_test = X[split:]\n",
    "y_train = y[: split]\n",
    "y_test = y[split:]"
   ]
  },
  {
   "cell_type": "code",
   "execution_count": 107,
   "metadata": {},
   "outputs": [],
   "source": [
    "# Scale data between 0 and 1.\n",
    "scaler = MinMaxScaler()\n",
    "scaler.fit(X)\n",
    "X_train = scaler.transform(X_train)\n",
    "X_test = scaler.transform(X_test)\n",
    "scaler.fit(y)\n",
    "y_train = scaler.transform(y_train)\n",
    "y_test = scaler.transform(y_test)"
   ]
  },
  {
   "cell_type": "code",
   "execution_count": 108,
   "metadata": {},
   "outputs": [],
   "source": [
    "# Reshape the features into a vertical vector so they work for the LSTM model\n",
    "X_train = X_train.reshape((X_train.shape[0], X_train.shape[1], 1))\n",
    "X_test = X_test.reshape((X_test.shape[0], X_test.shape[1], 1))\n",
    "#print (f\"X_train sample values:\\n{X_train[:5]} \\n\")\n",
    "#print (f\"X_test sample values:\\n{X_test[:5]}\")"
   ]
  },
  {
   "cell_type": "code",
   "execution_count": 109,
   "metadata": {},
   "outputs": [],
   "source": [
    "#Import the models\n",
    "from tensorflow.keras.models import Sequential\n",
    "from tensorflow.keras.layers import LSTM, Dense, Dropout"
   ]
  },
  {
   "cell_type": "code",
   "execution_count": 110,
   "metadata": {},
   "outputs": [],
   "source": [
    "# Define the LSTM RNN model.\n",
    "model = Sequential()\n",
    "\n",
    "# Initial model setup\n",
    "#number of units should equal the window size\n",
    "number_units = window\n",
    "dropout_fraction = 0.2\n",
    "\n",
    "# Layer 1\n",
    "model.add(LSTM(\n",
    "    units=number_units,\n",
    "    return_sequences=True,\n",
    "    input_shape=(X_train.shape[1], 1))\n",
    "    )\n",
    "model.add(Dropout(dropout_fraction))\n",
    "\n",
    "# Layer 2\n",
    "model.add(LSTM(units=number_units, return_sequences=True))\n",
    "model.add(Dropout(dropout_fraction))\n",
    "\n",
    "# Layer 3\n",
    "model.add(LSTM(units=number_units, return_sequences=True))\n",
    "model.add(Dropout(dropout_fraction))\n",
    "\n",
    "# Layer 4\n",
    "model.add(LSTM(units=number_units))\n",
    "model.add(Dropout(dropout_fraction))\n",
    "\n",
    "# Output layer\n",
    "model.add(Dense(1))"
   ]
  },
  {
   "cell_type": "code",
   "execution_count": 111,
   "metadata": {},
   "outputs": [],
   "source": [
    "# Compile the model\n",
    "model.compile(optimizer=\"adam\", loss=\"mean_squared_error\")"
   ]
  },
  {
   "cell_type": "code",
   "execution_count": 112,
   "metadata": {},
   "outputs": [
    {
     "name": "stdout",
     "output_type": "stream",
     "text": [
      "Model: \"sequential_7\"\n",
      "_________________________________________________________________\n",
      "Layer (type)                 Output Shape              Param #   \n",
      "=================================================================\n",
      "lstm_28 (LSTM)               (None, 5, 5)              140       \n",
      "_________________________________________________________________\n",
      "dropout_28 (Dropout)         (None, 5, 5)              0         \n",
      "_________________________________________________________________\n",
      "lstm_29 (LSTM)               (None, 5, 5)              220       \n",
      "_________________________________________________________________\n",
      "dropout_29 (Dropout)         (None, 5, 5)              0         \n",
      "_________________________________________________________________\n",
      "lstm_30 (LSTM)               (None, 5, 5)              220       \n",
      "_________________________________________________________________\n",
      "dropout_30 (Dropout)         (None, 5, 5)              0         \n",
      "_________________________________________________________________\n",
      "lstm_31 (LSTM)               (None, 5)                 220       \n",
      "_________________________________________________________________\n",
      "dropout_31 (Dropout)         (None, 5)                 0         \n",
      "_________________________________________________________________\n",
      "dense_7 (Dense)              (None, 1)                 6         \n",
      "=================================================================\n",
      "Total params: 806\n",
      "Trainable params: 806\n",
      "Non-trainable params: 0\n",
      "_________________________________________________________________\n"
     ]
    }
   ],
   "source": [
    "# Show the model summary\n",
    "model.summary()"
   ]
  },
  {
   "cell_type": "code",
   "execution_count": 113,
   "metadata": {},
   "outputs": [
    {
     "name": "stdout",
     "output_type": "stream",
     "text": [
      "Epoch 1/10\n",
      "16/16 [==============================] - 4s 6ms/step - loss: 0.2392\n",
      "Epoch 2/10\n",
      "16/16 [==============================] - 0s 6ms/step - loss: 0.1672\n",
      "Epoch 3/10\n",
      "16/16 [==============================] - 0s 6ms/step - loss: 0.0891\n",
      "Epoch 4/10\n",
      "16/16 [==============================] - 0s 6ms/step - loss: 0.0296\n",
      "Epoch 5/10\n",
      "16/16 [==============================] - 0s 6ms/step - loss: 0.0222\n",
      "Epoch 6/10\n",
      "16/16 [==============================] - 0s 6ms/step - loss: 0.0196\n",
      "Epoch 7/10\n",
      "16/16 [==============================] - 0s 6ms/step - loss: 0.0202\n",
      "Epoch 8/10\n",
      "16/16 [==============================] - 0s 6ms/step - loss: 0.0184\n",
      "Epoch 9/10\n",
      "16/16 [==============================] - 0s 6ms/step - loss: 0.0180\n",
      "Epoch 10/10\n",
      "16/16 [==============================] - 0s 6ms/step - loss: 0.0178\n"
     ]
    },
    {
     "data": {
      "text/plain": [
       "<tensorflow.python.keras.callbacks.History at 0x13c343e88c8>"
      ]
     },
     "execution_count": 113,
     "metadata": {},
     "output_type": "execute_result"
    }
   ],
   "source": [
    "# Train the model\n",
    "model.fit(X_train, y_train, epochs=10, shuffle=False, batch_size=90, verbose=1)"
   ]
  },
  {
   "cell_type": "code",
   "execution_count": 114,
   "metadata": {},
   "outputs": [
    {
     "data": {
      "text/plain": [
       "0.0045165098272264"
      ]
     },
     "execution_count": 114,
     "metadata": {},
     "output_type": "execute_result"
    }
   ],
   "source": [
    "# Evaluate the model\n",
    "model.evaluate(X_test, y_test, verbose=0)"
   ]
  },
  {
   "cell_type": "code",
   "execution_count": 115,
   "metadata": {},
   "outputs": [],
   "source": [
    "# Make predictions using the testing data X_test\n",
    "predicted = model.predict(X_test)"
   ]
  },
  {
   "cell_type": "code",
   "execution_count": 116,
   "metadata": {},
   "outputs": [],
   "source": [
    "# Recover the original returns instead of the scaled version\n",
    "predicted_prices = scaler.inverse_transform(predicted)\n",
    "real_prices = scaler.inverse_transform(y_test.reshape(-1, 1))"
   ]
  },
  {
   "cell_type": "code",
   "execution_count": 119,
   "metadata": {},
   "outputs": [
    {
     "data": {
      "text/html": [
       "<div>\n",
       "<style scoped>\n",
       "    .dataframe tbody tr th:only-of-type {\n",
       "        vertical-align: middle;\n",
       "    }\n",
       "\n",
       "    .dataframe tbody tr th {\n",
       "        vertical-align: top;\n",
       "    }\n",
       "\n",
       "    .dataframe thead th {\n",
       "        text-align: right;\n",
       "    }\n",
       "</style>\n",
       "<table border=\"1\" class=\"dataframe\">\n",
       "  <thead>\n",
       "    <tr style=\"text-align: right;\">\n",
       "      <th></th>\n",
       "      <th>Actual Return</th>\n",
       "      <th>Predicted Return</th>\n",
       "      <th>Actual Trading Signal</th>\n",
       "      <th>Predicted Trading Signal</th>\n",
       "    </tr>\n",
       "    <tr>\n",
       "      <th>Date</th>\n",
       "      <th></th>\n",
       "      <th></th>\n",
       "      <th></th>\n",
       "      <th></th>\n",
       "    </tr>\n",
       "  </thead>\n",
       "  <tbody>\n",
       "    <tr>\n",
       "      <th>2015-08-28</th>\n",
       "      <td>0.000684</td>\n",
       "      <td>-0.010566</td>\n",
       "      <td>1.0</td>\n",
       "      <td>0.0</td>\n",
       "    </tr>\n",
       "    <tr>\n",
       "      <th>2015-08-31</th>\n",
       "      <td>-0.009333</td>\n",
       "      <td>-0.007146</td>\n",
       "      <td>0.0</td>\n",
       "      <td>0.0</td>\n",
       "    </tr>\n",
       "    <tr>\n",
       "      <th>2015-09-01</th>\n",
       "      <td>-0.039062</td>\n",
       "      <td>-0.004503</td>\n",
       "      <td>0.0</td>\n",
       "      <td>0.0</td>\n",
       "    </tr>\n",
       "    <tr>\n",
       "      <th>2015-09-02</th>\n",
       "      <td>0.036824</td>\n",
       "      <td>-0.001636</td>\n",
       "      <td>1.0</td>\n",
       "      <td>0.0</td>\n",
       "    </tr>\n",
       "    <tr>\n",
       "      <th>2015-09-03</th>\n",
       "      <td>0.003229</td>\n",
       "      <td>-0.004634</td>\n",
       "      <td>1.0</td>\n",
       "      <td>0.0</td>\n",
       "    </tr>\n",
       "    <tr>\n",
       "      <th>2015-09-04</th>\n",
       "      <td>-0.020459</td>\n",
       "      <td>-0.006614</td>\n",
       "      <td>0.0</td>\n",
       "      <td>0.0</td>\n",
       "    </tr>\n",
       "    <tr>\n",
       "      <th>2015-09-08</th>\n",
       "      <td>0.030040</td>\n",
       "      <td>-0.007047</td>\n",
       "      <td>1.0</td>\n",
       "      <td>0.0</td>\n",
       "    </tr>\n",
       "    <tr>\n",
       "      <th>2015-09-09</th>\n",
       "      <td>-0.018683</td>\n",
       "      <td>-0.006591</td>\n",
       "      <td>0.0</td>\n",
       "      <td>0.0</td>\n",
       "    </tr>\n",
       "    <tr>\n",
       "      <th>2015-09-10</th>\n",
       "      <td>0.005108</td>\n",
       "      <td>-0.003645</td>\n",
       "      <td>1.0</td>\n",
       "      <td>0.0</td>\n",
       "    </tr>\n",
       "    <tr>\n",
       "      <th>2015-09-11</th>\n",
       "      <td>0.004389</td>\n",
       "      <td>-0.005826</td>\n",
       "      <td>1.0</td>\n",
       "      <td>0.0</td>\n",
       "    </tr>\n",
       "  </tbody>\n",
       "</table>\n",
       "</div>"
      ],
      "text/plain": [
       "            Actual Return  Predicted Return  Actual Trading Signal  \\\n",
       "Date                                                                 \n",
       "2015-08-28       0.000684         -0.010566                    1.0   \n",
       "2015-08-31      -0.009333         -0.007146                    0.0   \n",
       "2015-09-01      -0.039062         -0.004503                    0.0   \n",
       "2015-09-02       0.036824         -0.001636                    1.0   \n",
       "2015-09-03       0.003229         -0.004634                    1.0   \n",
       "2015-09-04      -0.020459         -0.006614                    0.0   \n",
       "2015-09-08       0.030040         -0.007047                    1.0   \n",
       "2015-09-09      -0.018683         -0.006591                    0.0   \n",
       "2015-09-10       0.005108         -0.003645                    1.0   \n",
       "2015-09-11       0.004389         -0.005826                    1.0   \n",
       "\n",
       "            Predicted Trading Signal  \n",
       "Date                                  \n",
       "2015-08-28                       0.0  \n",
       "2015-08-31                       0.0  \n",
       "2015-09-01                       0.0  \n",
       "2015-09-02                       0.0  \n",
       "2015-09-03                       0.0  \n",
       "2015-09-04                       0.0  \n",
       "2015-09-08                       0.0  \n",
       "2015-09-09                       0.0  \n",
       "2015-09-10                       0.0  \n",
       "2015-09-11                       0.0  "
      ]
     },
     "execution_count": 119,
     "metadata": {},
     "output_type": "execute_result"
    }
   ],
   "source": [
    "# Create a DataFrame of Real and Predicted values\n",
    "actual_trading_signal = np.where(\n",
    "    real_prices.ravel() > 0, 1.0, 0\n",
    ")\n",
    "predicted_trading_signal = np.where(\n",
    "    predicted_prices.ravel() > 0, 1.0, 0\n",
    ")\n",
    "stocks = pd.DataFrame({\n",
    "    \"Actual Return\": real_prices.ravel(),\n",
    "    \"Predicted Return\": predicted_prices.ravel(),\n",
    "    \"Actual Trading Signal\": actual_trading_signal,\n",
    "    \"Predicted Trading Signal\": predicted_trading_signal\n",
    "}, index = ticker_df.index[-len(real_prices): ]) \n",
    "\n",
    "# Show the DataFrame's head\n",
    "stocks.head(10)"
   ]
  },
  {
   "cell_type": "code",
   "execution_count": 120,
   "metadata": {},
   "outputs": [
    {
     "data": {
      "text/html": [
       "<div>\n",
       "<style scoped>\n",
       "    .dataframe tbody tr th:only-of-type {\n",
       "        vertical-align: middle;\n",
       "    }\n",
       "\n",
       "    .dataframe tbody tr th {\n",
       "        vertical-align: top;\n",
       "    }\n",
       "\n",
       "    .dataframe thead th {\n",
       "        text-align: right;\n",
       "    }\n",
       "</style>\n",
       "<table border=\"1\" class=\"dataframe\">\n",
       "  <thead>\n",
       "    <tr style=\"text-align: right;\">\n",
       "      <th></th>\n",
       "      <th>Actual Return</th>\n",
       "      <th>Predicted Return</th>\n",
       "      <th>Actual Trading Signal</th>\n",
       "      <th>Predicted Trading Signal</th>\n",
       "    </tr>\n",
       "    <tr>\n",
       "      <th>Date</th>\n",
       "      <th></th>\n",
       "      <th></th>\n",
       "      <th></th>\n",
       "      <th></th>\n",
       "    </tr>\n",
       "  </thead>\n",
       "  <tbody>\n",
       "    <tr>\n",
       "      <th>2017-12-15</th>\n",
       "      <td>0.025505</td>\n",
       "      <td>-0.003924</td>\n",
       "      <td>1.0</td>\n",
       "      <td>0.0</td>\n",
       "    </tr>\n",
       "    <tr>\n",
       "      <th>2017-12-18</th>\n",
       "      <td>-0.005412</td>\n",
       "      <td>-0.004827</td>\n",
       "      <td>0.0</td>\n",
       "      <td>0.0</td>\n",
       "    </tr>\n",
       "    <tr>\n",
       "      <th>2017-12-19</th>\n",
       "      <td>-0.006367</td>\n",
       "      <td>-0.005458</td>\n",
       "      <td>0.0</td>\n",
       "      <td>0.0</td>\n",
       "    </tr>\n",
       "    <tr>\n",
       "      <th>2017-12-20</th>\n",
       "      <td>-0.003612</td>\n",
       "      <td>-0.005617</td>\n",
       "      <td>0.0</td>\n",
       "      <td>0.0</td>\n",
       "    </tr>\n",
       "    <tr>\n",
       "      <th>2017-12-21</th>\n",
       "      <td>-0.000234</td>\n",
       "      <td>-0.005321</td>\n",
       "      <td>0.0</td>\n",
       "      <td>0.0</td>\n",
       "    </tr>\n",
       "    <tr>\n",
       "      <th>2017-12-22</th>\n",
       "      <td>0.000117</td>\n",
       "      <td>-0.004631</td>\n",
       "      <td>1.0</td>\n",
       "      <td>0.0</td>\n",
       "    </tr>\n",
       "    <tr>\n",
       "      <th>2017-12-26</th>\n",
       "      <td>-0.001286</td>\n",
       "      <td>-0.006378</td>\n",
       "      <td>0.0</td>\n",
       "      <td>0.0</td>\n",
       "    </tr>\n",
       "    <tr>\n",
       "      <th>2017-12-27</th>\n",
       "      <td>0.003630</td>\n",
       "      <td>-0.006230</td>\n",
       "      <td>1.0</td>\n",
       "      <td>0.0</td>\n",
       "    </tr>\n",
       "    <tr>\n",
       "      <th>2017-12-28</th>\n",
       "      <td>0.000117</td>\n",
       "      <td>-0.005909</td>\n",
       "      <td>1.0</td>\n",
       "      <td>0.0</td>\n",
       "    </tr>\n",
       "    <tr>\n",
       "      <th>2017-12-29</th>\n",
       "      <td>-0.002100</td>\n",
       "      <td>-0.005680</td>\n",
       "      <td>0.0</td>\n",
       "      <td>0.0</td>\n",
       "    </tr>\n",
       "  </tbody>\n",
       "</table>\n",
       "</div>"
      ],
      "text/plain": [
       "            Actual Return  Predicted Return  Actual Trading Signal  \\\n",
       "Date                                                                 \n",
       "2017-12-15       0.025505         -0.003924                    1.0   \n",
       "2017-12-18      -0.005412         -0.004827                    0.0   \n",
       "2017-12-19      -0.006367         -0.005458                    0.0   \n",
       "2017-12-20      -0.003612         -0.005617                    0.0   \n",
       "2017-12-21      -0.000234         -0.005321                    0.0   \n",
       "2017-12-22       0.000117         -0.004631                    1.0   \n",
       "2017-12-26      -0.001286         -0.006378                    0.0   \n",
       "2017-12-27       0.003630         -0.006230                    1.0   \n",
       "2017-12-28       0.000117         -0.005909                    1.0   \n",
       "2017-12-29      -0.002100         -0.005680                    0.0   \n",
       "\n",
       "            Predicted Trading Signal  \n",
       "Date                                  \n",
       "2017-12-15                       0.0  \n",
       "2017-12-18                       0.0  \n",
       "2017-12-19                       0.0  \n",
       "2017-12-20                       0.0  \n",
       "2017-12-21                       0.0  \n",
       "2017-12-22                       0.0  \n",
       "2017-12-26                       0.0  \n",
       "2017-12-27                       0.0  \n",
       "2017-12-28                       0.0  \n",
       "2017-12-29                       0.0  "
      ]
     },
     "execution_count": 120,
     "metadata": {},
     "output_type": "execute_result"
    }
   ],
   "source": [
    "stocks.tail(10)"
   ]
  },
  {
   "cell_type": "code",
   "execution_count": 122,
   "metadata": {},
   "outputs": [],
   "source": [
    "# Plot real returns vs predicted returns \n",
    "# Using previous returns to predict future returns\n",
    "#stocks.plot(title=\"Actual Vs. Predicted Returns\")"
   ]
  },
  {
   "cell_type": "markdown",
   "metadata": {},
   "source": [
    "##Reuse the data and functions to analyze rolling standard deviations ability to predict returns"
   ]
  },
  {
   "cell_type": "code",
   "execution_count": 20,
   "metadata": {},
   "outputs": [],
   "source": [
    "# Creating the features (X) and target (y) data using the window_data() function.\n",
    "# Here we are using rolling standard deviations of daily returns to predict future returns \n",
    "std_dev_window = 10\n",
    "window_size = std_dev_window\n",
    "\n",
    "feature_column = 2\n",
    "target_column = 1\n",
    "X, y = window_data(ticker_df, window_size, feature_column, target_column)\n",
    "#print (f\"X sample values:\\n{X[:5]} \\n\")\n",
    "#print (f\"y sample values:\\n{y[:5]}\")"
   ]
  },
  {
   "cell_type": "code",
   "execution_count": 21,
   "metadata": {},
   "outputs": [],
   "source": [
    "#split the data into training data and testing data\n",
    "split = int(0.7 * len(X))\n",
    "X_train = X[: split]\n",
    "X_test = X[split:]\n",
    "y_train = y[: split]\n",
    "y_test = y[split:]"
   ]
  },
  {
   "cell_type": "code",
   "execution_count": 22,
   "metadata": {},
   "outputs": [],
   "source": [
    "# Scale data between 0 and 1.\n",
    "scaler = MinMaxScaler()\n",
    "scaler.fit(X)\n",
    "X_train = scaler.transform(X_train)\n",
    "X_test = scaler.transform(X_test)\n",
    "scaler.fit(y)\n",
    "y_train = scaler.transform(y_train)\n",
    "y_test = scaler.transform(y_test)"
   ]
  },
  {
   "cell_type": "code",
   "execution_count": 23,
   "metadata": {},
   "outputs": [],
   "source": [
    "# Reshape the features into a vertical vector so they work for the LSTM model\n",
    "X_train = X_train.reshape((X_train.shape[0], X_train.shape[1], 1))\n",
    "X_test = X_test.reshape((X_test.shape[0], X_test.shape[1], 1))\n",
    "#print (f\"X_train sample values:\\n{X_train[:5]} \\n\")\n",
    "#print (f\"X_test sample values:\\n{X_test[:5]}\")"
   ]
  },
  {
   "cell_type": "code",
   "execution_count": 27,
   "metadata": {},
   "outputs": [],
   "source": [
    "# Define the LSTM RNN model.\n",
    "model = Sequential()\n",
    "\n",
    "# Initial model setup\n",
    "#number of units should equal the window size\n",
    "number_units = std_dev_window\n",
    "dropout_fraction = 0.2\n",
    "\n",
    "# Layer 1\n",
    "model.add(LSTM(\n",
    "    units=number_units,\n",
    "    return_sequences=True,\n",
    "    input_shape=(X_train.shape[1], 1))\n",
    "    )\n",
    "model.add(Dropout(dropout_fraction))\n",
    "\n",
    "# Layer 2\n",
    "model.add(LSTM(units=number_units, return_sequences=True))\n",
    "model.add(Dropout(dropout_fraction))\n",
    "\n",
    "# Layer 3\n",
    "model.add(LSTM(units=number_units, return_sequences=True))\n",
    "model.add(Dropout(dropout_fraction))\n",
    "\n",
    "# Layer 4\n",
    "model.add(LSTM(units=number_units))\n",
    "model.add(Dropout(dropout_fraction))\n",
    "\n",
    "# Output layer\n",
    "model.add(Dense(1))"
   ]
  },
  {
   "cell_type": "code",
   "execution_count": 28,
   "metadata": {},
   "outputs": [],
   "source": [
    "# Compile the model\n",
    "model.compile(optimizer=\"adam\", loss=\"mean_squared_error\")"
   ]
  },
  {
   "cell_type": "code",
   "execution_count": 29,
   "metadata": {},
   "outputs": [
    {
     "name": "stdout",
     "output_type": "stream",
     "text": [
      "Model: \"sequential_2\"\n",
      "_________________________________________________________________\n",
      "Layer (type)                 Output Shape              Param #   \n",
      "=================================================================\n",
      "lstm_8 (LSTM)                (None, 10, 10)            480       \n",
      "_________________________________________________________________\n",
      "dropout_8 (Dropout)          (None, 10, 10)            0         \n",
      "_________________________________________________________________\n",
      "lstm_9 (LSTM)                (None, 10, 10)            840       \n",
      "_________________________________________________________________\n",
      "dropout_9 (Dropout)          (None, 10, 10)            0         \n",
      "_________________________________________________________________\n",
      "lstm_10 (LSTM)               (None, 10, 10)            840       \n",
      "_________________________________________________________________\n",
      "dropout_10 (Dropout)         (None, 10, 10)            0         \n",
      "_________________________________________________________________\n",
      "lstm_11 (LSTM)               (None, 10)                840       \n",
      "_________________________________________________________________\n",
      "dropout_11 (Dropout)         (None, 10)                0         \n",
      "_________________________________________________________________\n",
      "dense_2 (Dense)              (None, 1)                 11        \n",
      "=================================================================\n",
      "Total params: 3,011\n",
      "Trainable params: 3,011\n",
      "Non-trainable params: 0\n",
      "_________________________________________________________________\n"
     ]
    }
   ],
   "source": [
    "# Show the model summary\n",
    "model.summary()"
   ]
  },
  {
   "cell_type": "code",
   "execution_count": 30,
   "metadata": {
    "scrolled": true
   },
   "outputs": [
    {
     "name": "stdout",
     "output_type": "stream",
     "text": [
      "Epoch 1/10\n",
      "16/16 [==============================] - 4s 10ms/step - loss: 0.2052\n",
      "Epoch 2/10\n",
      "16/16 [==============================] - 0s 10ms/step - loss: 0.0509\n",
      "Epoch 3/10\n",
      "16/16 [==============================] - 0s 10ms/step - loss: 0.0206\n",
      "Epoch 4/10\n",
      "16/16 [==============================] - 0s 10ms/step - loss: 0.0161\n",
      "Epoch 5/10\n",
      "16/16 [==============================] - 0s 10ms/step - loss: 0.0141\n",
      "Epoch 6/10\n",
      "16/16 [==============================] - 0s 10ms/step - loss: 0.0139\n",
      "Epoch 7/10\n",
      "16/16 [==============================] - 0s 10ms/step - loss: 0.0127\n",
      "Epoch 8/10\n",
      "16/16 [==============================] - 0s 10ms/step - loss: 0.0131\n",
      "Epoch 9/10\n",
      "16/16 [==============================] - 0s 10ms/step - loss: 0.0123\n",
      "Epoch 10/10\n",
      "16/16 [==============================] - 0s 10ms/step - loss: 0.0119\n"
     ]
    },
    {
     "data": {
      "text/plain": [
       "<tensorflow.python.keras.callbacks.History at 0x13c61d64288>"
      ]
     },
     "execution_count": 30,
     "metadata": {},
     "output_type": "execute_result"
    }
   ],
   "source": [
    "# Train the model\n",
    "model.fit(X_train, y_train, epochs=10, shuffle=False, batch_size=90, verbose=1)"
   ]
  },
  {
   "cell_type": "code",
   "execution_count": 31,
   "metadata": {},
   "outputs": [
    {
     "data": {
      "text/plain": [
       "0.004264168906956911"
      ]
     },
     "execution_count": 31,
     "metadata": {},
     "output_type": "execute_result"
    }
   ],
   "source": [
    "# Evaluate the model\n",
    "model.evaluate(X_test, y_test, verbose=0)"
   ]
  },
  {
   "cell_type": "code",
   "execution_count": 32,
   "metadata": {},
   "outputs": [],
   "source": [
    "# Make predictions using the testing data X_test\n",
    "predicted = model.predict(X_test)"
   ]
  },
  {
   "cell_type": "code",
   "execution_count": 33,
   "metadata": {},
   "outputs": [],
   "source": [
    "# Recover the original returns instead of the scaled version\n",
    "predicted_prices = scaler.inverse_transform(predicted)\n",
    "real_prices = scaler.inverse_transform(y_test.reshape(-1, 1))"
   ]
  },
  {
   "cell_type": "code",
   "execution_count": 34,
   "metadata": {},
   "outputs": [
    {
     "data": {
      "text/html": [
       "<div>\n",
       "<style scoped>\n",
       "    .dataframe tbody tr th:only-of-type {\n",
       "        vertical-align: middle;\n",
       "    }\n",
       "\n",
       "    .dataframe tbody tr th {\n",
       "        vertical-align: top;\n",
       "    }\n",
       "\n",
       "    .dataframe thead th {\n",
       "        text-align: right;\n",
       "    }\n",
       "</style>\n",
       "<table border=\"1\" class=\"dataframe\">\n",
       "  <thead>\n",
       "    <tr style=\"text-align: right;\">\n",
       "      <th></th>\n",
       "      <th>Actual</th>\n",
       "      <th>Predicted</th>\n",
       "    </tr>\n",
       "    <tr>\n",
       "      <th>Date</th>\n",
       "      <th></th>\n",
       "      <th></th>\n",
       "    </tr>\n",
       "  </thead>\n",
       "  <tbody>\n",
       "    <tr>\n",
       "      <th>2015-09-01</th>\n",
       "      <td>-0.039062</td>\n",
       "      <td>0.000305</td>\n",
       "    </tr>\n",
       "    <tr>\n",
       "      <th>2015-09-02</th>\n",
       "      <td>0.036824</td>\n",
       "      <td>0.003396</td>\n",
       "    </tr>\n",
       "    <tr>\n",
       "      <th>2015-09-03</th>\n",
       "      <td>0.003229</td>\n",
       "      <td>0.005972</td>\n",
       "    </tr>\n",
       "    <tr>\n",
       "      <th>2015-09-04</th>\n",
       "      <td>-0.020459</td>\n",
       "      <td>0.008219</td>\n",
       "    </tr>\n",
       "    <tr>\n",
       "      <th>2015-09-08</th>\n",
       "      <td>0.030040</td>\n",
       "      <td>0.008982</td>\n",
       "    </tr>\n",
       "    <tr>\n",
       "      <th>2015-09-09</th>\n",
       "      <td>-0.018683</td>\n",
       "      <td>0.010224</td>\n",
       "    </tr>\n",
       "    <tr>\n",
       "      <th>2015-09-10</th>\n",
       "      <td>0.005108</td>\n",
       "      <td>0.012379</td>\n",
       "    </tr>\n",
       "    <tr>\n",
       "      <th>2015-09-11</th>\n",
       "      <td>0.004389</td>\n",
       "      <td>0.011638</td>\n",
       "    </tr>\n",
       "    <tr>\n",
       "      <th>2015-09-14</th>\n",
       "      <td>-0.010119</td>\n",
       "      <td>0.010048</td>\n",
       "    </tr>\n",
       "    <tr>\n",
       "      <th>2015-09-15</th>\n",
       "      <td>0.021840</td>\n",
       "      <td>0.009194</td>\n",
       "    </tr>\n",
       "  </tbody>\n",
       "</table>\n",
       "</div>"
      ],
      "text/plain": [
       "              Actual  Predicted\n",
       "Date                           \n",
       "2015-09-01 -0.039062   0.000305\n",
       "2015-09-02  0.036824   0.003396\n",
       "2015-09-03  0.003229   0.005972\n",
       "2015-09-04 -0.020459   0.008219\n",
       "2015-09-08  0.030040   0.008982\n",
       "2015-09-09 -0.018683   0.010224\n",
       "2015-09-10  0.005108   0.012379\n",
       "2015-09-11  0.004389   0.011638\n",
       "2015-09-14 -0.010119   0.010048\n",
       "2015-09-15  0.021840   0.009194"
      ]
     },
     "execution_count": 34,
     "metadata": {},
     "output_type": "execute_result"
    }
   ],
   "source": [
    "# Create a DataFrame of Real and Predicted values\n",
    "stocks = pd.DataFrame({\n",
    "    \"Actual\": real_prices.ravel(),\n",
    "    \"Predicted\": predicted_prices.ravel()\n",
    "}, index = ticker_df.index[-len(real_prices): ]) \n",
    "\n",
    "# Show the DataFrame's head\n",
    "stocks.head(10)"
   ]
  },
  {
   "cell_type": "code",
   "execution_count": 35,
   "metadata": {},
   "outputs": [
    {
     "data": {
      "text/html": [
       "<div>\n",
       "<style scoped>\n",
       "    .dataframe tbody tr th:only-of-type {\n",
       "        vertical-align: middle;\n",
       "    }\n",
       "\n",
       "    .dataframe tbody tr th {\n",
       "        vertical-align: top;\n",
       "    }\n",
       "\n",
       "    .dataframe thead th {\n",
       "        text-align: right;\n",
       "    }\n",
       "</style>\n",
       "<table border=\"1\" class=\"dataframe\">\n",
       "  <thead>\n",
       "    <tr style=\"text-align: right;\">\n",
       "      <th></th>\n",
       "      <th>Actual</th>\n",
       "      <th>Predicted</th>\n",
       "    </tr>\n",
       "    <tr>\n",
       "      <th>Date</th>\n",
       "      <th></th>\n",
       "      <th></th>\n",
       "    </tr>\n",
       "  </thead>\n",
       "  <tbody>\n",
       "    <tr>\n",
       "      <th>2017-12-15</th>\n",
       "      <td>0.025505</td>\n",
       "      <td>0.001860</td>\n",
       "    </tr>\n",
       "    <tr>\n",
       "      <th>2017-12-18</th>\n",
       "      <td>-0.005412</td>\n",
       "      <td>0.002560</td>\n",
       "    </tr>\n",
       "    <tr>\n",
       "      <th>2017-12-19</th>\n",
       "      <td>-0.006367</td>\n",
       "      <td>0.001806</td>\n",
       "    </tr>\n",
       "    <tr>\n",
       "      <th>2017-12-20</th>\n",
       "      <td>-0.003612</td>\n",
       "      <td>0.001042</td>\n",
       "    </tr>\n",
       "    <tr>\n",
       "      <th>2017-12-21</th>\n",
       "      <td>-0.000234</td>\n",
       "      <td>-0.000068</td>\n",
       "    </tr>\n",
       "    <tr>\n",
       "      <th>2017-12-22</th>\n",
       "      <td>0.000117</td>\n",
       "      <td>-0.001196</td>\n",
       "    </tr>\n",
       "    <tr>\n",
       "      <th>2017-12-26</th>\n",
       "      <td>-0.001286</td>\n",
       "      <td>-0.003000</td>\n",
       "    </tr>\n",
       "    <tr>\n",
       "      <th>2017-12-27</th>\n",
       "      <td>0.003630</td>\n",
       "      <td>-0.002572</td>\n",
       "    </tr>\n",
       "    <tr>\n",
       "      <th>2017-12-28</th>\n",
       "      <td>0.000117</td>\n",
       "      <td>-0.002245</td>\n",
       "    </tr>\n",
       "    <tr>\n",
       "      <th>2017-12-29</th>\n",
       "      <td>-0.002100</td>\n",
       "      <td>-0.002181</td>\n",
       "    </tr>\n",
       "  </tbody>\n",
       "</table>\n",
       "</div>"
      ],
      "text/plain": [
       "              Actual  Predicted\n",
       "Date                           \n",
       "2017-12-15  0.025505   0.001860\n",
       "2017-12-18 -0.005412   0.002560\n",
       "2017-12-19 -0.006367   0.001806\n",
       "2017-12-20 -0.003612   0.001042\n",
       "2017-12-21 -0.000234  -0.000068\n",
       "2017-12-22  0.000117  -0.001196\n",
       "2017-12-26 -0.001286  -0.003000\n",
       "2017-12-27  0.003630  -0.002572\n",
       "2017-12-28  0.000117  -0.002245\n",
       "2017-12-29 -0.002100  -0.002181"
      ]
     },
     "execution_count": 35,
     "metadata": {},
     "output_type": "execute_result"
    }
   ],
   "source": [
    "stocks.tail(10)"
   ]
  },
  {
   "cell_type": "code",
   "execution_count": 36,
   "metadata": {},
   "outputs": [
    {
     "data": {
      "text/plain": [
       "<AxesSubplot:title={'center':'Actual Vs. Predicted Returns'}, xlabel='Date'>"
      ]
     },
     "execution_count": 36,
     "metadata": {},
     "output_type": "execute_result"
    },
    {
     "data": {
      "image/png": "[encoded data removed]",
      "text/plain": [
       "<Figure size 432x288 with 1 Axes>"
      ]
     },
     "metadata": {
      "needs_background": "light"
     },
     "output_type": "display_data"
    }
   ],
   "source": [
    "# Plot real returns vs predicted returns \n",
    "# Using rolling standard deviations of daily returns to predict future returns\n",
    "stocks.plot(title=\"Actual Vs. Predicted Returns\")"
   ]
  },
  {
   "cell_type": "code",
   "execution_count": null,
   "metadata": {},
   "outputs": [],
   "source": [
    "#Is there a way to combine rolling standard deviations and price predictions to get at predicted returns \n",
    "#to then compare them to actual returns"
   ]
  },
  {
   "cell_type": "markdown",
   "metadata": {},
   "source": [
    "# Use data and models and previous closing prices to predict prices"
   ]
  },
  {
   "cell_type": "code",
   "execution_count": 69,
   "metadata": {},
   "outputs": [
    {
     "name": "stdout",
     "output_type": "stream",
     "text": [
      "X sample values:\n",
      "[[22.29973221 22.43214417 22.56455803 22.72813034 22.79823494 22.813797\n",
      "  22.87612534 23.078619   23.06305122 23.04746819]\n",
      " [22.43214417 22.56455803 22.72813034 22.79823494 22.813797   22.87612534\n",
      "  23.078619   23.06305122 23.04746819 23.05526161]\n",
      " [22.56455803 22.72813034 22.79823494 22.813797   22.87612534 23.078619\n",
      "  23.06305122 23.04746819 23.05526161 23.2733593 ]\n",
      " [22.72813034 22.79823494 22.813797   22.87612534 23.078619   23.06305122\n",
      "  23.04746819 23.05526161 23.2733593  23.09420586]\n",
      " [22.79823494 22.813797   22.87612534 23.078619   23.06305122 23.04746819\n",
      "  23.05526161 23.2733593  23.09420586 23.37461472]] \n",
      "\n",
      "y sample values:\n",
      "[[23.05526161]\n",
      " [23.2733593 ]\n",
      " [23.09420586]\n",
      " [23.37461472]\n",
      " [23.10199738]]\n"
     ]
    }
   ],
   "source": [
    "# Creating the features (X) and target (y) data using the window_data() function.\n",
    "# Here we are using rolling standard deviations of daily returns to predict future returns \n",
    "price_window = 10\n",
    "window_size = price_window\n",
    "\n",
    "feature_column = 0\n",
    "target_column = 0\n",
    "X, y = window_data(ticker_df, window_size, feature_column, target_column)\n",
    "print (f\"X sample values:\\n{X[:5]} \\n\")\n",
    "print (f\"y sample values:\\n{y[:5]}\")"
   ]
  },
  {
   "cell_type": "code",
   "execution_count": 70,
   "metadata": {},
   "outputs": [],
   "source": [
    "#split the data into training data and testing data\n",
    "split = int(0.7 * len(X))\n",
    "X_train = X[: split]\n",
    "X_test = X[split:]\n",
    "y_train = y[: split]\n",
    "y_test = y[split:]"
   ]
  },
  {
   "cell_type": "code",
   "execution_count": 71,
   "metadata": {},
   "outputs": [],
   "source": [
    "# Scale data between 0 and 1.\n",
    "scaler = MinMaxScaler()\n",
    "scaler.fit(X)\n",
    "X_train = scaler.transform(X_train)\n",
    "X_test = scaler.transform(X_test)\n",
    "scaler.fit(y)\n",
    "y_train = scaler.transform(y_train)\n",
    "y_test = scaler.transform(y_test)"
   ]
  },
  {
   "cell_type": "code",
   "execution_count": 72,
   "metadata": {},
   "outputs": [
    {
     "name": "stdout",
     "output_type": "stream",
     "text": [
      "X_train sample values:\n",
      "[[[0.0675035 ]\n",
      "  [0.06828391]\n",
      "  [0.07032543]\n",
      "  [0.07284734]\n",
      "  [0.07392819]\n",
      "  [0.07416812]\n",
      "  [0.07512908]\n",
      "  [0.07825108]\n",
      "  [0.07801106]\n",
      "  [0.0777708 ]]\n",
      "\n",
      " [[0.06958386]\n",
      "  [0.07032543]\n",
      "  [0.07284734]\n",
      "  [0.07392819]\n",
      "  [0.07416812]\n",
      "  [0.07512908]\n",
      "  [0.07825108]\n",
      "  [0.07801106]\n",
      "  [0.0777708 ]\n",
      "  [0.07789096]]\n",
      "\n",
      " [[0.07166424]\n",
      "  [0.07284734]\n",
      "  [0.07392819]\n",
      "  [0.07416812]\n",
      "  [0.07512908]\n",
      "  [0.07825108]\n",
      "  [0.07801106]\n",
      "  [0.0777708 ]\n",
      "  [0.07789096]\n",
      "  [0.08125353]]\n",
      "\n",
      " [[0.07423417]\n",
      "  [0.07392819]\n",
      "  [0.07416812]\n",
      "  [0.07512908]\n",
      "  [0.07825108]\n",
      "  [0.07801106]\n",
      "  [0.0777708 ]\n",
      "  [0.07789096]\n",
      "  [0.08125353]\n",
      "  [0.07849139]]\n",
      "\n",
      " [[0.0753356 ]\n",
      "  [0.07416812]\n",
      "  [0.07512908]\n",
      "  [0.07825108]\n",
      "  [0.07801106]\n",
      "  [0.0777708 ]\n",
      "  [0.07789096]\n",
      "  [0.08125353]\n",
      "  [0.07849139]\n",
      "  [0.08281465]]] \n",
      "\n",
      "X_test sample values:\n",
      "[[[0.38722566]\n",
      "  [0.37081051]\n",
      "  [0.35759525]\n",
      "  [0.32156667]\n",
      "  [0.30223059]\n",
      "  [0.28539875]\n",
      "  [0.3165586 ]\n",
      "  [0.33311237]\n",
      "  [0.33352977]\n",
      "  [0.32782623]]\n",
      "\n",
      " [[0.37786979]\n",
      "  [0.35759525]\n",
      "  [0.32156667]\n",
      "  [0.30223059]\n",
      "  [0.28539875]\n",
      "  [0.3165586 ]\n",
      "  [0.33311237]\n",
      "  [0.33352977]\n",
      "  [0.32782623]\n",
      "  [0.30417804]]\n",
      "\n",
      " [[0.36440295]\n",
      "  [0.32156667]\n",
      "  [0.30223059]\n",
      "  [0.28539875]\n",
      "  [0.3165586 ]\n",
      "  [0.33311237]\n",
      "  [0.33352977]\n",
      "  [0.32782623]\n",
      "  [0.30417804]\n",
      "  [0.32560048]]\n",
      "\n",
      " [[0.32768847]\n",
      "  [0.30223059]\n",
      "  [0.28539875]\n",
      "  [0.3165586 ]\n",
      "  [0.33311237]\n",
      "  [0.33352977]\n",
      "  [0.32782623]\n",
      "  [0.30417804]\n",
      "  [0.32560048]\n",
      "  [0.32754804]]\n",
      "\n",
      " [[0.30798428]\n",
      "  [0.28539875]\n",
      "  [0.3165586 ]\n",
      "  [0.33311237]\n",
      "  [0.33352977]\n",
      "  [0.32782623]\n",
      "  [0.30417804]\n",
      "  [0.32560048]\n",
      "  [0.32754804]\n",
      "  [0.31516771]]]\n"
     ]
    }
   ],
   "source": [
    "# Reshape the features into a vertical vector so they work for the LSTM model\n",
    "X_train = X_train.reshape((X_train.shape[0], X_train.shape[1], 1))\n",
    "X_test = X_test.reshape((X_test.shape[0], X_test.shape[1], 1))\n",
    "print (f\"X_train sample values:\\n{X_train[:5]} \\n\")\n",
    "print (f\"X_test sample values:\\n{X_test[:5]}\")"
   ]
  },
  {
   "cell_type": "code",
   "execution_count": 73,
   "metadata": {},
   "outputs": [],
   "source": [
    "# Define the LSTM RNN model.\n",
    "model = Sequential()\n",
    "\n",
    "# Initial model setup\n",
    "#number of units should equal the window size\n",
    "number_units = price_window\n",
    "dropout_fraction = 0.2\n",
    "\n",
    "# Layer 1\n",
    "model.add(LSTM(\n",
    "    units=number_units,\n",
    "    return_sequences=True,\n",
    "    input_shape=(X_train.shape[1], 1))\n",
    "    )\n",
    "model.add(Dropout(dropout_fraction))\n",
    "\n",
    "# Layer 2\n",
    "model.add(LSTM(units=number_units, return_sequences=True))\n",
    "model.add(Dropout(dropout_fraction))\n",
    "\n",
    "# Layer 3\n",
    "model.add(LSTM(units=number_units, return_sequences=True))\n",
    "model.add(Dropout(dropout_fraction))\n",
    "\n",
    "# Layer 4\n",
    "model.add(LSTM(units=number_units))\n",
    "model.add(Dropout(dropout_fraction))\n",
    "\n",
    "# Output layer\n",
    "model.add(Dense(1))"
   ]
  },
  {
   "cell_type": "code",
   "execution_count": 74,
   "metadata": {},
   "outputs": [],
   "source": [
    "# Compile the model\n",
    "model.compile(optimizer=\"adam\", loss=\"mean_squared_error\")"
   ]
  },
  {
   "cell_type": "code",
   "execution_count": 75,
   "metadata": {},
   "outputs": [
    {
     "name": "stdout",
     "output_type": "stream",
     "text": [
      "Model: \"sequential_5\"\n",
      "_________________________________________________________________\n",
      "Layer (type)                 Output Shape              Param #   \n",
      "=================================================================\n",
      "lstm_20 (LSTM)               (None, 10, 10)            480       \n",
      "_________________________________________________________________\n",
      "dropout_20 (Dropout)         (None, 10, 10)            0         \n",
      "_________________________________________________________________\n",
      "lstm_21 (LSTM)               (None, 10, 10)            840       \n",
      "_________________________________________________________________\n",
      "dropout_21 (Dropout)         (None, 10, 10)            0         \n",
      "_________________________________________________________________\n",
      "lstm_22 (LSTM)               (None, 10, 10)            840       \n",
      "_________________________________________________________________\n",
      "dropout_22 (Dropout)         (None, 10, 10)            0         \n",
      "_________________________________________________________________\n",
      "lstm_23 (LSTM)               (None, 10)                840       \n",
      "_________________________________________________________________\n",
      "dropout_23 (Dropout)         (None, 10)                0         \n",
      "_________________________________________________________________\n",
      "dense_5 (Dense)              (None, 1)                 11        \n",
      "=================================================================\n",
      "Total params: 3,011\n",
      "Trainable params: 3,011\n",
      "Non-trainable params: 0\n",
      "_________________________________________________________________\n"
     ]
    }
   ],
   "source": [
    "# Show the model summary\n",
    "model.summary()"
   ]
  },
  {
   "cell_type": "code",
   "execution_count": 76,
   "metadata": {},
   "outputs": [
    {
     "name": "stdout",
     "output_type": "stream",
     "text": [
      "Epoch 1/10\n",
      "16/16 [==============================] - 5s 10ms/step - loss: 0.0181\n",
      "Epoch 2/10\n",
      "16/16 [==============================] - 0s 10ms/step - loss: 0.0115\n",
      "Epoch 3/10\n",
      "16/16 [==============================] - 0s 10ms/step - loss: 0.0147\n",
      "Epoch 4/10\n",
      "16/16 [==============================] - 0s 10ms/step - loss: 0.0125\n",
      "Epoch 5/10\n",
      "16/16 [==============================] - 0s 10ms/step - loss: 0.0104\n",
      "Epoch 6/10\n",
      "16/16 [==============================] - 0s 10ms/step - loss: 0.0087\n",
      "Epoch 7/10\n",
      "16/16 [==============================] - 0s 10ms/step - loss: 0.0062\n",
      "Epoch 8/10\n",
      "16/16 [==============================] - 0s 10ms/step - loss: 0.0040\n",
      "Epoch 9/10\n",
      "16/16 [==============================] - 0s 10ms/step - loss: 0.0026\n",
      "Epoch 10/10\n",
      "16/16 [==============================] - 0s 10ms/step - loss: 0.0024\n"
     ]
    },
    {
     "data": {
      "text/plain": [
       "<tensorflow.python.keras.callbacks.History at 0x13c139a1c08>"
      ]
     },
     "execution_count": 76,
     "metadata": {},
     "output_type": "execute_result"
    }
   ],
   "source": [
    "# Train the model\n",
    "model.fit(X_train, y_train, epochs=10, shuffle=False, batch_size=90, verbose=1)"
   ]
  },
  {
   "cell_type": "code",
   "execution_count": 77,
   "metadata": {},
   "outputs": [
    {
     "data": {
      "text/plain": [
       "0.007813028059899807"
      ]
     },
     "execution_count": 77,
     "metadata": {},
     "output_type": "execute_result"
    }
   ],
   "source": [
    "# Evaluate the model\n",
    "model.evaluate(X_test, y_test, verbose=0)"
   ]
  },
  {
   "cell_type": "code",
   "execution_count": 78,
   "metadata": {},
   "outputs": [],
   "source": [
    "# Make predictions using the testing data X_test\n",
    "predicted = model.predict(X_test)"
   ]
  },
  {
   "cell_type": "code",
   "execution_count": 79,
   "metadata": {},
   "outputs": [],
   "source": [
    "# Recover the original returns instead of the scaled version\n",
    "predicted_prices = scaler.inverse_transform(predicted)\n",
    "real_prices = scaler.inverse_transform(y_test.reshape(-1, 1))"
   ]
  },
  {
   "cell_type": "code",
   "execution_count": 80,
   "metadata": {},
   "outputs": [
    {
     "data": {
      "text/html": [
       "<div>\n",
       "<style scoped>\n",
       "    .dataframe tbody tr th:only-of-type {\n",
       "        vertical-align: middle;\n",
       "    }\n",
       "\n",
       "    .dataframe tbody tr th {\n",
       "        vertical-align: top;\n",
       "    }\n",
       "\n",
       "    .dataframe thead th {\n",
       "        text-align: right;\n",
       "    }\n",
       "</style>\n",
       "<table border=\"1\" class=\"dataframe\">\n",
       "  <thead>\n",
       "    <tr style=\"text-align: right;\">\n",
       "      <th></th>\n",
       "      <th>Actual</th>\n",
       "      <th>Predicted</th>\n",
       "    </tr>\n",
       "    <tr>\n",
       "      <th>Date</th>\n",
       "      <th></th>\n",
       "      <th></th>\n",
       "    </tr>\n",
       "  </thead>\n",
       "  <tbody>\n",
       "    <tr>\n",
       "      <th>2015-09-01</th>\n",
       "      <td>37.732342</td>\n",
       "      <td>38.572666</td>\n",
       "    </tr>\n",
       "    <tr>\n",
       "      <th>2015-09-02</th>\n",
       "      <td>39.121811</td>\n",
       "      <td>37.759018</td>\n",
       "    </tr>\n",
       "    <tr>\n",
       "      <th>2015-09-03</th>\n",
       "      <td>39.248131</td>\n",
       "      <td>37.006012</td>\n",
       "    </tr>\n",
       "    <tr>\n",
       "      <th>2015-09-04</th>\n",
       "      <td>38.445137</td>\n",
       "      <td>36.405247</td>\n",
       "    </tr>\n",
       "    <tr>\n",
       "      <th>2015-09-08</th>\n",
       "      <td>39.600014</td>\n",
       "      <td>36.342468</td>\n",
       "    </tr>\n",
       "    <tr>\n",
       "      <th>2015-09-09</th>\n",
       "      <td>38.860176</td>\n",
       "      <td>36.596367</td>\n",
       "    </tr>\n",
       "    <tr>\n",
       "      <th>2015-09-10</th>\n",
       "      <td>39.058670</td>\n",
       "      <td>37.155838</td>\n",
       "    </tr>\n",
       "    <tr>\n",
       "      <th>2015-09-11</th>\n",
       "      <td>39.230087</td>\n",
       "      <td>37.268784</td>\n",
       "    </tr>\n",
       "    <tr>\n",
       "      <th>2015-09-14</th>\n",
       "      <td>38.833099</td>\n",
       "      <td>37.125443</td>\n",
       "    </tr>\n",
       "    <tr>\n",
       "      <th>2015-09-15</th>\n",
       "      <td>39.681221</td>\n",
       "      <td>36.965668</td>\n",
       "    </tr>\n",
       "  </tbody>\n",
       "</table>\n",
       "</div>"
      ],
      "text/plain": [
       "               Actual  Predicted\n",
       "Date                            \n",
       "2015-09-01  37.732342  38.572666\n",
       "2015-09-02  39.121811  37.759018\n",
       "2015-09-03  39.248131  37.006012\n",
       "2015-09-04  38.445137  36.405247\n",
       "2015-09-08  39.600014  36.342468\n",
       "2015-09-09  38.860176  36.596367\n",
       "2015-09-10  39.058670  37.155838\n",
       "2015-09-11  39.230087  37.268784\n",
       "2015-09-14  38.833099  37.125443\n",
       "2015-09-15  39.681221  36.965668"
      ]
     },
     "execution_count": 80,
     "metadata": {},
     "output_type": "execute_result"
    }
   ],
   "source": [
    "# Create a DataFrame of Real and Predicted values\n",
    "stocks = pd.DataFrame({\n",
    "    \"Actual\": real_prices.ravel(),\n",
    "    \"Predicted\": predicted_prices.ravel()\n",
    "}, index = ticker_df.index[-len(real_prices): ]) \n",
    "\n",
    "# Show the DataFrame's head\n",
    "stocks.head(10)"
   ]
  },
  {
   "cell_type": "code",
   "execution_count": 81,
   "metadata": {},
   "outputs": [
    {
     "data": {
      "text/html": [
       "<div>\n",
       "<style scoped>\n",
       "    .dataframe tbody tr th:only-of-type {\n",
       "        vertical-align: middle;\n",
       "    }\n",
       "\n",
       "    .dataframe tbody tr th {\n",
       "        vertical-align: top;\n",
       "    }\n",
       "\n",
       "    .dataframe thead th {\n",
       "        text-align: right;\n",
       "    }\n",
       "</style>\n",
       "<table border=\"1\" class=\"dataframe\">\n",
       "  <thead>\n",
       "    <tr style=\"text-align: right;\">\n",
       "      <th></th>\n",
       "      <th>Actual</th>\n",
       "      <th>Predicted</th>\n",
       "    </tr>\n",
       "    <tr>\n",
       "      <th>Date</th>\n",
       "      <th></th>\n",
       "      <th></th>\n",
       "    </tr>\n",
       "  </thead>\n",
       "  <tbody>\n",
       "    <tr>\n",
       "      <th>2017-12-15</th>\n",
       "      <td>82.863663</td>\n",
       "      <td>66.352158</td>\n",
       "    </tr>\n",
       "    <tr>\n",
       "      <th>2017-12-18</th>\n",
       "      <td>82.415230</td>\n",
       "      <td>66.234322</td>\n",
       "    </tr>\n",
       "    <tr>\n",
       "      <th>2017-12-19</th>\n",
       "      <td>81.890480</td>\n",
       "      <td>66.464020</td>\n",
       "    </tr>\n",
       "    <tr>\n",
       "      <th>2017-12-20</th>\n",
       "      <td>81.594727</td>\n",
       "      <td>66.700722</td>\n",
       "    </tr>\n",
       "    <tr>\n",
       "      <th>2017-12-21</th>\n",
       "      <td>81.575638</td>\n",
       "      <td>66.871124</td>\n",
       "    </tr>\n",
       "    <tr>\n",
       "      <th>2017-12-22</th>\n",
       "      <td>81.585175</td>\n",
       "      <td>67.112602</td>\n",
       "    </tr>\n",
       "    <tr>\n",
       "      <th>2017-12-26</th>\n",
       "      <td>81.480217</td>\n",
       "      <td>67.232536</td>\n",
       "    </tr>\n",
       "    <tr>\n",
       "      <th>2017-12-27</th>\n",
       "      <td>81.775978</td>\n",
       "      <td>67.269753</td>\n",
       "    </tr>\n",
       "    <tr>\n",
       "      <th>2017-12-28</th>\n",
       "      <td>81.785538</td>\n",
       "      <td>67.281319</td>\n",
       "    </tr>\n",
       "    <tr>\n",
       "      <th>2017-12-29</th>\n",
       "      <td>81.613815</td>\n",
       "      <td>67.318649</td>\n",
       "    </tr>\n",
       "  </tbody>\n",
       "</table>\n",
       "</div>"
      ],
      "text/plain": [
       "               Actual  Predicted\n",
       "Date                            \n",
       "2017-12-15  82.863663  66.352158\n",
       "2017-12-18  82.415230  66.234322\n",
       "2017-12-19  81.890480  66.464020\n",
       "2017-12-20  81.594727  66.700722\n",
       "2017-12-21  81.575638  66.871124\n",
       "2017-12-22  81.585175  67.112602\n",
       "2017-12-26  81.480217  67.232536\n",
       "2017-12-27  81.775978  67.269753\n",
       "2017-12-28  81.785538  67.281319\n",
       "2017-12-29  81.613815  67.318649"
      ]
     },
     "execution_count": 81,
     "metadata": {},
     "output_type": "execute_result"
    }
   ],
   "source": [
    "stocks.tail(10)"
   ]
  },
  {
   "cell_type": "code",
   "execution_count": 82,
   "metadata": {},
   "outputs": [
    {
     "data": {
      "text/plain": [
       "<AxesSubplot:title={'center':'Actual Vs. Predicted Returns'}, xlabel='Date'>"
      ]
     },
     "execution_count": 82,
     "metadata": {},
     "output_type": "execute_result"
    },
    {
     "data": {
      "image/png": "[encoded data removed]",
      "text/plain": [
       "<Figure size 432x288 with 1 Axes>"
      ]
     },
     "metadata": {
      "needs_background": "light"
     },
     "output_type": "display_data"
    }
   ],
   "source": [
    "# Plot real returns vs predicted returns \n",
    "# Using rolling standard deviations of daily returns to predict future returns\n",
    "stocks.plot(title=\"Actual Vs. Predicted Returns\")"
   ]
  },
  {
   "cell_type": "code",
   "execution_count": null,
   "metadata": {},
   "outputs": [],
   "source": []
  }
 ],
 "metadata": {
  "kernelspec": {
   "display_name": "Python 3",
   "language": "python",
   "name": "python3"
  },
  "language_info": {
   "codemirror_mode": {
    "name": "ipython",
    "version": 3
   },
   "file_extension": ".py",
   "mimetype": "text/x-python",
   "name": "python",
   "nbconvert_exporter": "python",
   "pygments_lexer": "ipython3",
   "version": "3.7.9"
  }
 },
 "nbformat": 4,
 "nbformat_minor": 4
}
