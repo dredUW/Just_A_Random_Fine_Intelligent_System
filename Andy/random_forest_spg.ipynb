{
 "cells": [
  {
   "cell_type": "code",
   "execution_count": 2,
   "metadata": {},
   "outputs": [
    {
     "output_type": "stream",
     "name": "stdout",
     "text": [
      "Note: you may need to restart the kernel to use updated packages.\n",
      "'C:\\Users\\Andy' is not recognized as an internal or external command,\n",
      "operable program or batch file.\n"
     ]
    }
   ],
   "source": [
    "pip install yfinance"
   ]
  },
  {
   "cell_type": "code",
   "execution_count": 3,
   "metadata": {},
   "outputs": [],
   "source": [
    "import numpy as np\n",
    "import datetime\n",
    "import time\n",
    "import yfinance as yf\n",
    "import matplotlib.pyplot as plt\n",
    "import pandas as pd\n",
    "from sklearn import tree\n",
    "from sklearn.preprocessing import StandardScaler\n",
    "from sklearn.model_selection import train_test_split\n",
    "from sklearn.metrics import confusion_matrix, accuracy_score, classification_report\n",
    "import pydotplus\n",
    "from IPython.display import Image\n",
    "%matplotlib inline\n",
    "from sklearn.ensemble import GradientBoostingClassifier"
   ]
  },
  {
   "cell_type": "code",
   "execution_count": 4,
   "metadata": {},
   "outputs": [
    {
     "output_type": "stream",
     "name": "stdout",
     "text": [
      "[*********************100%***********************]  1 of 1 completed\n"
     ]
    },
    {
     "output_type": "execute_result",
     "data": {
      "text/plain": [
       "                  Open        High         Low       Close  Adj Close  \\\n",
       "Date                                                                    \n",
       "2011-05-03  109.125114  110.263405  107.638756  109.190971  73.433495   \n",
       "2011-05-04  108.965195  109.501411  108.297272  108.739418  73.129829   \n",
       "2011-05-05  108.156158  109.219193  107.714020  108.410156  72.908379   \n",
       "2011-05-06  109.557854  109.557854  107.572906  108.099716  72.699623   \n",
       "2011-05-09  108.222015  109.322670  107.798683  108.889931  73.231033   \n",
       "2011-05-10  109.247414  110.498589  109.002823  110.442146  74.274925   \n",
       "2011-05-11  110.094070  110.507996  109.680153  109.783630  73.832069   \n",
       "2011-05-12  109.238007  110.075256  108.570084  110.018814  73.990242   \n",
       "2011-05-13  109.755409  109.774223  108.400749  108.438385  73.429657   \n",
       "2011-05-16  108.447792  109.840073  108.137344  108.974602  73.792747   \n",
       "2011-05-17  108.720604  108.861710  107.845718  108.711197  73.614410   \n",
       "2011-05-18  108.692383  109.774223  107.949203  109.736595  74.308754   \n",
       "2011-05-19  110.188148  110.291626  108.711197  109.350891  74.047569   \n",
       "2011-05-20  109.153343  109.435562  107.610535  107.610535  72.869072   \n",
       "2011-05-23  106.425209  107.093132  105.983070  106.302917  71.983620   \n",
       "2011-05-24  106.509880  107.968018  106.387581  107.224838  72.607903   \n",
       "2011-05-25  107.017876  108.174973  106.331139  107.685799  72.920036   \n",
       "2011-05-26  107.281281  109.200378  106.754471  108.833488  73.697212   \n",
       "2011-05-27  109.181564  109.595482  108.447792  109.360298  74.053947   \n",
       "2011-05-31  110.263405  111.100662  109.689560  111.063026  75.206955   \n",
       "\n",
       "             Volume  pct_change decision  \n",
       "Date                                      \n",
       "2011-05-03  2362518    0.003545      Buy  \n",
       "2011-05-04  1906384   -0.004135     Sell  \n",
       "2011-05-05  1391999   -0.003028     Sell  \n",
       "2011-05-06  1680178   -0.002864     Sell  \n",
       "2011-05-09   949472    0.007310      Buy  \n",
       "2011-05-10  1426759    0.014255      Buy  \n",
       "2011-05-11  1884593   -0.005963     Sell  \n",
       "2011-05-12  1594500    0.002142      Buy  \n",
       "2011-05-13  1638933   -0.014365     Sell  \n",
       "2011-05-16  1012295    0.004945      Buy  \n",
       "2011-05-17  1450251   -0.002417     Sell  \n",
       "2011-05-18  1178336    0.009432      Buy  \n",
       "2011-05-19  1490007   -0.003515     Sell  \n",
       "2011-05-20  2494330   -0.015915     Sell  \n",
       "2011-05-23  1991743   -0.012151     Sell  \n",
       "2011-05-24  1434625    0.008673      Buy  \n",
       "2011-05-25  1476507    0.004299      Buy  \n",
       "2011-05-26  1418786    0.010658      Buy  \n",
       "2011-05-27  1150166    0.004841      Buy  \n",
       "2011-05-31  2593295    0.015570      Buy  "
      ],
      "text/html": "<div>\n<style scoped>\n    .dataframe tbody tr th:only-of-type {\n        vertical-align: middle;\n    }\n\n    .dataframe tbody tr th {\n        vertical-align: top;\n    }\n\n    .dataframe thead th {\n        text-align: right;\n    }\n</style>\n<table border=\"1\" class=\"dataframe\">\n  <thead>\n    <tr style=\"text-align: right;\">\n      <th></th>\n      <th>Open</th>\n      <th>High</th>\n      <th>Low</th>\n      <th>Close</th>\n      <th>Adj Close</th>\n      <th>Volume</th>\n      <th>pct_change</th>\n      <th>decision</th>\n    </tr>\n    <tr>\n      <th>Date</th>\n      <th></th>\n      <th></th>\n      <th></th>\n      <th></th>\n      <th></th>\n      <th></th>\n      <th></th>\n      <th></th>\n    </tr>\n  </thead>\n  <tbody>\n    <tr>\n      <th>2011-05-03</th>\n      <td>109.125114</td>\n      <td>110.263405</td>\n      <td>107.638756</td>\n      <td>109.190971</td>\n      <td>73.433495</td>\n      <td>2362518</td>\n      <td>0.003545</td>\n      <td>Buy</td>\n    </tr>\n    <tr>\n      <th>2011-05-04</th>\n      <td>108.965195</td>\n      <td>109.501411</td>\n      <td>108.297272</td>\n      <td>108.739418</td>\n      <td>73.129829</td>\n      <td>1906384</td>\n      <td>-0.004135</td>\n      <td>Sell</td>\n    </tr>\n    <tr>\n      <th>2011-05-05</th>\n      <td>108.156158</td>\n      <td>109.219193</td>\n      <td>107.714020</td>\n      <td>108.410156</td>\n      <td>72.908379</td>\n      <td>1391999</td>\n      <td>-0.003028</td>\n      <td>Sell</td>\n    </tr>\n    <tr>\n      <th>2011-05-06</th>\n      <td>109.557854</td>\n      <td>109.557854</td>\n      <td>107.572906</td>\n      <td>108.099716</td>\n      <td>72.699623</td>\n      <td>1680178</td>\n      <td>-0.002864</td>\n      <td>Sell</td>\n    </tr>\n    <tr>\n      <th>2011-05-09</th>\n      <td>108.222015</td>\n      <td>109.322670</td>\n      <td>107.798683</td>\n      <td>108.889931</td>\n      <td>73.231033</td>\n      <td>949472</td>\n      <td>0.007310</td>\n      <td>Buy</td>\n    </tr>\n    <tr>\n      <th>2011-05-10</th>\n      <td>109.247414</td>\n      <td>110.498589</td>\n      <td>109.002823</td>\n      <td>110.442146</td>\n      <td>74.274925</td>\n      <td>1426759</td>\n      <td>0.014255</td>\n      <td>Buy</td>\n    </tr>\n    <tr>\n      <th>2011-05-11</th>\n      <td>110.094070</td>\n      <td>110.507996</td>\n      <td>109.680153</td>\n      <td>109.783630</td>\n      <td>73.832069</td>\n      <td>1884593</td>\n      <td>-0.005963</td>\n      <td>Sell</td>\n    </tr>\n    <tr>\n      <th>2011-05-12</th>\n      <td>109.238007</td>\n      <td>110.075256</td>\n      <td>108.570084</td>\n      <td>110.018814</td>\n      <td>73.990242</td>\n      <td>1594500</td>\n      <td>0.002142</td>\n      <td>Buy</td>\n    </tr>\n    <tr>\n      <th>2011-05-13</th>\n      <td>109.755409</td>\n      <td>109.774223</td>\n      <td>108.400749</td>\n      <td>108.438385</td>\n      <td>73.429657</td>\n      <td>1638933</td>\n      <td>-0.014365</td>\n      <td>Sell</td>\n    </tr>\n    <tr>\n      <th>2011-05-16</th>\n      <td>108.447792</td>\n      <td>109.840073</td>\n      <td>108.137344</td>\n      <td>108.974602</td>\n      <td>73.792747</td>\n      <td>1012295</td>\n      <td>0.004945</td>\n      <td>Buy</td>\n    </tr>\n    <tr>\n      <th>2011-05-17</th>\n      <td>108.720604</td>\n      <td>108.861710</td>\n      <td>107.845718</td>\n      <td>108.711197</td>\n      <td>73.614410</td>\n      <td>1450251</td>\n      <td>-0.002417</td>\n      <td>Sell</td>\n    </tr>\n    <tr>\n      <th>2011-05-18</th>\n      <td>108.692383</td>\n      <td>109.774223</td>\n      <td>107.949203</td>\n      <td>109.736595</td>\n      <td>74.308754</td>\n      <td>1178336</td>\n      <td>0.009432</td>\n      <td>Buy</td>\n    </tr>\n    <tr>\n      <th>2011-05-19</th>\n      <td>110.188148</td>\n      <td>110.291626</td>\n      <td>108.711197</td>\n      <td>109.350891</td>\n      <td>74.047569</td>\n      <td>1490007</td>\n      <td>-0.003515</td>\n      <td>Sell</td>\n    </tr>\n    <tr>\n      <th>2011-05-20</th>\n      <td>109.153343</td>\n      <td>109.435562</td>\n      <td>107.610535</td>\n      <td>107.610535</td>\n      <td>72.869072</td>\n      <td>2494330</td>\n      <td>-0.015915</td>\n      <td>Sell</td>\n    </tr>\n    <tr>\n      <th>2011-05-23</th>\n      <td>106.425209</td>\n      <td>107.093132</td>\n      <td>105.983070</td>\n      <td>106.302917</td>\n      <td>71.983620</td>\n      <td>1991743</td>\n      <td>-0.012151</td>\n      <td>Sell</td>\n    </tr>\n    <tr>\n      <th>2011-05-24</th>\n      <td>106.509880</td>\n      <td>107.968018</td>\n      <td>106.387581</td>\n      <td>107.224838</td>\n      <td>72.607903</td>\n      <td>1434625</td>\n      <td>0.008673</td>\n      <td>Buy</td>\n    </tr>\n    <tr>\n      <th>2011-05-25</th>\n      <td>107.017876</td>\n      <td>108.174973</td>\n      <td>106.331139</td>\n      <td>107.685799</td>\n      <td>72.920036</td>\n      <td>1476507</td>\n      <td>0.004299</td>\n      <td>Buy</td>\n    </tr>\n    <tr>\n      <th>2011-05-26</th>\n      <td>107.281281</td>\n      <td>109.200378</td>\n      <td>106.754471</td>\n      <td>108.833488</td>\n      <td>73.697212</td>\n      <td>1418786</td>\n      <td>0.010658</td>\n      <td>Buy</td>\n    </tr>\n    <tr>\n      <th>2011-05-27</th>\n      <td>109.181564</td>\n      <td>109.595482</td>\n      <td>108.447792</td>\n      <td>109.360298</td>\n      <td>74.053947</td>\n      <td>1150166</td>\n      <td>0.004841</td>\n      <td>Buy</td>\n    </tr>\n    <tr>\n      <th>2011-05-31</th>\n      <td>110.263405</td>\n      <td>111.100662</td>\n      <td>109.689560</td>\n      <td>111.063026</td>\n      <td>75.206955</td>\n      <td>2593295</td>\n      <td>0.015570</td>\n      <td>Buy</td>\n    </tr>\n  </tbody>\n</table>\n</div>"
     },
     "metadata": {},
     "execution_count": 4
    }
   ],
   "source": [
    "ticker = \"SPG\"\n",
    "start_date = \"2011-05-01\"\n",
    "end_date = \"2021-05-31\"\n",
    "\n",
    "stock_df = yf.download(ticker, start=start_date, end=end_date)\n",
    "stock_df[\"pct_change\"] = stock_df['Close'].pct_change().dropna()\n",
    "stock_df['decision'] = np.where(stock_df['pct_change'] > 0, 'Buy' , 'Sell')\n",
    "stock_df.dropna(inplace=True)\n",
    "stock_df.head(20)"
   ]
  },
  {
   "cell_type": "code",
   "execution_count": 5,
   "metadata": {},
   "outputs": [
    {
     "output_type": "execute_result",
     "data": {
      "text/plain": [
       "                  Open        High         Low       Close  Adj Close   Volume\n",
       "Date                                                                          \n",
       "2011-05-03  109.125114  110.263405  107.638756  109.190971  73.433495  2362518\n",
       "2011-05-04  108.965195  109.501411  108.297272  108.739418  73.129829  1906384\n",
       "2011-05-05  108.156158  109.219193  107.714020  108.410156  72.908379  1391999\n",
       "2011-05-06  109.557854  109.557854  107.572906  108.099716  72.699623  1680178\n",
       "2011-05-09  108.222015  109.322670  107.798683  108.889931  73.231033   949472"
      ],
      "text/html": "<div>\n<style scoped>\n    .dataframe tbody tr th:only-of-type {\n        vertical-align: middle;\n    }\n\n    .dataframe tbody tr th {\n        vertical-align: top;\n    }\n\n    .dataframe thead th {\n        text-align: right;\n    }\n</style>\n<table border=\"1\" class=\"dataframe\">\n  <thead>\n    <tr style=\"text-align: right;\">\n      <th></th>\n      <th>Open</th>\n      <th>High</th>\n      <th>Low</th>\n      <th>Close</th>\n      <th>Adj Close</th>\n      <th>Volume</th>\n    </tr>\n    <tr>\n      <th>Date</th>\n      <th></th>\n      <th></th>\n      <th></th>\n      <th></th>\n      <th></th>\n      <th></th>\n    </tr>\n  </thead>\n  <tbody>\n    <tr>\n      <th>2011-05-03</th>\n      <td>109.125114</td>\n      <td>110.263405</td>\n      <td>107.638756</td>\n      <td>109.190971</td>\n      <td>73.433495</td>\n      <td>2362518</td>\n    </tr>\n    <tr>\n      <th>2011-05-04</th>\n      <td>108.965195</td>\n      <td>109.501411</td>\n      <td>108.297272</td>\n      <td>108.739418</td>\n      <td>73.129829</td>\n      <td>1906384</td>\n    </tr>\n    <tr>\n      <th>2011-05-05</th>\n      <td>108.156158</td>\n      <td>109.219193</td>\n      <td>107.714020</td>\n      <td>108.410156</td>\n      <td>72.908379</td>\n      <td>1391999</td>\n    </tr>\n    <tr>\n      <th>2011-05-06</th>\n      <td>109.557854</td>\n      <td>109.557854</td>\n      <td>107.572906</td>\n      <td>108.099716</td>\n      <td>72.699623</td>\n      <td>1680178</td>\n    </tr>\n    <tr>\n      <th>2011-05-09</th>\n      <td>108.222015</td>\n      <td>109.322670</td>\n      <td>107.798683</td>\n      <td>108.889931</td>\n      <td>73.231033</td>\n      <td>949472</td>\n    </tr>\n  </tbody>\n</table>\n</div>"
     },
     "metadata": {},
     "execution_count": 5
    }
   ],
   "source": [
    "X = stock_df.copy()\n",
    "X.drop(['decision', 'pct_change'], axis=1, inplace=True)\n",
    "X.dropna(inplace=True)\n",
    "X.head()"
   ]
  },
  {
   "cell_type": "code",
   "execution_count": 6,
   "metadata": {},
   "outputs": [
    {
     "output_type": "execute_result",
     "data": {
      "text/plain": [
       "array([['Buy'],\n",
       "       ['Sell'],\n",
       "       ['Sell'],\n",
       "       ['Sell'],\n",
       "       ['Buy']], dtype=object)"
      ]
     },
     "metadata": {},
     "execution_count": 6
    }
   ],
   "source": [
    "y = stock_df['decision'].values.reshape(-1,1)\n",
    "y[:5]"
   ]
  },
  {
   "cell_type": "code",
   "execution_count": 7,
   "metadata": {},
   "outputs": [],
   "source": [
    "X_train, X_test, y_train, y_test = train_test_split(X, y, random_state=78)\n",
    "scaler = StandardScaler()\n",
    "X_scaler = scaler.fit(X_train)"
   ]
  },
  {
   "cell_type": "code",
   "execution_count": 8,
   "metadata": {},
   "outputs": [],
   "source": [
    "X_train_scaled = X_scaler.transform(X_train)\n",
    "X_test_scaled = X_scaler.transform(X_test)"
   ]
  },
  {
   "cell_type": "code",
   "execution_count": 9,
   "metadata": {},
   "outputs": [],
   "source": [
    "model = tree.DecisionTreeClassifier()\n",
    "model = model.fit(X_train_scaled, y_train)\n",
    "predictions = model.predict(X_test_scaled)"
   ]
  },
  {
   "cell_type": "code",
   "execution_count": 10,
   "metadata": {},
   "outputs": [
    {
     "output_type": "stream",
     "name": "stdout",
     "text": [
      "Learning rate:  0.05\n",
      "Accuracy score (training): 0.978\n",
      "Accuracy score (validation): 0.757\n",
      "\n",
      "Learning rate:  0.1\n",
      "Accuracy score (training): 0.998\n",
      "Accuracy score (validation): 0.757\n",
      "\n",
      "Learning rate:  0.25\n",
      "Accuracy score (training): 1.000\n",
      "Accuracy score (validation): 0.760\n",
      "\n",
      "Learning rate:  0.5\n",
      "Accuracy score (training): 1.000\n",
      "Accuracy score (validation): 0.756\n",
      "\n",
      "Learning rate:  0.75\n",
      "Accuracy score (training): 1.000\n",
      "Accuracy score (validation): 0.749\n",
      "\n",
      "Learning rate:  1\n",
      "Accuracy score (training): 1.000\n",
      "Accuracy score (validation): 0.756\n",
      "\n"
     ]
    }
   ],
   "source": [
    "learning_rates = [0.05, 0.1, 0.25, 0.5, 0.75, 1]\n",
    "for learning_rate in learning_rates:\n",
    "    model = GradientBoostingClassifier(\n",
    "        n_estimators=1000,\n",
    "        learning_rate=learning_rate,\n",
    "        max_features=2,\n",
    "        max_depth=3,\n",
    "        random_state=0)\n",
    "    model.fit(X_train_scaled,y_train.ravel())\n",
    "    print(\"Learning rate: \", learning_rate)\n",
    "\n",
    "    # Score the model\n",
    "    print(\"Accuracy score (training): {0:.3f}\".format(\n",
    "        model.score(\n",
    "            X_train_scaled,\n",
    "            y_train.ravel())))\n",
    "    print(\"Accuracy score (validation): {0:.3f}\".format(\n",
    "        model.score(\n",
    "            X_test_scaled,\n",
    "            y_test.ravel())))\n",
    "    print()"
   ]
  },
  {
   "cell_type": "code",
   "execution_count": 11,
   "metadata": {},
   "outputs": [
    {
     "output_type": "execute_result",
     "data": {
      "text/plain": [
       "  Actual Prediction\n",
       "0    Buy       Sell\n",
       "1    Buy        Buy\n",
       "2   Sell       Sell\n",
       "3   Sell        Buy\n",
       "4    Buy        Buy"
      ],
      "text/html": "<div>\n<style scoped>\n    .dataframe tbody tr th:only-of-type {\n        vertical-align: middle;\n    }\n\n    .dataframe tbody tr th {\n        vertical-align: top;\n    }\n\n    .dataframe thead th {\n        text-align: right;\n    }\n</style>\n<table border=\"1\" class=\"dataframe\">\n  <thead>\n    <tr style=\"text-align: right;\">\n      <th></th>\n      <th>Actual</th>\n      <th>Prediction</th>\n    </tr>\n  </thead>\n  <tbody>\n    <tr>\n      <th>0</th>\n      <td>Buy</td>\n      <td>Sell</td>\n    </tr>\n    <tr>\n      <th>1</th>\n      <td>Buy</td>\n      <td>Buy</td>\n    </tr>\n    <tr>\n      <th>2</th>\n      <td>Sell</td>\n      <td>Sell</td>\n    </tr>\n    <tr>\n      <th>3</th>\n      <td>Sell</td>\n      <td>Buy</td>\n    </tr>\n    <tr>\n      <th>4</th>\n      <td>Buy</td>\n      <td>Buy</td>\n    </tr>\n  </tbody>\n</table>\n</div>"
     },
     "metadata": {},
     "execution_count": 11
    }
   ],
   "source": [
    "predictions_df = pd.DataFrame({\"Actual\": y_test.ravel(),\"Prediction\": predictions})\n",
    "predictions_df.head()"
   ]
  },
  {
   "cell_type": "code",
   "execution_count": 12,
   "metadata": {},
   "outputs": [
    {
     "output_type": "stream",
     "name": "stdout",
     "text": [
      "Accuracy score (training): 1.000\nAccuracy score (validation): 0.760\n"
     ]
    }
   ],
   "source": [
    "model = GradientBoostingClassifier(\n",
    "    n_estimators=1000,\n",
    "    learning_rate=1,\n",
    "    max_features=5,\n",
    "    max_depth=3,\n",
    "    random_state=0)\n",
    "\n",
    "# Fit the model\n",
    "model.fit(X_train_scaled,y_train.ravel())\n",
    "\n",
    "# Score the model\n",
    "print(\"Accuracy score (training): {0:.3f}\".format(\n",
    "    model.score(\n",
    "        X_train_scaled,\n",
    "        y_train)))\n",
    "print(\"Accuracy score (validation): {0:.3f}\".format(\n",
    "    model.score(\n",
    "        X_test_scaled,\n",
    "        y_test)))"
   ]
  },
  {
   "cell_type": "code",
   "execution_count": 13,
   "metadata": {},
   "outputs": [],
   "source": [
    "cm = confusion_matrix(y_test, predictions)\n",
    "cm_df = pd.DataFrame(\n",
    "    cm, index=[\"Actual Buy\", \"Actual Sell\"], columns=[\"Predicted Buy\", \"Predicted Sell\"]\n",
    ")\n",
    "\n",
    "acc_score = accuracy_score(y_test, predictions)"
   ]
  },
  {
   "cell_type": "code",
   "execution_count": 14,
   "metadata": {},
   "outputs": [
    {
     "output_type": "stream",
     "name": "stdout",
     "text": [
      "Confusion Matrix\n"
     ]
    },
    {
     "output_type": "display_data",
     "data": {
      "text/plain": "             Predicted Buy  Predicted Sell\nActual Buy             268              77\nActual Sell             85             204",
      "text/html": "<div>\n<style scoped>\n    .dataframe tbody tr th:only-of-type {\n        vertical-align: middle;\n    }\n\n    .dataframe tbody tr th {\n        vertical-align: top;\n    }\n\n    .dataframe thead th {\n        text-align: right;\n    }\n</style>\n<table border=\"1\" class=\"dataframe\">\n  <thead>\n    <tr style=\"text-align: right;\">\n      <th></th>\n      <th>Predicted Buy</th>\n      <th>Predicted Sell</th>\n    </tr>\n  </thead>\n  <tbody>\n    <tr>\n      <th>Actual Buy</th>\n      <td>268</td>\n      <td>77</td>\n    </tr>\n    <tr>\n      <th>Actual Sell</th>\n      <td>85</td>\n      <td>204</td>\n    </tr>\n  </tbody>\n</table>\n</div>"
     },
     "metadata": {}
    },
    {
     "output_type": "stream",
     "name": "stdout",
     "text": [
      "\nAccuracy Score: 0.744\n\nClassification Report\n              precision    recall  f1-score   support\n\n         Buy       0.76      0.78      0.77       345\n        Sell       0.73      0.71      0.72       289\n\n    accuracy                           0.74       634\n   macro avg       0.74      0.74      0.74       634\nweighted avg       0.74      0.74      0.74       634\n\n"
     ]
    }
   ],
   "source": [
    "print('Confusion Matrix')\n",
    "display(cm_df)\n",
    "print()\n",
    "print(f'Accuracy Score: {acc_score:.3f}')\n",
    "print()\n",
    "print('Classification Report')\n",
    "print(classification_report(y_test, predictions))"
   ]
  },
  {
   "cell_type": "code",
   "execution_count": 15,
   "metadata": {},
   "outputs": [],
   "source": [
    "dot_data = tree.export_graphviz(\n",
    "    model.estimators_[9, 0],\n",
    "    out_file=None, filled=True,\n",
    "    rounded=True,\n",
    "    special_characters=True,\n",
    "    proportion=True,\n",
    ")\n",
    "\n"
   ]
  },
  {
   "cell_type": "code",
   "execution_count": 16,
   "metadata": {},
   "outputs": [],
   "source": [
    "graph = pydotplus.graph_from_dot_data(dot_data)"
   ]
  },
  {
   "cell_type": "code",
   "execution_count": 17,
   "metadata": {},
   "outputs": [
    {
     "output_type": "error",
     "ename": "InvocationException",
     "evalue": "Program terminated with status: 1. stderr follows: 'C:\\Users\\Andy' is not recognized as an internal or external command,\r\noperable program or batch file.\r\n",
     "traceback": [
      "\u001b[1;31m---------------------------------------------------------------------------\u001b[0m",
      "\u001b[1;31mInvocationException\u001b[0m                       Traceback (most recent call last)",
      "\u001b[1;32m<ipython-input-17-e6295557e538>\u001b[0m in \u001b[0;36m<module>\u001b[1;34m\u001b[0m\n\u001b[1;32m----> 1\u001b[1;33m \u001b[0mImage\u001b[0m\u001b[1;33m(\u001b[0m\u001b[0mgraph\u001b[0m\u001b[1;33m.\u001b[0m\u001b[0mcreate_png\u001b[0m\u001b[1;33m(\u001b[0m\u001b[1;33m)\u001b[0m\u001b[1;33m)\u001b[0m\u001b[1;33m\u001b[0m\u001b[1;33m\u001b[0m\u001b[0m\n\u001b[0m",
      "\u001b[1;32m~\\anaconda3\\envs\\pyvizenv\\lib\\site-packages\\pydotplus\\graphviz.py\u001b[0m in \u001b[0;36m<lambda>\u001b[1;34m(f, prog)\u001b[0m\n\u001b[0;32m   1789\u001b[0m             self.__setattr__(\n\u001b[0;32m   1790\u001b[0m                 \u001b[1;34m'create_'\u001b[0m \u001b[1;33m+\u001b[0m \u001b[0mfrmt\u001b[0m\u001b[1;33m,\u001b[0m\u001b[1;33m\u001b[0m\u001b[1;33m\u001b[0m\u001b[0m\n\u001b[1;32m-> 1791\u001b[1;33m                 \u001b[1;32mlambda\u001b[0m \u001b[0mf\u001b[0m\u001b[1;33m=\u001b[0m\u001b[0mfrmt\u001b[0m\u001b[1;33m,\u001b[0m \u001b[0mprog\u001b[0m\u001b[1;33m=\u001b[0m\u001b[0mself\u001b[0m\u001b[1;33m.\u001b[0m\u001b[0mprog\u001b[0m\u001b[1;33m:\u001b[0m \u001b[0mself\u001b[0m\u001b[1;33m.\u001b[0m\u001b[0mcreate\u001b[0m\u001b[1;33m(\u001b[0m\u001b[0mformat\u001b[0m\u001b[1;33m=\u001b[0m\u001b[0mf\u001b[0m\u001b[1;33m,\u001b[0m \u001b[0mprog\u001b[0m\u001b[1;33m=\u001b[0m\u001b[0mprog\u001b[0m\u001b[1;33m)\u001b[0m\u001b[1;33m\u001b[0m\u001b[1;33m\u001b[0m\u001b[0m\n\u001b[0m\u001b[0;32m   1792\u001b[0m             )\n\u001b[0;32m   1793\u001b[0m             \u001b[0mf\u001b[0m \u001b[1;33m=\u001b[0m \u001b[0mself\u001b[0m\u001b[1;33m.\u001b[0m\u001b[0m__dict__\u001b[0m\u001b[1;33m[\u001b[0m\u001b[1;34m'create_'\u001b[0m \u001b[1;33m+\u001b[0m \u001b[0mfrmt\u001b[0m\u001b[1;33m]\u001b[0m\u001b[1;33m\u001b[0m\u001b[1;33m\u001b[0m\u001b[0m\n",
      "\u001b[1;32m~\\anaconda3\\envs\\pyvizenv\\lib\\site-packages\\pydotplus\\graphviz.py\u001b[0m in \u001b[0;36mcreate\u001b[1;34m(self, prog, format)\u001b[0m\n\u001b[0;32m   2024\u001b[0m             raise InvocationException(\n\u001b[0;32m   2025\u001b[0m                 'Program terminated with status: %d. stderr follows: %s' % (\n\u001b[1;32m-> 2026\u001b[1;33m                     status, stderr_output))\n\u001b[0m\u001b[0;32m   2027\u001b[0m         \u001b[1;32melif\u001b[0m \u001b[0mstderr_output\u001b[0m\u001b[1;33m:\u001b[0m\u001b[1;33m\u001b[0m\u001b[1;33m\u001b[0m\u001b[0m\n\u001b[0;32m   2028\u001b[0m             \u001b[0mprint\u001b[0m\u001b[1;33m(\u001b[0m\u001b[0mstderr_output\u001b[0m\u001b[1;33m)\u001b[0m\u001b[1;33m\u001b[0m\u001b[1;33m\u001b[0m\u001b[0m\n",
      "\u001b[1;31mInvocationException\u001b[0m: Program terminated with status: 1. stderr follows: 'C:\\Users\\Andy' is not recognized as an internal or external command,\r\noperable program or batch file.\r\n"
     ]
    }
   ],
   "source": [
    "Image(graph.create_png())"
   ]
  },
  {
   "cell_type": "code",
   "execution_count": null,
   "metadata": {},
   "outputs": [],
   "source": []
  }
 ],
 "metadata": {
  "kernelspec": {
   "name": "python3710jvsc74a57bd0c548ca654c032598bf9dff4fd50eb9e6f01a54359c64868b645ada918da22057",
   "display_name": "Python 3.7.10 64-bit ('pyvizenv': conda)"
  },
  "language_info": {
   "codemirror_mode": {
    "name": "ipython",
    "version": 3
   },
   "file_extension": ".py",
   "mimetype": "text/x-python",
   "name": "python",
   "nbconvert_exporter": "python",
   "pygments_lexer": "ipython3",
   "version": "3.7.10"
  }
 },
 "nbformat": 4,
 "nbformat_minor": 4
}