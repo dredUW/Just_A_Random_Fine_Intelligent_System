{
 "cells": [
  {
   "cell_type": "code",
   "execution_count": 1,
   "metadata": {},
   "outputs": [
    {
     "output_type": "stream",
     "name": "stdout",
     "text": [
      "Note: you may need to restart the kernel to use updated packages.\n",
      "'C:\\Users\\Andy' is not recognized as an internal or external command,\n",
      "operable program or batch file.\n"
     ]
    }
   ],
   "source": [
    "pip install yfinance"
   ]
  },
  {
   "cell_type": "code",
   "execution_count": 2,
   "metadata": {},
   "outputs": [],
   "source": [
    "import numpy as np\n",
    "import datetime\n",
    "import time\n",
    "import yfinance as yf\n",
    "import matplotlib.pyplot as plt\n",
    "import pandas as pd\n",
    "from sklearn import tree\n",
    "from sklearn.preprocessing import StandardScaler\n",
    "from sklearn.model_selection import train_test_split\n",
    "from sklearn.metrics import confusion_matrix, accuracy_score, classification_report, balanced_accuracy_score\n",
    "import pydotplus\n",
    "from IPython.display import Image\n",
    "%matplotlib inline\n",
    "from sklearn.ensemble import GradientBoostingClassifier\n",
    "from collections import Counter\n",
    "from imblearn.over_sampling import RandomOverSampler, SMOTE\n",
    "from sklearn.linear_model import LogisticRegression\n",
    "from imblearn.metrics import classification_report_imbalanced\n",
    "from collections import Counter\n",
    "from imblearn.under_sampling import RandomUnderSampler, ClusterCentroids\n",
    "from imblearn.combine import SMOTEENN\n",
    "from imblearn.ensemble import BalancedRandomForestClassifier"
   ]
  },
  {
   "cell_type": "code",
   "execution_count": 3,
   "metadata": {},
   "outputs": [
    {
     "output_type": "stream",
     "name": "stdout",
     "text": [
      "[*********************100%***********************]  1 of 1 completed\n"
     ]
    },
    {
     "output_type": "execute_result",
     "data": {
      "text/plain": [
       "                  Open  Daily Return  Adj Daily Return  \\\n",
       "Date                                                     \n",
       "2021-05-03  253.399994     -0.001269         -0.001307   \n",
       "2021-05-04  250.970001     -0.016160         -0.001269   \n",
       "2021-05-05  249.059998     -0.005327         -0.016160   \n",
       "2021-05-06  246.449997      0.013227         -0.005327   \n",
       "2021-05-07  252.149994      0.010932          0.013227   \n",
       "2021-05-10  250.869995     -0.020914          0.010932   \n",
       "2021-05-11  244.550003     -0.003843         -0.020914   \n",
       "2021-05-12  242.169998     -0.029363         -0.003843   \n",
       "2021-05-13  241.800003      0.016862         -0.029363   \n",
       "2021-05-14  245.580002      0.021067          0.016862   \n",
       "2021-05-17  246.550003     -0.011969          0.021067   \n",
       "2021-05-18  246.270004     -0.008565         -0.011969   \n",
       "2021-05-19  239.309998      0.000165         -0.008565   \n",
       "2021-05-20  243.960007      0.013820          0.000165   \n",
       "2021-05-21  247.570007     -0.005315          0.013820   \n",
       "2021-05-24  247.789993      0.022882         -0.005315   \n",
       "2021-05-25  251.770004      0.003748          0.022882   \n",
       "2021-05-26  251.429993     -0.000914          0.003748   \n",
       "2021-05-27  251.169998     -0.008668         -0.000914   \n",
       "2021-05-28  251.000000      0.001484         -0.008668   \n",
       "\n",
       "            Adj Daily Rolling Volatility Decision  \n",
       "Date                                               \n",
       "2021-05-03                      0.012104     Exit  \n",
       "2021-05-04                      0.012014     Exit  \n",
       "2021-05-05                      0.012742     Exit  \n",
       "2021-05-06                      0.011890     Exit  \n",
       "2021-05-07                      0.012891    Entry  \n",
       "2021-05-10                      0.012236    Entry  \n",
       "2021-05-11                      0.013265     Exit  \n",
       "2021-05-12                      0.013048     Exit  \n",
       "2021-05-13                      0.013254     Exit  \n",
       "2021-05-14                      0.015084    Entry  \n",
       "2021-05-17                      0.017017    Entry  \n",
       "2021-05-18                      0.017336     Exit  \n",
       "2021-05-19                      0.016832     Exit  \n",
       "2021-05-20                      0.016794    Entry  \n",
       "2021-05-21                      0.016851    Entry  \n",
       "2021-05-24                      0.016329     Exit  \n",
       "2021-05-25                      0.016799    Entry  \n",
       "2021-05-26                      0.016698    Entry  \n",
       "2021-05-27                      0.012624     Exit  \n",
       "2021-05-28                      0.012580     Exit  "
      ],
      "text/html": "<div>\n<style scoped>\n    .dataframe tbody tr th:only-of-type {\n        vertical-align: middle;\n    }\n\n    .dataframe tbody tr th {\n        vertical-align: top;\n    }\n\n    .dataframe thead th {\n        text-align: right;\n    }\n</style>\n<table border=\"1\" class=\"dataframe\">\n  <thead>\n    <tr style=\"text-align: right;\">\n      <th></th>\n      <th>Open</th>\n      <th>Daily Return</th>\n      <th>Adj Daily Return</th>\n      <th>Adj Daily Rolling Volatility</th>\n      <th>Decision</th>\n    </tr>\n    <tr>\n      <th>Date</th>\n      <th></th>\n      <th></th>\n      <th></th>\n      <th></th>\n      <th></th>\n    </tr>\n  </thead>\n  <tbody>\n    <tr>\n      <th>2021-05-03</th>\n      <td>253.399994</td>\n      <td>-0.001269</td>\n      <td>-0.001307</td>\n      <td>0.012104</td>\n      <td>Exit</td>\n    </tr>\n    <tr>\n      <th>2021-05-04</th>\n      <td>250.970001</td>\n      <td>-0.016160</td>\n      <td>-0.001269</td>\n      <td>0.012014</td>\n      <td>Exit</td>\n    </tr>\n    <tr>\n      <th>2021-05-05</th>\n      <td>249.059998</td>\n      <td>-0.005327</td>\n      <td>-0.016160</td>\n      <td>0.012742</td>\n      <td>Exit</td>\n    </tr>\n    <tr>\n      <th>2021-05-06</th>\n      <td>246.449997</td>\n      <td>0.013227</td>\n      <td>-0.005327</td>\n      <td>0.011890</td>\n      <td>Exit</td>\n    </tr>\n    <tr>\n      <th>2021-05-07</th>\n      <td>252.149994</td>\n      <td>0.010932</td>\n      <td>0.013227</td>\n      <td>0.012891</td>\n      <td>Entry</td>\n    </tr>\n    <tr>\n      <th>2021-05-10</th>\n      <td>250.869995</td>\n      <td>-0.020914</td>\n      <td>0.010932</td>\n      <td>0.012236</td>\n      <td>Entry</td>\n    </tr>\n    <tr>\n      <th>2021-05-11</th>\n      <td>244.550003</td>\n      <td>-0.003843</td>\n      <td>-0.020914</td>\n      <td>0.013265</td>\n      <td>Exit</td>\n    </tr>\n    <tr>\n      <th>2021-05-12</th>\n      <td>242.169998</td>\n      <td>-0.029363</td>\n      <td>-0.003843</td>\n      <td>0.013048</td>\n      <td>Exit</td>\n    </tr>\n    <tr>\n      <th>2021-05-13</th>\n      <td>241.800003</td>\n      <td>0.016862</td>\n      <td>-0.029363</td>\n      <td>0.013254</td>\n      <td>Exit</td>\n    </tr>\n    <tr>\n      <th>2021-05-14</th>\n      <td>245.580002</td>\n      <td>0.021067</td>\n      <td>0.016862</td>\n      <td>0.015084</td>\n      <td>Entry</td>\n    </tr>\n    <tr>\n      <th>2021-05-17</th>\n      <td>246.550003</td>\n      <td>-0.011969</td>\n      <td>0.021067</td>\n      <td>0.017017</td>\n      <td>Entry</td>\n    </tr>\n    <tr>\n      <th>2021-05-18</th>\n      <td>246.270004</td>\n      <td>-0.008565</td>\n      <td>-0.011969</td>\n      <td>0.017336</td>\n      <td>Exit</td>\n    </tr>\n    <tr>\n      <th>2021-05-19</th>\n      <td>239.309998</td>\n      <td>0.000165</td>\n      <td>-0.008565</td>\n      <td>0.016832</td>\n      <td>Exit</td>\n    </tr>\n    <tr>\n      <th>2021-05-20</th>\n      <td>243.960007</td>\n      <td>0.013820</td>\n      <td>0.000165</td>\n      <td>0.016794</td>\n      <td>Entry</td>\n    </tr>\n    <tr>\n      <th>2021-05-21</th>\n      <td>247.570007</td>\n      <td>-0.005315</td>\n      <td>0.013820</td>\n      <td>0.016851</td>\n      <td>Entry</td>\n    </tr>\n    <tr>\n      <th>2021-05-24</th>\n      <td>247.789993</td>\n      <td>0.022882</td>\n      <td>-0.005315</td>\n      <td>0.016329</td>\n      <td>Exit</td>\n    </tr>\n    <tr>\n      <th>2021-05-25</th>\n      <td>251.770004</td>\n      <td>0.003748</td>\n      <td>0.022882</td>\n      <td>0.016799</td>\n      <td>Entry</td>\n    </tr>\n    <tr>\n      <th>2021-05-26</th>\n      <td>251.429993</td>\n      <td>-0.000914</td>\n      <td>0.003748</td>\n      <td>0.016698</td>\n      <td>Entry</td>\n    </tr>\n    <tr>\n      <th>2021-05-27</th>\n      <td>251.169998</td>\n      <td>-0.008668</td>\n      <td>-0.000914</td>\n      <td>0.012624</td>\n      <td>Exit</td>\n    </tr>\n    <tr>\n      <th>2021-05-28</th>\n      <td>251.000000</td>\n      <td>0.001484</td>\n      <td>-0.008668</td>\n      <td>0.012580</td>\n      <td>Exit</td>\n    </tr>\n  </tbody>\n</table>\n</div>"
     },
     "metadata": {},
     "execution_count": 3
    }
   ],
   "source": [
    "ticker = 'MSFT'\n",
    "start_date = '2011-01-01'\n",
    "end_date = '2021-05-31'\n",
    "\n",
    "stock_df = yf.download(ticker, start=start_date, end=end_date)\n",
    "stock_df['Daily Return'] = stock_df['Close'].pct_change().dropna()\n",
    "stock_df['Adj Daily Return'] = stock_df['Close'].pct_change().dropna().shift()\n",
    "#stock_df['Daily Rolling Volatility'] = stock_df['Daily Return'].rolling(window=10).std()\n",
    "stock_df['Adj Daily Rolling Volatility'] = stock_df['Daily Return'].rolling(window=10).std().shift()\n",
    "stock_df['Decision'] = np.where(stock_df['Adj Daily Return'] > 0, 'Entry' , 'Exit')\n",
    "stock_df.dropna(inplace=True)\n",
    "stock_df.drop(['Close', 'High', 'Low', 'Adj Close', 'Volume'], axis=1, inplace=True)\n",
    "stock_df.tail(20)"
   ]
  },
  {
   "cell_type": "code",
   "execution_count": 4,
   "metadata": {},
   "outputs": [
    {
     "output_type": "execute_result",
     "data": {
      "text/plain": [
       "                  Open  Adj Daily Rolling Volatility\n",
       "Date                                                \n",
       "2021-05-03  253.399994                      0.012104\n",
       "2021-05-04  250.970001                      0.012014\n",
       "2021-05-05  249.059998                      0.012742\n",
       "2021-05-06  246.449997                      0.011890\n",
       "2021-05-07  252.149994                      0.012891\n",
       "2021-05-10  250.869995                      0.012236\n",
       "2021-05-11  244.550003                      0.013265\n",
       "2021-05-12  242.169998                      0.013048\n",
       "2021-05-13  241.800003                      0.013254\n",
       "2021-05-14  245.580002                      0.015084\n",
       "2021-05-17  246.550003                      0.017017\n",
       "2021-05-18  246.270004                      0.017336\n",
       "2021-05-19  239.309998                      0.016832\n",
       "2021-05-20  243.960007                      0.016794\n",
       "2021-05-21  247.570007                      0.016851\n",
       "2021-05-24  247.789993                      0.016329\n",
       "2021-05-25  251.770004                      0.016799\n",
       "2021-05-26  251.429993                      0.016698\n",
       "2021-05-27  251.169998                      0.012624\n",
       "2021-05-28  251.000000                      0.012580"
      ],
      "text/html": "<div>\n<style scoped>\n    .dataframe tbody tr th:only-of-type {\n        vertical-align: middle;\n    }\n\n    .dataframe tbody tr th {\n        vertical-align: top;\n    }\n\n    .dataframe thead th {\n        text-align: right;\n    }\n</style>\n<table border=\"1\" class=\"dataframe\">\n  <thead>\n    <tr style=\"text-align: right;\">\n      <th></th>\n      <th>Open</th>\n      <th>Adj Daily Rolling Volatility</th>\n    </tr>\n    <tr>\n      <th>Date</th>\n      <th></th>\n      <th></th>\n    </tr>\n  </thead>\n  <tbody>\n    <tr>\n      <th>2021-05-03</th>\n      <td>253.399994</td>\n      <td>0.012104</td>\n    </tr>\n    <tr>\n      <th>2021-05-04</th>\n      <td>250.970001</td>\n      <td>0.012014</td>\n    </tr>\n    <tr>\n      <th>2021-05-05</th>\n      <td>249.059998</td>\n      <td>0.012742</td>\n    </tr>\n    <tr>\n      <th>2021-05-06</th>\n      <td>246.449997</td>\n      <td>0.011890</td>\n    </tr>\n    <tr>\n      <th>2021-05-07</th>\n      <td>252.149994</td>\n      <td>0.012891</td>\n    </tr>\n    <tr>\n      <th>2021-05-10</th>\n      <td>250.869995</td>\n      <td>0.012236</td>\n    </tr>\n    <tr>\n      <th>2021-05-11</th>\n      <td>244.550003</td>\n      <td>0.013265</td>\n    </tr>\n    <tr>\n      <th>2021-05-12</th>\n      <td>242.169998</td>\n      <td>0.013048</td>\n    </tr>\n    <tr>\n      <th>2021-05-13</th>\n      <td>241.800003</td>\n      <td>0.013254</td>\n    </tr>\n    <tr>\n      <th>2021-05-14</th>\n      <td>245.580002</td>\n      <td>0.015084</td>\n    </tr>\n    <tr>\n      <th>2021-05-17</th>\n      <td>246.550003</td>\n      <td>0.017017</td>\n    </tr>\n    <tr>\n      <th>2021-05-18</th>\n      <td>246.270004</td>\n      <td>0.017336</td>\n    </tr>\n    <tr>\n      <th>2021-05-19</th>\n      <td>239.309998</td>\n      <td>0.016832</td>\n    </tr>\n    <tr>\n      <th>2021-05-20</th>\n      <td>243.960007</td>\n      <td>0.016794</td>\n    </tr>\n    <tr>\n      <th>2021-05-21</th>\n      <td>247.570007</td>\n      <td>0.016851</td>\n    </tr>\n    <tr>\n      <th>2021-05-24</th>\n      <td>247.789993</td>\n      <td>0.016329</td>\n    </tr>\n    <tr>\n      <th>2021-05-25</th>\n      <td>251.770004</td>\n      <td>0.016799</td>\n    </tr>\n    <tr>\n      <th>2021-05-26</th>\n      <td>251.429993</td>\n      <td>0.016698</td>\n    </tr>\n    <tr>\n      <th>2021-05-27</th>\n      <td>251.169998</td>\n      <td>0.012624</td>\n    </tr>\n    <tr>\n      <th>2021-05-28</th>\n      <td>251.000000</td>\n      <td>0.012580</td>\n    </tr>\n  </tbody>\n</table>\n</div>"
     },
     "metadata": {},
     "execution_count": 4
    }
   ],
   "source": [
    "X = stock_df.copy()\n",
    "X.drop(['Decision', 'Daily Return', 'Adj Daily Return'], axis=1, inplace=True)\n",
    "X.dropna(inplace=True)\n",
    "X.tail(20)"
   ]
  },
  {
   "cell_type": "code",
   "execution_count": 5,
   "metadata": {},
   "outputs": [
    {
     "output_type": "execute_result",
     "data": {
      "text/plain": [
       "array([['Entry'],\n",
       "       ['Exit'],\n",
       "       ['Exit'],\n",
       "       ['Exit'],\n",
       "       ['Entry'],\n",
       "       ['Entry'],\n",
       "       ['Entry'],\n",
       "       ['Entry'],\n",
       "       ['Exit'],\n",
       "       ['Exit'],\n",
       "       ['Entry'],\n",
       "       ['Exit'],\n",
       "       ['Exit'],\n",
       "       ['Entry'],\n",
       "       ['Entry'],\n",
       "       ['Entry'],\n",
       "       ['Exit'],\n",
       "       ['Exit'],\n",
       "       ['Exit'],\n",
       "       ['Exit']], dtype=object)"
      ]
     },
     "metadata": {},
     "execution_count": 5
    }
   ],
   "source": [
    "y = stock_df['Decision'].values.reshape(-1,1)\n",
    "y[:20]"
   ]
  },
  {
   "cell_type": "code",
   "execution_count": 6,
   "metadata": {},
   "outputs": [],
   "source": [
    "X_train, X_test, y_train, y_test = train_test_split(X, y, random_state=78)\n",
    "\n",
    "scaler = StandardScaler()\n",
    "X_scaler = scaler.fit(X_train)\n",
    "X_train_scaled = X_scaler.transform(X_train)\n",
    "X_test_scaled = X_scaler.transform(X_test)"
   ]
  },
  {
   "cell_type": "code",
   "execution_count": 7,
   "metadata": {},
   "outputs": [],
   "source": [
    "model = tree.DecisionTreeClassifier()\n",
    "model = model.fit(X_train_scaled, y_train)"
   ]
  },
  {
   "cell_type": "code",
   "execution_count": 8,
   "metadata": {},
   "outputs": [],
   "source": [
    "predictions = model.predict(X_test_scaled)"
   ]
  },
  {
   "cell_type": "code",
   "execution_count": 9,
   "metadata": {},
   "outputs": [
    {
     "output_type": "stream",
     "name": "stdout",
     "text": [
      "Learning rate:  0.05\n",
      "Accuracy score (training): 0.88497\n",
      "Accuracy score (validation): 0.52761\n",
      "\n",
      "Learning rate:  0.1\n",
      "Accuracy score (training): 0.95706\n",
      "Accuracy score (validation): 0.50920\n",
      "\n",
      "Learning rate:  0.25\n",
      "Accuracy score (training): 0.99898\n",
      "Accuracy score (validation): 0.51687\n",
      "\n",
      "Learning rate:  0.5\n",
      "Accuracy score (training): 1.00000\n",
      "Accuracy score (validation): 0.50767\n",
      "\n",
      "Learning rate:  0.75\n",
      "Accuracy score (training): 1.00000\n",
      "Accuracy score (validation): 0.50920\n",
      "\n",
      "Learning rate:  1\n",
      "Accuracy score (training): 1.00000\n",
      "Accuracy score (validation): 0.52761\n",
      "\n"
     ]
    }
   ],
   "source": [
    "learning_rates = [0.05, 0.1, 0.25, 0.5, 0.75, 1]\n",
    "for learning_rate in learning_rates:\n",
    "    model = GradientBoostingClassifier(\n",
    "        n_estimators=1000,\n",
    "        learning_rate=learning_rate,\n",
    "        max_features=2,\n",
    "        max_depth=3,\n",
    "        random_state=0)\n",
    "    model.fit(X_train_scaled,y_train.ravel())\n",
    "    print(\"Learning rate: \", learning_rate)\n",
    "\n",
    "    # Score the model\n",
    "    print(\"Accuracy score (training): {0:.5f}\".format(\n",
    "        model.score(\n",
    "            X_train_scaled,\n",
    "            y_train.ravel())))\n",
    "    print(\"Accuracy score (validation): {0:.5f}\".format(\n",
    "        model.score(\n",
    "            X_test_scaled,\n",
    "            y_test.ravel())))\n",
    "    print()"
   ]
  },
  {
   "cell_type": "code",
   "execution_count": 10,
   "metadata": {},
   "outputs": [
    {
     "output_type": "execute_result",
     "data": {
      "text/plain": [
       "           Actual Prediction\n",
       "Date                        \n",
       "2018-10-25  Entry      Entry\n",
       "2018-10-26  Entry       Exit\n",
       "2018-10-29  Entry      Entry\n",
       "2018-10-30  Entry       Exit\n",
       "2018-10-31   Exit       Exit\n",
       "2018-11-01  Entry      Entry\n",
       "2018-11-02  Entry      Entry\n",
       "2018-11-05   Exit       Exit\n",
       "2018-11-06   Exit       Exit\n",
       "2018-11-07   Exit       Exit\n",
       "2018-11-08  Entry      Entry\n",
       "2018-11-09   Exit       Exit\n",
       "2018-11-12   Exit       Exit\n",
       "2018-11-13  Entry      Entry\n",
       "2018-11-14  Entry      Entry\n",
       "2018-11-15   Exit      Entry\n",
       "2018-11-16  Entry       Exit\n",
       "2018-11-19  Entry      Entry\n",
       "2018-11-20   Exit       Exit\n",
       "2018-11-21   Exit       Exit"
      ],
      "text/html": "<div>\n<style scoped>\n    .dataframe tbody tr th:only-of-type {\n        vertical-align: middle;\n    }\n\n    .dataframe tbody tr th {\n        vertical-align: top;\n    }\n\n    .dataframe thead th {\n        text-align: right;\n    }\n</style>\n<table border=\"1\" class=\"dataframe\">\n  <thead>\n    <tr style=\"text-align: right;\">\n      <th></th>\n      <th>Actual</th>\n      <th>Prediction</th>\n    </tr>\n    <tr>\n      <th>Date</th>\n      <th></th>\n      <th></th>\n    </tr>\n  </thead>\n  <tbody>\n    <tr>\n      <th>2018-10-25</th>\n      <td>Entry</td>\n      <td>Entry</td>\n    </tr>\n    <tr>\n      <th>2018-10-26</th>\n      <td>Entry</td>\n      <td>Exit</td>\n    </tr>\n    <tr>\n      <th>2018-10-29</th>\n      <td>Entry</td>\n      <td>Entry</td>\n    </tr>\n    <tr>\n      <th>2018-10-30</th>\n      <td>Entry</td>\n      <td>Exit</td>\n    </tr>\n    <tr>\n      <th>2018-10-31</th>\n      <td>Exit</td>\n      <td>Exit</td>\n    </tr>\n    <tr>\n      <th>2018-11-01</th>\n      <td>Entry</td>\n      <td>Entry</td>\n    </tr>\n    <tr>\n      <th>2018-11-02</th>\n      <td>Entry</td>\n      <td>Entry</td>\n    </tr>\n    <tr>\n      <th>2018-11-05</th>\n      <td>Exit</td>\n      <td>Exit</td>\n    </tr>\n    <tr>\n      <th>2018-11-06</th>\n      <td>Exit</td>\n      <td>Exit</td>\n    </tr>\n    <tr>\n      <th>2018-11-07</th>\n      <td>Exit</td>\n      <td>Exit</td>\n    </tr>\n    <tr>\n      <th>2018-11-08</th>\n      <td>Entry</td>\n      <td>Entry</td>\n    </tr>\n    <tr>\n      <th>2018-11-09</th>\n      <td>Exit</td>\n      <td>Exit</td>\n    </tr>\n    <tr>\n      <th>2018-11-12</th>\n      <td>Exit</td>\n      <td>Exit</td>\n    </tr>\n    <tr>\n      <th>2018-11-13</th>\n      <td>Entry</td>\n      <td>Entry</td>\n    </tr>\n    <tr>\n      <th>2018-11-14</th>\n      <td>Entry</td>\n      <td>Entry</td>\n    </tr>\n    <tr>\n      <th>2018-11-15</th>\n      <td>Exit</td>\n      <td>Entry</td>\n    </tr>\n    <tr>\n      <th>2018-11-16</th>\n      <td>Entry</td>\n      <td>Exit</td>\n    </tr>\n    <tr>\n      <th>2018-11-19</th>\n      <td>Entry</td>\n      <td>Entry</td>\n    </tr>\n    <tr>\n      <th>2018-11-20</th>\n      <td>Exit</td>\n      <td>Exit</td>\n    </tr>\n    <tr>\n      <th>2018-11-21</th>\n      <td>Exit</td>\n      <td>Exit</td>\n    </tr>\n  </tbody>\n</table>\n</div>"
     },
     "metadata": {},
     "execution_count": 10
    }
   ],
   "source": [
    "predictions_df = pd.DataFrame({\"Actual\": y_test.ravel(),\"Prediction\": predictions}, index=stock_df.index[-len(y_test):])\n",
    "predictions_df.head(20)"
   ]
  },
  {
   "cell_type": "code",
   "execution_count": 11,
   "metadata": {},
   "outputs": [
    {
     "output_type": "stream",
     "name": "stdout",
     "text": [
      "Accuracy score (training): 1.00000\nAccuracy score (validation): 0.52761\n"
     ]
    }
   ],
   "source": [
    "model = GradientBoostingClassifier(\n",
    "    n_estimators=1000,\n",
    "    learning_rate=1,\n",
    "    max_features=2,\n",
    "    max_depth=3,\n",
    "    random_state=0)\n",
    "\n",
    "# Fit the model\n",
    "model.fit(X_train_scaled,y_train.ravel())\n",
    "\n",
    "# Score the model\n",
    "print(\"Accuracy score (training): {0:.5f}\".format(\n",
    "    model.score(\n",
    "        X_train_scaled,\n",
    "        y_train)))\n",
    "print(\"Accuracy score (validation): {0:.5f}\".format(\n",
    "    model.score(\n",
    "        X_test_scaled,\n",
    "        y_test)))"
   ]
  },
  {
   "cell_type": "code",
   "execution_count": 12,
   "metadata": {},
   "outputs": [],
   "source": [
    "cm = confusion_matrix(y_test, predictions)\n",
    "cm_df = pd.DataFrame(\n",
    "    cm, index=[\"Actual Entry\", \"Actual Exit\"], columns=[\"Predicted Entry\", \"Predicted Exit\"]\n",
    ")\n",
    "\n",
    "acc_score = accuracy_score(y_test, predictions)"
   ]
  },
  {
   "cell_type": "code",
   "execution_count": 13,
   "metadata": {},
   "outputs": [
    {
     "output_type": "stream",
     "name": "stdout",
     "text": [
      "Confusion Matrix\n"
     ]
    },
    {
     "output_type": "display_data",
     "data": {
      "text/plain": "              Predicted Entry  Predicted Exit\nActual Entry              180             151\nActual Exit               169             152",
      "text/html": "<div>\n<style scoped>\n    .dataframe tbody tr th:only-of-type {\n        vertical-align: middle;\n    }\n\n    .dataframe tbody tr th {\n        vertical-align: top;\n    }\n\n    .dataframe thead th {\n        text-align: right;\n    }\n</style>\n<table border=\"1\" class=\"dataframe\">\n  <thead>\n    <tr style=\"text-align: right;\">\n      <th></th>\n      <th>Predicted Entry</th>\n      <th>Predicted Exit</th>\n    </tr>\n  </thead>\n  <tbody>\n    <tr>\n      <th>Actual Entry</th>\n      <td>180</td>\n      <td>151</td>\n    </tr>\n    <tr>\n      <th>Actual Exit</th>\n      <td>169</td>\n      <td>152</td>\n    </tr>\n  </tbody>\n</table>\n</div>"
     },
     "metadata": {}
    },
    {
     "output_type": "stream",
     "name": "stdout",
     "text": [
      "\n\nAccuracy Score: 0.50920\n\n\nClassification Report\n              precision    recall  f1-score   support\n\n       Entry       0.52      0.54      0.53       331\n        Exit       0.50      0.47      0.49       321\n\n    accuracy                           0.51       652\n   macro avg       0.51      0.51      0.51       652\nweighted avg       0.51      0.51      0.51       652\n\n"
     ]
    }
   ],
   "source": [
    "print('Confusion Matrix')\n",
    "display(cm_df)\n",
    "print()\n",
    "print()\n",
    "print(f'Accuracy Score: {acc_score:.5f}')\n",
    "print()\n",
    "print()\n",
    "print('Classification Report')\n",
    "print(classification_report(y_test, predictions))"
   ]
  },
  {
   "cell_type": "code",
   "execution_count": 14,
   "metadata": {},
   "outputs": [
    {
     "output_type": "error",
     "ename": "InvocationException",
     "evalue": "GraphViz's executables not found",
     "traceback": [
      "\u001b[1;31m---------------------------------------------------------------------------\u001b[0m",
      "\u001b[1;31mInvocationException\u001b[0m                       Traceback (most recent call last)",
      "\u001b[1;32m<ipython-input-14-4aa1b37a649c>\u001b[0m in \u001b[0;36m<module>\u001b[1;34m\u001b[0m\n\u001b[0;32m      7\u001b[0m )\n\u001b[0;32m      8\u001b[0m \u001b[0mgraph\u001b[0m \u001b[1;33m=\u001b[0m \u001b[0mpydotplus\u001b[0m\u001b[1;33m.\u001b[0m\u001b[0mgraph_from_dot_data\u001b[0m\u001b[1;33m(\u001b[0m\u001b[0mdot_data\u001b[0m\u001b[1;33m)\u001b[0m\u001b[1;33m\u001b[0m\u001b[1;33m\u001b[0m\u001b[0m\n\u001b[1;32m----> 9\u001b[1;33m \u001b[0mImage\u001b[0m\u001b[1;33m(\u001b[0m\u001b[0mgraph\u001b[0m\u001b[1;33m.\u001b[0m\u001b[0mcreate_png\u001b[0m\u001b[1;33m(\u001b[0m\u001b[1;33m)\u001b[0m\u001b[1;33m)\u001b[0m\u001b[1;33m\u001b[0m\u001b[1;33m\u001b[0m\u001b[0m\n\u001b[0m",
      "\u001b[1;32m~\\anaconda3\\envs\\alpacaenv\\lib\\site-packages\\pydotplus\\graphviz.py\u001b[0m in \u001b[0;36m<lambda>\u001b[1;34m(f, prog)\u001b[0m\n\u001b[0;32m   1789\u001b[0m             self.__setattr__(\n\u001b[0;32m   1790\u001b[0m                 \u001b[1;34m'create_'\u001b[0m \u001b[1;33m+\u001b[0m \u001b[0mfrmt\u001b[0m\u001b[1;33m,\u001b[0m\u001b[1;33m\u001b[0m\u001b[1;33m\u001b[0m\u001b[0m\n\u001b[1;32m-> 1791\u001b[1;33m                 \u001b[1;32mlambda\u001b[0m \u001b[0mf\u001b[0m\u001b[1;33m=\u001b[0m\u001b[0mfrmt\u001b[0m\u001b[1;33m,\u001b[0m \u001b[0mprog\u001b[0m\u001b[1;33m=\u001b[0m\u001b[0mself\u001b[0m\u001b[1;33m.\u001b[0m\u001b[0mprog\u001b[0m\u001b[1;33m:\u001b[0m \u001b[0mself\u001b[0m\u001b[1;33m.\u001b[0m\u001b[0mcreate\u001b[0m\u001b[1;33m(\u001b[0m\u001b[0mformat\u001b[0m\u001b[1;33m=\u001b[0m\u001b[0mf\u001b[0m\u001b[1;33m,\u001b[0m \u001b[0mprog\u001b[0m\u001b[1;33m=\u001b[0m\u001b[0mprog\u001b[0m\u001b[1;33m)\u001b[0m\u001b[1;33m\u001b[0m\u001b[1;33m\u001b[0m\u001b[0m\n\u001b[0m\u001b[0;32m   1792\u001b[0m             )\n\u001b[0;32m   1793\u001b[0m             \u001b[0mf\u001b[0m \u001b[1;33m=\u001b[0m \u001b[0mself\u001b[0m\u001b[1;33m.\u001b[0m\u001b[0m__dict__\u001b[0m\u001b[1;33m[\u001b[0m\u001b[1;34m'create_'\u001b[0m \u001b[1;33m+\u001b[0m \u001b[0mfrmt\u001b[0m\u001b[1;33m]\u001b[0m\u001b[1;33m\u001b[0m\u001b[1;33m\u001b[0m\u001b[0m\n",
      "\u001b[1;32m~\\anaconda3\\envs\\alpacaenv\\lib\\site-packages\\pydotplus\\graphviz.py\u001b[0m in \u001b[0;36mcreate\u001b[1;34m(self, prog, format)\u001b[0m\n\u001b[0;32m   1952\u001b[0m             \u001b[1;32mif\u001b[0m \u001b[0mself\u001b[0m\u001b[1;33m.\u001b[0m\u001b[0mprogs\u001b[0m \u001b[1;32mis\u001b[0m \u001b[1;32mNone\u001b[0m\u001b[1;33m:\u001b[0m\u001b[1;33m\u001b[0m\u001b[1;33m\u001b[0m\u001b[0m\n\u001b[0;32m   1953\u001b[0m                 raise InvocationException(\n\u001b[1;32m-> 1954\u001b[1;33m                     'GraphViz\\'s executables not found')\n\u001b[0m\u001b[0;32m   1955\u001b[0m \u001b[1;33m\u001b[0m\u001b[0m\n\u001b[0;32m   1956\u001b[0m         \u001b[1;32mif\u001b[0m \u001b[0mprog\u001b[0m \u001b[1;32mnot\u001b[0m \u001b[1;32min\u001b[0m \u001b[0mself\u001b[0m\u001b[1;33m.\u001b[0m\u001b[0mprogs\u001b[0m\u001b[1;33m:\u001b[0m\u001b[1;33m\u001b[0m\u001b[1;33m\u001b[0m\u001b[0m\n",
      "\u001b[1;31mInvocationException\u001b[0m: GraphViz's executables not found"
     ]
    }
   ],
   "source": [
    "dot_data = tree.export_graphviz(\n",
    "    model.estimators_[9, 0],\n",
    "    out_file=None, filled=True,\n",
    "    rounded=True,\n",
    "    special_characters=True,\n",
    "    proportion=True,\n",
    ")\n",
    "graph = pydotplus.graph_from_dot_data(dot_data)\n",
    "Image(graph.create_png())\n"
   ]
  },
  {
   "source": [
    "## Random Oversampling"
   ],
   "cell_type": "markdown",
   "metadata": {}
  },
  {
   "cell_type": "code",
   "execution_count": 15,
   "metadata": {},
   "outputs": [
    {
     "output_type": "execute_result",
     "data": {
      "text/plain": [
       "Counter({'Exit': 1032, 'Entry': 1032})"
      ]
     },
     "metadata": {},
     "execution_count": 15
    }
   ],
   "source": [
    "ros = RandomOverSampler(random_state=78)\n",
    "X_over_resampled, y_over_resampled = ros.fit_resample(X_train_scaled, y_train)\n",
    "Counter(y_over_resampled)"
   ]
  },
  {
   "cell_type": "code",
   "execution_count": 16,
   "metadata": {},
   "outputs": [],
   "source": [
    "model_over_resample = LogisticRegression(solver='lbfgs', random_state=78)\n",
    "model_over_resample.fit(X_over_resampled, y_over_resampled)\n",
    "y_pred_over = model.predict(X_test_scaled)\n",
    "cm_over = confusion_matrix(y_test, y_pred_over)\n",
    "cm_over_df = pd.DataFrame(\n",
    "    cm_over, index=[\"Actual Entry\", \"Actual Exit\"], columns=[\"Predicted Entry\", \"Predicted Exit\"]\n",
    ")\n",
    "bac_over = balanced_accuracy_score(y_test, y_pred_over)"
   ]
  },
  {
   "cell_type": "code",
   "execution_count": 17,
   "metadata": {},
   "outputs": [
    {
     "output_type": "stream",
     "name": "stdout",
     "text": [
      "Confusion Matrix\n"
     ]
    },
    {
     "output_type": "display_data",
     "data": {
      "text/plain": "              Predicted Entry  Predicted Exit\nActual Entry              196             135\nActual Exit               173             148",
      "text/html": "<div>\n<style scoped>\n    .dataframe tbody tr th:only-of-type {\n        vertical-align: middle;\n    }\n\n    .dataframe tbody tr th {\n        vertical-align: top;\n    }\n\n    .dataframe thead th {\n        text-align: right;\n    }\n</style>\n<table border=\"1\" class=\"dataframe\">\n  <thead>\n    <tr style=\"text-align: right;\">\n      <th></th>\n      <th>Predicted Entry</th>\n      <th>Predicted Exit</th>\n    </tr>\n  </thead>\n  <tbody>\n    <tr>\n      <th>Actual Entry</th>\n      <td>196</td>\n      <td>135</td>\n    </tr>\n    <tr>\n      <th>Actual Exit</th>\n      <td>173</td>\n      <td>148</td>\n    </tr>\n  </tbody>\n</table>\n</div>"
     },
     "metadata": {}
    },
    {
     "output_type": "stream",
     "name": "stdout",
     "text": [
      "\n\nBalance Accuracy Score: 0.52660\n\n\nClassification Report (Imbalanced)\n                   pre       rec       spe        f1       geo       iba       sup\n\n      Entry       0.53      0.59      0.46      0.56      0.52      0.28       331\n       Exit       0.52      0.46      0.59      0.49      0.52      0.27       321\n\navg / total       0.53      0.53      0.53      0.53      0.52      0.27       652\n\n"
     ]
    }
   ],
   "source": [
    "print('Confusion Matrix')\n",
    "display(cm_over_df)\n",
    "print()\n",
    "print()\n",
    "print(f'Balance Accuracy Score: {bac_over:.5f}')\n",
    "print()\n",
    "print()\n",
    "print('Classification Report (Imbalanced)')\n",
    "print(classification_report_imbalanced(y_test, y_pred_over))"
   ]
  },
  {
   "source": [
    "## SMOTE"
   ],
   "cell_type": "markdown",
   "metadata": {}
  },
  {
   "cell_type": "code",
   "execution_count": 18,
   "metadata": {},
   "outputs": [
    {
     "output_type": "execute_result",
     "data": {
      "text/plain": [
       "Counter({'Exit': 1032, 'Entry': 1032})"
      ]
     },
     "metadata": {},
     "execution_count": 18
    }
   ],
   "source": [
    "X_resampled_smote, y_resampled_smote = SMOTE(random_state=1, sampling_strategy=1.0).fit_resample(\n",
    "    X_train_scaled, y_train\n",
    ")\n",
    "\n",
    "Counter(y_resampled_smote)"
   ]
  },
  {
   "cell_type": "code",
   "execution_count": 19,
   "metadata": {},
   "outputs": [],
   "source": [
    "model_smote = LogisticRegression(solver='lbfgs', random_state=78)\n",
    "model_smote.fit(X_resampled_smote, y_resampled_smote)\n",
    "y_pred_smote = model_smote.predict(X_test_scaled)\n",
    "bac_smote = balanced_accuracy_score(y_test, y_pred_smote)\n",
    "cm_smote = confusion_matrix(y_test, y_pred_smote)\n",
    "cm_smote_df = pd.DataFrame(\n",
    "    cm_smote, index=[\"Actual Entry\", \"Actual Exit\"], columns=[\"Predicted Entry\", \"Predicted Exit\"]\n",
    ")"
   ]
  },
  {
   "cell_type": "code",
   "execution_count": 20,
   "metadata": {},
   "outputs": [
    {
     "output_type": "stream",
     "name": "stdout",
     "text": [
      "Confusion Matrix\n"
     ]
    },
    {
     "output_type": "display_data",
     "data": {
      "text/plain": "              Predicted Entry  Predicted Exit\nActual Entry              149             182\nActual Exit               111             210",
      "text/html": "<div>\n<style scoped>\n    .dataframe tbody tr th:only-of-type {\n        vertical-align: middle;\n    }\n\n    .dataframe tbody tr th {\n        vertical-align: top;\n    }\n\n    .dataframe thead th {\n        text-align: right;\n    }\n</style>\n<table border=\"1\" class=\"dataframe\">\n  <thead>\n    <tr style=\"text-align: right;\">\n      <th></th>\n      <th>Predicted Entry</th>\n      <th>Predicted Exit</th>\n    </tr>\n  </thead>\n  <tbody>\n    <tr>\n      <th>Actual Entry</th>\n      <td>149</td>\n      <td>182</td>\n    </tr>\n    <tr>\n      <th>Actual Exit</th>\n      <td>111</td>\n      <td>210</td>\n    </tr>\n  </tbody>\n</table>\n</div>"
     },
     "metadata": {}
    },
    {
     "output_type": "stream",
     "name": "stdout",
     "text": [
      "\n\nBalance Accuracy Score: 0.55218\n\n\nClassification Report (Imbalanced)\n                   pre       rec       spe        f1       geo       iba       sup\n\n      Entry       0.57      0.45      0.65      0.50      0.54      0.29       331\n       Exit       0.54      0.65      0.45      0.59      0.54      0.30       321\n\navg / total       0.55      0.55      0.55      0.55      0.54      0.29       652\n\n"
     ]
    }
   ],
   "source": [
    "print('Confusion Matrix')\n",
    "display(cm_smote_df)\n",
    "print()\n",
    "print()\n",
    "print(f'Balance Accuracy Score: {bac_smote:.5f}')\n",
    "print()\n",
    "print()\n",
    "print('Classification Report (Imbalanced)')\n",
    "print(classification_report_imbalanced(y_test, y_pred_smote))"
   ]
  },
  {
   "source": [
    "## Undersampling"
   ],
   "cell_type": "markdown",
   "metadata": {}
  },
  {
   "cell_type": "code",
   "execution_count": 21,
   "metadata": {},
   "outputs": [
    {
     "output_type": "execute_result",
     "data": {
      "text/plain": [
       "Counter({'Exit': 1032, 'Entry': 1032})"
      ]
     },
     "metadata": {},
     "execution_count": 21
    }
   ],
   "source": [
    "rus = RandomUnderSampler(random_state=78)\n",
    "X_under_resampled, y_under_resampled = ros.fit_resample(X_train_scaled, y_train)\n",
    "Counter(y_under_resampled)"
   ]
  },
  {
   "cell_type": "code",
   "execution_count": 22,
   "metadata": {},
   "outputs": [],
   "source": [
    "model_under_resample = LogisticRegression(solver='lbfgs', random_state=78)\n",
    "model_under_resample.fit(X_under_resampled, y_under_resampled)\n",
    "y_pred_under = model_under_resample.predict(X_test_scaled)\n",
    "bac_under = balanced_accuracy_score(y_test, y_pred_under)\n",
    "cm_under = confusion_matrix(y_test, y_pred_under)\n",
    "cm_under_df = pd.DataFrame(\n",
    "    cm_under, index=[\"Actual Entry\", \"Actual Exit\"], columns=[\"Predicted Entry\", \"Predicted Exit\"]\n",
    ")"
   ]
  },
  {
   "cell_type": "code",
   "execution_count": 23,
   "metadata": {},
   "outputs": [
    {
     "output_type": "stream",
     "name": "stdout",
     "text": [
      "Confusion Matrix\n"
     ]
    },
    {
     "output_type": "display_data",
     "data": {
      "text/plain": "              Predicted Entry  Predicted Exit\nActual Entry              160             171\nActual Exit               120             201",
      "text/html": "<div>\n<style scoped>\n    .dataframe tbody tr th:only-of-type {\n        vertical-align: middle;\n    }\n\n    .dataframe tbody tr th {\n        vertical-align: top;\n    }\n\n    .dataframe thead th {\n        text-align: right;\n    }\n</style>\n<table border=\"1\" class=\"dataframe\">\n  <thead>\n    <tr style=\"text-align: right;\">\n      <th></th>\n      <th>Predicted Entry</th>\n      <th>Predicted Exit</th>\n    </tr>\n  </thead>\n  <tbody>\n    <tr>\n      <th>Actual Entry</th>\n      <td>160</td>\n      <td>171</td>\n    </tr>\n    <tr>\n      <th>Actual Exit</th>\n      <td>120</td>\n      <td>201</td>\n    </tr>\n  </tbody>\n</table>\n</div>"
     },
     "metadata": {}
    },
    {
     "output_type": "stream",
     "name": "stdout",
     "text": [
      "\n\nBalance Accuracy Score: 0.55478\n\n\nClassification Report (Imbalanced)\n                   pre       rec       spe        f1       geo       iba       sup\n\n      Entry       0.57      0.48      0.63      0.52      0.55      0.30       331\n       Exit       0.54      0.63      0.48      0.58      0.55      0.31       321\n\navg / total       0.56      0.55      0.56      0.55      0.55      0.30       652\n\n"
     ]
    }
   ],
   "source": [
    "print('Confusion Matrix')\n",
    "display(cm_under_df)\n",
    "print()\n",
    "print()\n",
    "print(f'Balance Accuracy Score: {bac_under:.5f}')\n",
    "print()\n",
    "print()\n",
    "print('Classification Report (Imbalanced)')\n",
    "print(classification_report_imbalanced(y_test, y_pred_under))"
   ]
  },
  {
   "source": [
    "## Cluster Centroid Undersampling"
   ],
   "cell_type": "markdown",
   "metadata": {}
  },
  {
   "cell_type": "code",
   "execution_count": 24,
   "metadata": {},
   "outputs": [
    {
     "output_type": "execute_result",
     "data": {
      "text/plain": [
       "Counter({'Entry': 924, 'Exit': 924})"
      ]
     },
     "metadata": {},
     "execution_count": 24
    }
   ],
   "source": [
    "cluster = ClusterCentroids(random_state=78)\n",
    "X_resampled_cc, y_resampled_cc = cluster.fit_resample(X_train_scaled, y_train)\n",
    "Counter(y_resampled_cc)"
   ]
  },
  {
   "cell_type": "code",
   "execution_count": 25,
   "metadata": {},
   "outputs": [],
   "source": [
    "model_resample_cc = LogisticRegression(solver='lbfgs', random_state=78)\n",
    "model_resample_cc.fit(X_resampled_cc, y_resampled_cc)\n",
    "y_pred_cc = model_resample_cc.predict(X_test_scaled)\n",
    "bac_cc = balanced_accuracy_score(y_test, y_pred_cc)\n",
    "cm_cc = confusion_matrix(y_test, y_pred_cc)\n",
    "cm_cc_df = pd.DataFrame(\n",
    "    cm_cc, index=[\"Actual Entry\", \"Actual Exit\"], columns=[\"Predicted Entry\", \"Predicted Exit\"]\n",
    ")"
   ]
  },
  {
   "cell_type": "code",
   "execution_count": 26,
   "metadata": {},
   "outputs": [
    {
     "output_type": "stream",
     "name": "stdout",
     "text": [
      "Confusion Matrix\n"
     ]
    },
    {
     "output_type": "display_data",
     "data": {
      "text/plain": "              Predicted Entry  Predicted Exit\nActual Entry              129             202\nActual Exit                97             224",
      "text/html": "<div>\n<style scoped>\n    .dataframe tbody tr th:only-of-type {\n        vertical-align: middle;\n    }\n\n    .dataframe tbody tr th {\n        vertical-align: top;\n    }\n\n    .dataframe thead th {\n        text-align: right;\n    }\n</style>\n<table border=\"1\" class=\"dataframe\">\n  <thead>\n    <tr style=\"text-align: right;\">\n      <th></th>\n      <th>Predicted Entry</th>\n      <th>Predicted Exit</th>\n    </tr>\n  </thead>\n  <tbody>\n    <tr>\n      <th>Actual Entry</th>\n      <td>129</td>\n      <td>202</td>\n    </tr>\n    <tr>\n      <th>Actual Exit</th>\n      <td>97</td>\n      <td>224</td>\n    </tr>\n  </tbody>\n</table>\n</div>"
     },
     "metadata": {}
    },
    {
     "output_type": "stream",
     "name": "stdout",
     "text": [
      "\n\nBalance Accuracy Score: 0.54377\n\n\nClassification Report (Imbalanced)\n                   pre       rec       spe        f1       geo       iba       sup\n\n      Entry       0.57      0.39      0.70      0.46      0.52      0.26       331\n       Exit       0.53      0.70      0.39      0.60      0.52      0.28       321\n\navg / total       0.55      0.54      0.55      0.53      0.52      0.27       652\n\n"
     ]
    }
   ],
   "source": [
    "print('Confusion Matrix')\n",
    "display(cm_cc_df)\n",
    "print()\n",
    "print()\n",
    "print(f'Balance Accuracy Score: {bac_cc:.5f}')\n",
    "print()\n",
    "print()\n",
    "print('Classification Report (Imbalanced)')\n",
    "print(classification_report_imbalanced(y_test, y_pred_cc))"
   ]
  },
  {
   "source": [
    "## SMOTEEN"
   ],
   "cell_type": "markdown",
   "metadata": {}
  },
  {
   "cell_type": "code",
   "execution_count": 27,
   "metadata": {},
   "outputs": [
    {
     "output_type": "execute_result",
     "data": {
      "text/plain": [
       "Counter({'Entry': 161, 'Exit': 175})"
      ]
     },
     "metadata": {},
     "execution_count": 27
    }
   ],
   "source": [
    "sm = SMOTEENN(random_state=78)\n",
    "X_resampled_smoteenn, y_resampled_smoteenn = sm.fit_resample(X_train_scaled, y_train)\n",
    "Counter(y_resampled_smoteenn)"
   ]
  },
  {
   "cell_type": "code",
   "execution_count": 28,
   "metadata": {},
   "outputs": [],
   "source": [
    "model_smoteenn = LogisticRegression(solver='lbfgs', random_state=78)\n",
    "model_smoteenn.fit(X_resampled_smoteenn, y_resampled_smoteenn)\n",
    "y_pred_smoteenn = model_smoteenn.predict(X_test_scaled)\n",
    "bac_smoteenn = balanced_accuracy_score(y_test, y_pred_smoteenn)\n",
    "cm_smoteenn = confusion_matrix(y_test, y_pred_smoteenn)\n",
    "cm_smoteenn_df = pd.DataFrame(\n",
    "    cm_smoteenn, index=[\"Actual Entry\", \"Actual Exit\"], columns=[\"Predicted Entry\", \"Predicted Exit\"]\n",
    ")"
   ]
  },
  {
   "cell_type": "code",
   "execution_count": 29,
   "metadata": {},
   "outputs": [
    {
     "output_type": "stream",
     "name": "stdout",
     "text": [
      "Confusion Matrix\n"
     ]
    },
    {
     "output_type": "display_data",
     "data": {
      "text/plain": "              Predicted Entry  Predicted Exit\nActual Entry              132             199\nActual Exit                96             225",
      "text/html": "<div>\n<style scoped>\n    .dataframe tbody tr th:only-of-type {\n        vertical-align: middle;\n    }\n\n    .dataframe tbody tr th {\n        vertical-align: top;\n    }\n\n    .dataframe thead th {\n        text-align: right;\n    }\n</style>\n<table border=\"1\" class=\"dataframe\">\n  <thead>\n    <tr style=\"text-align: right;\">\n      <th></th>\n      <th>Predicted Entry</th>\n      <th>Predicted Exit</th>\n    </tr>\n  </thead>\n  <tbody>\n    <tr>\n      <th>Actual Entry</th>\n      <td>132</td>\n      <td>199</td>\n    </tr>\n    <tr>\n      <th>Actual Exit</th>\n      <td>96</td>\n      <td>225</td>\n    </tr>\n  </tbody>\n</table>\n</div>"
     },
     "metadata": {}
    },
    {
     "output_type": "stream",
     "name": "stdout",
     "text": [
      "\n\nBalance Accuracy Score: 0.54986\n\n\nClassification Report (Imbalanced)\n                   pre       rec       spe        f1       geo       iba       sup\n\n      Entry       0.58      0.40      0.70      0.47      0.53      0.27       331\n       Exit       0.53      0.70      0.40      0.60      0.53      0.29       321\n\navg / total       0.56      0.55      0.55      0.54      0.53      0.28       652\n\n"
     ]
    }
   ],
   "source": [
    "print('Confusion Matrix')\n",
    "display(cm_smoteenn_df)\n",
    "print()\n",
    "print()\n",
    "print(f'Balance Accuracy Score: {bac_smoteenn:.5f}')\n",
    "print()\n",
    "print()\n",
    "print('Classification Report (Imbalanced)')\n",
    "print(classification_report_imbalanced(y_test, y_pred_smoteenn))"
   ]
  },
  {
   "source": [
    "## Balanced Random Forest Classifier"
   ],
   "cell_type": "markdown",
   "metadata": {}
  },
  {
   "cell_type": "code",
   "execution_count": 30,
   "metadata": {},
   "outputs": [
    {
     "output_type": "stream",
     "name": "stderr",
     "text": [
      "C:\\Users\\Andy L\\anaconda3\\envs\\alpacaenv\\lib\\site-packages\\ipykernel_launcher.py:2: DataConversionWarning: A column-vector y was passed when a 1d array was expected. Please change the shape of y to (n_samples,), for example using ravel().\n  \n"
     ]
    }
   ],
   "source": [
    "brf = BalancedRandomForestClassifier(n_estimators=1000, random_state=78)\n",
    "brf.fit(X_train_scaled, y_train)\n",
    "y_pred_brf = brf.predict(X_test_scaled)\n",
    "bac_brf = balanced_accuracy_score(y_test, y_pred_brf)\n",
    "cm_brf = confusion_matrix(y_test, y_pred_brf)\n",
    "cm_brf_df = pd.DataFrame(\n",
    "    cm_brf, index=[\"Actual Entry\", \"Actual Exit\"], columns=[\"Predicted Entry\", \"Predicted Exit\"]\n",
    ")"
   ]
  },
  {
   "cell_type": "code",
   "execution_count": 31,
   "metadata": {},
   "outputs": [
    {
     "output_type": "stream",
     "name": "stdout",
     "text": [
      "Confusion Matrix\n"
     ]
    },
    {
     "output_type": "display_data",
     "data": {
      "text/plain": "              Predicted Entry  Predicted Exit\nActual Entry              174             157\nActual Exit               159             162",
      "text/html": "<div>\n<style scoped>\n    .dataframe tbody tr th:only-of-type {\n        vertical-align: middle;\n    }\n\n    .dataframe tbody tr th {\n        vertical-align: top;\n    }\n\n    .dataframe thead th {\n        text-align: right;\n    }\n</style>\n<table border=\"1\" class=\"dataframe\">\n  <thead>\n    <tr style=\"text-align: right;\">\n      <th></th>\n      <th>Predicted Entry</th>\n      <th>Predicted Exit</th>\n    </tr>\n  </thead>\n  <tbody>\n    <tr>\n      <th>Actual Entry</th>\n      <td>174</td>\n      <td>157</td>\n    </tr>\n    <tr>\n      <th>Actual Exit</th>\n      <td>159</td>\n      <td>162</td>\n    </tr>\n  </tbody>\n</table>\n</div>"
     },
     "metadata": {}
    },
    {
     "output_type": "stream",
     "name": "stdout",
     "text": [
      "\n\nBalance Accuracy Score: 0.51518\n\n\nClassification Report (Imbalanced)\n                   pre       rec       spe        f1       geo       iba       sup\n\n      Entry       0.52      0.53      0.50      0.52      0.52      0.27       331\n       Exit       0.51      0.50      0.53      0.51      0.52      0.26       321\n\navg / total       0.52      0.52      0.52      0.52      0.52      0.27       652\n\n"
     ]
    }
   ],
   "source": [
    "print('Confusion Matrix')\n",
    "display(cm_brf_df)\n",
    "print()\n",
    "print()\n",
    "print(f'Balance Accuracy Score: {bac_brf:.5f}')\n",
    "print()\n",
    "print()\n",
    "print('Classification Report (Imbalanced)')\n",
    "print(classification_report_imbalanced(y_test, y_pred_brf))"
   ]
  },
  {
   "cell_type": "code",
   "execution_count": null,
   "metadata": {},
   "outputs": [],
   "source": []
  },
  {
   "cell_type": "code",
   "execution_count": null,
   "metadata": {},
   "outputs": [],
   "source": []
  },
  {
   "cell_type": "code",
   "execution_count": null,
   "metadata": {},
   "outputs": [],
   "source": []
  }
 ],
 "metadata": {
  "kernelspec": {
   "name": "python3710jvsc74a57bd0a0b64a8f310ee5ace1b9b3d4385d821e8822fc5ed1b5821a1c24d6f0c80e5ddc",
   "display_name": "Python 3.7.10 64-bit ('alpacaenv': conda)"
  },
  "language_info": {
   "codemirror_mode": {
    "name": "ipython",
    "version": 3
   },
   "file_extension": ".py",
   "mimetype": "text/x-python",
   "name": "python",
   "nbconvert_exporter": "python",
   "pygments_lexer": "ipython3",
   "version": "3.7.10"
  }
 },
 "nbformat": 4,
 "nbformat_minor": 4
}