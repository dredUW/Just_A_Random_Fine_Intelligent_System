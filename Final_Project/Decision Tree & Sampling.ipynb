{
 "cells": [
  {
   "cell_type": "code",
   "execution_count": 1,
   "metadata": {},
   "outputs": [
    {
     "output_type": "stream",
     "name": "stdout",
     "text": [
      "Note: you may need to restart the kernel to use updated packages.\n",
      "'C:\\Users\\Andy' is not recognized as an internal or external command,\n",
      "operable program or batch file.\n"
     ]
    }
   ],
   "source": [
    "pip install yfinance"
   ]
  },
  {
   "cell_type": "code",
   "execution_count": 2,
   "metadata": {},
   "outputs": [],
   "source": [
    "import numpy as np\n",
    "import datetime\n",
    "import time\n",
    "import yfinance as yf\n",
    "import matplotlib.pyplot as plt\n",
    "import pandas as pd\n",
    "from sklearn import tree\n",
    "from sklearn.preprocessing import StandardScaler\n",
    "from sklearn.model_selection import train_test_split, GridSearchCV\n",
    "from sklearn.metrics import confusion_matrix, accuracy_score, classification_report, balanced_accuracy_score\n",
    "import pydotplus\n",
    "from IPython.display import Image\n",
    "%matplotlib inline\n",
    "from sklearn.ensemble import GradientBoostingClassifier\n",
    "from collections import Counter\n",
    "from imblearn.over_sampling import RandomOverSampler, SMOTE\n",
    "from sklearn.linear_model import LogisticRegression\n",
    "from imblearn.metrics import classification_report_imbalanced\n",
    "from collections import Counter\n",
    "from imblearn.under_sampling import RandomUnderSampler, ClusterCentroids\n",
    "from imblearn.combine import SMOTEENN\n",
    "from imblearn.ensemble import BalancedRandomForestClassifier\n",
    "from sklearn.datasets import make_classification\n",
    "import dataframe_image as dfi"
   ]
  },
  {
   "cell_type": "code",
   "execution_count": 3,
   "metadata": {},
   "outputs": [
    {
     "output_type": "stream",
     "name": "stdout",
     "text": [
      "[*********************100%***********************]  1 of 1 completed\n"
     ]
    },
    {
     "output_type": "execute_result",
     "data": {
      "text/plain": [
       "                  Open  Daily Return  Adj Daily Return  \\\n",
       "Date                                                     \n",
       "2021-05-03  253.399994     -0.001269         -0.001307   \n",
       "2021-05-04  250.970001     -0.016160         -0.001269   \n",
       "2021-05-05  249.059998     -0.005327         -0.016160   \n",
       "2021-05-06  246.449997      0.013227         -0.005327   \n",
       "2021-05-07  252.149994      0.010932          0.013227   \n",
       "2021-05-10  250.869995     -0.020914          0.010932   \n",
       "2021-05-11  244.550003     -0.003843         -0.020914   \n",
       "2021-05-12  242.169998     -0.029363         -0.003843   \n",
       "2021-05-13  241.800003      0.016862         -0.029363   \n",
       "2021-05-14  245.580002      0.021067          0.016862   \n",
       "2021-05-17  246.550003     -0.011969          0.021067   \n",
       "2021-05-18  246.270004     -0.008565         -0.011969   \n",
       "2021-05-19  239.309998      0.000165         -0.008565   \n",
       "2021-05-20  243.960007      0.013820          0.000165   \n",
       "2021-05-21  247.570007     -0.005315          0.013820   \n",
       "2021-05-24  247.789993      0.022882         -0.005315   \n",
       "2021-05-25  251.770004      0.003748          0.022882   \n",
       "2021-05-26  251.429993     -0.000914          0.003748   \n",
       "2021-05-27  251.169998     -0.008668         -0.000914   \n",
       "2021-05-28  251.000000      0.001484         -0.008668   \n",
       "\n",
       "            Adj Daily Rolling Volatility Decision  \n",
       "Date                                               \n",
       "2021-05-03                      0.012104     Exit  \n",
       "2021-05-04                      0.012014     Exit  \n",
       "2021-05-05                      0.012742     Exit  \n",
       "2021-05-06                      0.011890     Exit  \n",
       "2021-05-07                      0.012891    Entry  \n",
       "2021-05-10                      0.012236    Entry  \n",
       "2021-05-11                      0.013265     Exit  \n",
       "2021-05-12                      0.013048     Exit  \n",
       "2021-05-13                      0.013254     Exit  \n",
       "2021-05-14                      0.015084    Entry  \n",
       "2021-05-17                      0.017017    Entry  \n",
       "2021-05-18                      0.017336     Exit  \n",
       "2021-05-19                      0.016832     Exit  \n",
       "2021-05-20                      0.016794    Entry  \n",
       "2021-05-21                      0.016851    Entry  \n",
       "2021-05-24                      0.016329     Exit  \n",
       "2021-05-25                      0.016799    Entry  \n",
       "2021-05-26                      0.016698    Entry  \n",
       "2021-05-27                      0.012624     Exit  \n",
       "2021-05-28                      0.012580     Exit  "
      ],
      "text/html": "<div>\n<style scoped>\n    .dataframe tbody tr th:only-of-type {\n        vertical-align: middle;\n    }\n\n    .dataframe tbody tr th {\n        vertical-align: top;\n    }\n\n    .dataframe thead th {\n        text-align: right;\n    }\n</style>\n<table border=\"1\" class=\"dataframe\">\n  <thead>\n    <tr style=\"text-align: right;\">\n      <th></th>\n      <th>Open</th>\n      <th>Daily Return</th>\n      <th>Adj Daily Return</th>\n      <th>Adj Daily Rolling Volatility</th>\n      <th>Decision</th>\n    </tr>\n    <tr>\n      <th>Date</th>\n      <th></th>\n      <th></th>\n      <th></th>\n      <th></th>\n      <th></th>\n    </tr>\n  </thead>\n  <tbody>\n    <tr>\n      <th>2021-05-03</th>\n      <td>253.399994</td>\n      <td>-0.001269</td>\n      <td>-0.001307</td>\n      <td>0.012104</td>\n      <td>Exit</td>\n    </tr>\n    <tr>\n      <th>2021-05-04</th>\n      <td>250.970001</td>\n      <td>-0.016160</td>\n      <td>-0.001269</td>\n      <td>0.012014</td>\n      <td>Exit</td>\n    </tr>\n    <tr>\n      <th>2021-05-05</th>\n      <td>249.059998</td>\n      <td>-0.005327</td>\n      <td>-0.016160</td>\n      <td>0.012742</td>\n      <td>Exit</td>\n    </tr>\n    <tr>\n      <th>2021-05-06</th>\n      <td>246.449997</td>\n      <td>0.013227</td>\n      <td>-0.005327</td>\n      <td>0.011890</td>\n      <td>Exit</td>\n    </tr>\n    <tr>\n      <th>2021-05-07</th>\n      <td>252.149994</td>\n      <td>0.010932</td>\n      <td>0.013227</td>\n      <td>0.012891</td>\n      <td>Entry</td>\n    </tr>\n    <tr>\n      <th>2021-05-10</th>\n      <td>250.869995</td>\n      <td>-0.020914</td>\n      <td>0.010932</td>\n      <td>0.012236</td>\n      <td>Entry</td>\n    </tr>\n    <tr>\n      <th>2021-05-11</th>\n      <td>244.550003</td>\n      <td>-0.003843</td>\n      <td>-0.020914</td>\n      <td>0.013265</td>\n      <td>Exit</td>\n    </tr>\n    <tr>\n      <th>2021-05-12</th>\n      <td>242.169998</td>\n      <td>-0.029363</td>\n      <td>-0.003843</td>\n      <td>0.013048</td>\n      <td>Exit</td>\n    </tr>\n    <tr>\n      <th>2021-05-13</th>\n      <td>241.800003</td>\n      <td>0.016862</td>\n      <td>-0.029363</td>\n      <td>0.013254</td>\n      <td>Exit</td>\n    </tr>\n    <tr>\n      <th>2021-05-14</th>\n      <td>245.580002</td>\n      <td>0.021067</td>\n      <td>0.016862</td>\n      <td>0.015084</td>\n      <td>Entry</td>\n    </tr>\n    <tr>\n      <th>2021-05-17</th>\n      <td>246.550003</td>\n      <td>-0.011969</td>\n      <td>0.021067</td>\n      <td>0.017017</td>\n      <td>Entry</td>\n    </tr>\n    <tr>\n      <th>2021-05-18</th>\n      <td>246.270004</td>\n      <td>-0.008565</td>\n      <td>-0.011969</td>\n      <td>0.017336</td>\n      <td>Exit</td>\n    </tr>\n    <tr>\n      <th>2021-05-19</th>\n      <td>239.309998</td>\n      <td>0.000165</td>\n      <td>-0.008565</td>\n      <td>0.016832</td>\n      <td>Exit</td>\n    </tr>\n    <tr>\n      <th>2021-05-20</th>\n      <td>243.960007</td>\n      <td>0.013820</td>\n      <td>0.000165</td>\n      <td>0.016794</td>\n      <td>Entry</td>\n    </tr>\n    <tr>\n      <th>2021-05-21</th>\n      <td>247.570007</td>\n      <td>-0.005315</td>\n      <td>0.013820</td>\n      <td>0.016851</td>\n      <td>Entry</td>\n    </tr>\n    <tr>\n      <th>2021-05-24</th>\n      <td>247.789993</td>\n      <td>0.022882</td>\n      <td>-0.005315</td>\n      <td>0.016329</td>\n      <td>Exit</td>\n    </tr>\n    <tr>\n      <th>2021-05-25</th>\n      <td>251.770004</td>\n      <td>0.003748</td>\n      <td>0.022882</td>\n      <td>0.016799</td>\n      <td>Entry</td>\n    </tr>\n    <tr>\n      <th>2021-05-26</th>\n      <td>251.429993</td>\n      <td>-0.000914</td>\n      <td>0.003748</td>\n      <td>0.016698</td>\n      <td>Entry</td>\n    </tr>\n    <tr>\n      <th>2021-05-27</th>\n      <td>251.169998</td>\n      <td>-0.008668</td>\n      <td>-0.000914</td>\n      <td>0.012624</td>\n      <td>Exit</td>\n    </tr>\n    <tr>\n      <th>2021-05-28</th>\n      <td>251.000000</td>\n      <td>0.001484</td>\n      <td>-0.008668</td>\n      <td>0.012580</td>\n      <td>Exit</td>\n    </tr>\n  </tbody>\n</table>\n</div>"
     },
     "metadata": {},
     "execution_count": 3
    }
   ],
   "source": [
    "ticker = 'MSFT'\n",
    "start_date = '2011-01-01'\n",
    "end_date = '2021-05-31'\n",
    "\n",
    "stock_df = yf.download(ticker, start=start_date, end=end_date)\n",
    "stock_df['Daily Return'] = stock_df['Close'].pct_change().dropna()\n",
    "stock_df['Adj Daily Return'] = stock_df['Close'].pct_change().dropna().shift()\n",
    "#stock_df['Daily Rolling Volatility'] = stock_df['Daily Return'].rolling(window=10).std()\n",
    "stock_df['Adj Daily Rolling Volatility'] = stock_df['Daily Return'].rolling(window=10).std().shift()\n",
    "stock_df['Decision'] = np.where(stock_df['Adj Daily Return'] > 0, 'Entry' , 'Exit')\n",
    "stock_df.dropna(inplace=True)\n",
    "stock_df.drop(['Close', 'High', 'Low', 'Adj Close', 'Volume'], axis=1, inplace=True)\n",
    "stock_df.to_csv('Export Files\\decision df.csv', index=False)\n",
    "stock_df.tail(20)"
   ]
  },
  {
   "cell_type": "code",
   "execution_count": 4,
   "metadata": {},
   "outputs": [
    {
     "output_type": "execute_result",
     "data": {
      "text/plain": [
       "                  Open  Adj Daily Rolling Volatility\n",
       "Date                                                \n",
       "2021-05-03  253.399994                      0.012104\n",
       "2021-05-04  250.970001                      0.012014\n",
       "2021-05-05  249.059998                      0.012742\n",
       "2021-05-06  246.449997                      0.011890\n",
       "2021-05-07  252.149994                      0.012891\n",
       "2021-05-10  250.869995                      0.012236\n",
       "2021-05-11  244.550003                      0.013265\n",
       "2021-05-12  242.169998                      0.013048\n",
       "2021-05-13  241.800003                      0.013254\n",
       "2021-05-14  245.580002                      0.015084\n",
       "2021-05-17  246.550003                      0.017017\n",
       "2021-05-18  246.270004                      0.017336\n",
       "2021-05-19  239.309998                      0.016832\n",
       "2021-05-20  243.960007                      0.016794\n",
       "2021-05-21  247.570007                      0.016851\n",
       "2021-05-24  247.789993                      0.016329\n",
       "2021-05-25  251.770004                      0.016799\n",
       "2021-05-26  251.429993                      0.016698\n",
       "2021-05-27  251.169998                      0.012624\n",
       "2021-05-28  251.000000                      0.012580"
      ],
      "text/html": "<div>\n<style scoped>\n    .dataframe tbody tr th:only-of-type {\n        vertical-align: middle;\n    }\n\n    .dataframe tbody tr th {\n        vertical-align: top;\n    }\n\n    .dataframe thead th {\n        text-align: right;\n    }\n</style>\n<table border=\"1\" class=\"dataframe\">\n  <thead>\n    <tr style=\"text-align: right;\">\n      <th></th>\n      <th>Open</th>\n      <th>Adj Daily Rolling Volatility</th>\n    </tr>\n    <tr>\n      <th>Date</th>\n      <th></th>\n      <th></th>\n    </tr>\n  </thead>\n  <tbody>\n    <tr>\n      <th>2021-05-03</th>\n      <td>253.399994</td>\n      <td>0.012104</td>\n    </tr>\n    <tr>\n      <th>2021-05-04</th>\n      <td>250.970001</td>\n      <td>0.012014</td>\n    </tr>\n    <tr>\n      <th>2021-05-05</th>\n      <td>249.059998</td>\n      <td>0.012742</td>\n    </tr>\n    <tr>\n      <th>2021-05-06</th>\n      <td>246.449997</td>\n      <td>0.011890</td>\n    </tr>\n    <tr>\n      <th>2021-05-07</th>\n      <td>252.149994</td>\n      <td>0.012891</td>\n    </tr>\n    <tr>\n      <th>2021-05-10</th>\n      <td>250.869995</td>\n      <td>0.012236</td>\n    </tr>\n    <tr>\n      <th>2021-05-11</th>\n      <td>244.550003</td>\n      <td>0.013265</td>\n    </tr>\n    <tr>\n      <th>2021-05-12</th>\n      <td>242.169998</td>\n      <td>0.013048</td>\n    </tr>\n    <tr>\n      <th>2021-05-13</th>\n      <td>241.800003</td>\n      <td>0.013254</td>\n    </tr>\n    <tr>\n      <th>2021-05-14</th>\n      <td>245.580002</td>\n      <td>0.015084</td>\n    </tr>\n    <tr>\n      <th>2021-05-17</th>\n      <td>246.550003</td>\n      <td>0.017017</td>\n    </tr>\n    <tr>\n      <th>2021-05-18</th>\n      <td>246.270004</td>\n      <td>0.017336</td>\n    </tr>\n    <tr>\n      <th>2021-05-19</th>\n      <td>239.309998</td>\n      <td>0.016832</td>\n    </tr>\n    <tr>\n      <th>2021-05-20</th>\n      <td>243.960007</td>\n      <td>0.016794</td>\n    </tr>\n    <tr>\n      <th>2021-05-21</th>\n      <td>247.570007</td>\n      <td>0.016851</td>\n    </tr>\n    <tr>\n      <th>2021-05-24</th>\n      <td>247.789993</td>\n      <td>0.016329</td>\n    </tr>\n    <tr>\n      <th>2021-05-25</th>\n      <td>251.770004</td>\n      <td>0.016799</td>\n    </tr>\n    <tr>\n      <th>2021-05-26</th>\n      <td>251.429993</td>\n      <td>0.016698</td>\n    </tr>\n    <tr>\n      <th>2021-05-27</th>\n      <td>251.169998</td>\n      <td>0.012624</td>\n    </tr>\n    <tr>\n      <th>2021-05-28</th>\n      <td>251.000000</td>\n      <td>0.012580</td>\n    </tr>\n  </tbody>\n</table>\n</div>"
     },
     "metadata": {},
     "execution_count": 4
    }
   ],
   "source": [
    "X = stock_df.copy()\n",
    "X.drop(['Decision', 'Daily Return', 'Adj Daily Return'], axis=1, inplace=True)\n",
    "X.dropna(inplace=True)\n",
    "X.tail(20)"
   ]
  },
  {
   "cell_type": "code",
   "execution_count": 5,
   "metadata": {},
   "outputs": [
    {
     "output_type": "execute_result",
     "data": {
      "text/plain": [
       "array([['Entry'],\n",
       "       ['Exit'],\n",
       "       ['Exit'],\n",
       "       ['Exit'],\n",
       "       ['Entry'],\n",
       "       ['Entry'],\n",
       "       ['Entry'],\n",
       "       ['Entry'],\n",
       "       ['Exit'],\n",
       "       ['Exit'],\n",
       "       ['Entry'],\n",
       "       ['Exit'],\n",
       "       ['Exit'],\n",
       "       ['Entry'],\n",
       "       ['Entry'],\n",
       "       ['Entry'],\n",
       "       ['Exit'],\n",
       "       ['Exit'],\n",
       "       ['Exit'],\n",
       "       ['Exit']], dtype=object)"
      ]
     },
     "metadata": {},
     "execution_count": 5
    }
   ],
   "source": [
    "y = stock_df['Decision'].values.reshape(-1,1)\n",
    "y[:20]"
   ]
  },
  {
   "cell_type": "code",
   "execution_count": 6,
   "metadata": {},
   "outputs": [],
   "source": [
    "X_train, X_test, y_train, y_test = train_test_split(X, y, test_size=0.3, random_state=78)\n",
    "\n",
    "scaler = StandardScaler()\n",
    "X_scaler = scaler.fit(X_train)\n",
    "X_train_scaled = X_scaler.transform(X_train)\n",
    "X_test_scaled = X_scaler.transform(X_test)"
   ]
  },
  {
   "cell_type": "code",
   "execution_count": 7,
   "metadata": {},
   "outputs": [],
   "source": [
    "model = tree.DecisionTreeClassifier()\n",
    "model = model.fit(X_train_scaled, y_train)"
   ]
  },
  {
   "cell_type": "code",
   "execution_count": 8,
   "metadata": {},
   "outputs": [],
   "source": [
    "predictions = model.predict(X_test_scaled)"
   ]
  },
  {
   "cell_type": "code",
   "execution_count": 9,
   "metadata": {},
   "outputs": [
    {
     "output_type": "stream",
     "name": "stdout",
     "text": [
      "Learning rate:  0.05\n",
      "Accuracy score (training): 0.87945\n",
      "Accuracy score (validation): 0.51596\n",
      "\n",
      "Learning rate:  0.1\n",
      "Accuracy score (training): 0.96164\n",
      "Accuracy score (validation): 0.52363\n",
      "\n",
      "Learning rate:  0.25\n",
      "Accuracy score (training): 1.00000\n",
      "Accuracy score (validation): 0.51596\n",
      "\n",
      "Learning rate:  0.5\n",
      "Accuracy score (training): 1.00000\n",
      "Accuracy score (validation): 0.50447\n",
      "\n",
      "Learning rate:  0.75\n",
      "Accuracy score (training): 1.00000\n",
      "Accuracy score (validation): 0.53001\n",
      "\n",
      "Learning rate:  1\n",
      "Accuracy score (training): 1.00000\n",
      "Accuracy score (validation): 0.50319\n",
      "\n"
     ]
    }
   ],
   "source": [
    "learning_rates = [0.05, 0.1, 0.25, 0.5, 0.75, 1]\n",
    "for learning_rate in learning_rates:\n",
    "    model = GradientBoostingClassifier(\n",
    "        n_estimators=1000,\n",
    "        learning_rate=learning_rate,\n",
    "        max_features=2,\n",
    "        max_depth=3,\n",
    "        random_state=0)\n",
    "    model.fit(X_train_scaled,y_train.ravel())\n",
    "    print(\"Learning rate: \", learning_rate)\n",
    "\n",
    "    # Score the model\n",
    "    print(\"Accuracy score (training): {0:.5f}\".format(\n",
    "        model.score(\n",
    "            X_train_scaled,\n",
    "            y_train.ravel())))\n",
    "    print(\"Accuracy score (validation): {0:.5f}\".format(\n",
    "        model.score(\n",
    "            X_test_scaled,\n",
    "            y_test.ravel())))\n",
    "    print()"
   ]
  },
  {
   "cell_type": "code",
   "execution_count": 10,
   "metadata": {},
   "outputs": [
    {
     "output_type": "execute_result",
     "data": {
      "text/plain": [
       "           Actual Prediction\n",
       "Date                        \n",
       "2018-04-20  Entry       Exit\n",
       "2018-04-23  Entry      Entry\n",
       "2018-04-24  Entry      Entry\n",
       "2018-04-25  Entry       Exit\n",
       "2018-04-26   Exit       Exit\n",
       "2018-04-27  Entry       Exit\n",
       "2018-04-30  Entry      Entry\n",
       "2018-05-01   Exit       Exit\n",
       "2018-05-02   Exit       Exit\n",
       "2018-05-03   Exit      Entry\n",
       "2018-05-04  Entry       Exit\n",
       "2018-05-07   Exit       Exit\n",
       "2018-05-08   Exit      Entry\n",
       "2018-05-09  Entry      Entry\n",
       "2018-05-10  Entry      Entry\n",
       "2018-05-11   Exit       Exit\n",
       "2018-05-14  Entry       Exit\n",
       "2018-05-15  Entry      Entry\n",
       "2018-05-16   Exit       Exit\n",
       "2018-05-17   Exit      Entry"
      ],
      "text/html": "<div>\n<style scoped>\n    .dataframe tbody tr th:only-of-type {\n        vertical-align: middle;\n    }\n\n    .dataframe tbody tr th {\n        vertical-align: top;\n    }\n\n    .dataframe thead th {\n        text-align: right;\n    }\n</style>\n<table border=\"1\" class=\"dataframe\">\n  <thead>\n    <tr style=\"text-align: right;\">\n      <th></th>\n      <th>Actual</th>\n      <th>Prediction</th>\n    </tr>\n    <tr>\n      <th>Date</th>\n      <th></th>\n      <th></th>\n    </tr>\n  </thead>\n  <tbody>\n    <tr>\n      <th>2018-04-20</th>\n      <td>Entry</td>\n      <td>Exit</td>\n    </tr>\n    <tr>\n      <th>2018-04-23</th>\n      <td>Entry</td>\n      <td>Entry</td>\n    </tr>\n    <tr>\n      <th>2018-04-24</th>\n      <td>Entry</td>\n      <td>Entry</td>\n    </tr>\n    <tr>\n      <th>2018-04-25</th>\n      <td>Entry</td>\n      <td>Exit</td>\n    </tr>\n    <tr>\n      <th>2018-04-26</th>\n      <td>Exit</td>\n      <td>Exit</td>\n    </tr>\n    <tr>\n      <th>2018-04-27</th>\n      <td>Entry</td>\n      <td>Exit</td>\n    </tr>\n    <tr>\n      <th>2018-04-30</th>\n      <td>Entry</td>\n      <td>Entry</td>\n    </tr>\n    <tr>\n      <th>2018-05-01</th>\n      <td>Exit</td>\n      <td>Exit</td>\n    </tr>\n    <tr>\n      <th>2018-05-02</th>\n      <td>Exit</td>\n      <td>Exit</td>\n    </tr>\n    <tr>\n      <th>2018-05-03</th>\n      <td>Exit</td>\n      <td>Entry</td>\n    </tr>\n    <tr>\n      <th>2018-05-04</th>\n      <td>Entry</td>\n      <td>Exit</td>\n    </tr>\n    <tr>\n      <th>2018-05-07</th>\n      <td>Exit</td>\n      <td>Exit</td>\n    </tr>\n    <tr>\n      <th>2018-05-08</th>\n      <td>Exit</td>\n      <td>Entry</td>\n    </tr>\n    <tr>\n      <th>2018-05-09</th>\n      <td>Entry</td>\n      <td>Entry</td>\n    </tr>\n    <tr>\n      <th>2018-05-10</th>\n      <td>Entry</td>\n      <td>Entry</td>\n    </tr>\n    <tr>\n      <th>2018-05-11</th>\n      <td>Exit</td>\n      <td>Exit</td>\n    </tr>\n    <tr>\n      <th>2018-05-14</th>\n      <td>Entry</td>\n      <td>Exit</td>\n    </tr>\n    <tr>\n      <th>2018-05-15</th>\n      <td>Entry</td>\n      <td>Entry</td>\n    </tr>\n    <tr>\n      <th>2018-05-16</th>\n      <td>Exit</td>\n      <td>Exit</td>\n    </tr>\n    <tr>\n      <th>2018-05-17</th>\n      <td>Exit</td>\n      <td>Entry</td>\n    </tr>\n  </tbody>\n</table>\n</div>"
     },
     "metadata": {},
     "execution_count": 10
    }
   ],
   "source": [
    "predictions_df = pd.DataFrame({\"Actual\": y_test.ravel(),\"Prediction\": predictions}, index=stock_df.index[-len(y_test):])\n",
    "predictions_df.head(20)"
   ]
  },
  {
   "cell_type": "code",
   "execution_count": 11,
   "metadata": {},
   "outputs": [
    {
     "output_type": "stream",
     "name": "stdout",
     "text": [
      "Accuracy score (training): 1.00000\nAccuracy score (validation): 0.50319\n"
     ]
    }
   ],
   "source": [
    "model = GradientBoostingClassifier(\n",
    "    n_estimators=1000,\n",
    "    learning_rate=1,\n",
    "    max_features=2,\n",
    "    max_depth=3,\n",
    "    random_state=0)\n",
    "\n",
    "# Fit the model\n",
    "model.fit(X_train_scaled,y_train.ravel())\n",
    "\n",
    "# Score the model\n",
    "print(\"Accuracy score (training): {0:.5f}\".format(\n",
    "    model.score(\n",
    "        X_train_scaled,\n",
    "        y_train)))\n",
    "print(\"Accuracy score (validation): {0:.5f}\".format(\n",
    "    model.score(\n",
    "        X_test_scaled,\n",
    "        y_test)))"
   ]
  },
  {
   "cell_type": "code",
   "execution_count": 12,
   "metadata": {},
   "outputs": [],
   "source": [
    "cm = confusion_matrix(y_test, predictions)\n",
    "cm_df = pd.DataFrame(\n",
    "    cm, index=[\"Actual Entry\", \"Actual Exit\"], columns=[\"Predicted Entry\", \"Predicted Exit\"]\n",
    ")\n",
    "\n",
    "acc_score = accuracy_score(y_test, predictions)"
   ]
  },
  {
   "cell_type": "code",
   "execution_count": 13,
   "metadata": {},
   "outputs": [
    {
     "output_type": "stream",
     "name": "stdout",
     "text": [
      "Confusion Matrix\n"
     ]
    },
    {
     "output_type": "display_data",
     "data": {
      "text/plain": "              Predicted Entry  Predicted Exit\nActual Entry              225             175\nActual Exit               205             178",
      "text/html": "<div>\n<style scoped>\n    .dataframe tbody tr th:only-of-type {\n        vertical-align: middle;\n    }\n\n    .dataframe tbody tr th {\n        vertical-align: top;\n    }\n\n    .dataframe thead th {\n        text-align: right;\n    }\n</style>\n<table border=\"1\" class=\"dataframe\">\n  <thead>\n    <tr style=\"text-align: right;\">\n      <th></th>\n      <th>Predicted Entry</th>\n      <th>Predicted Exit</th>\n    </tr>\n  </thead>\n  <tbody>\n    <tr>\n      <th>Actual Entry</th>\n      <td>225</td>\n      <td>175</td>\n    </tr>\n    <tr>\n      <th>Actual Exit</th>\n      <td>205</td>\n      <td>178</td>\n    </tr>\n  </tbody>\n</table>\n</div>"
     },
     "metadata": {}
    },
    {
     "output_type": "stream",
     "name": "stdout",
     "text": [
      "\n\nAccuracy Score: 0.51469\n\n\nClassification Report\n              precision    recall  f1-score   support\n\n       Entry       0.52      0.56      0.54       400\n        Exit       0.50      0.46      0.48       383\n\n    accuracy                           0.51       783\n   macro avg       0.51      0.51      0.51       783\nweighted avg       0.51      0.51      0.51       783\n\n"
     ]
    }
   ],
   "source": [
    "print('Confusion Matrix')\n",
    "display(cm_df)\n",
    "print()\n",
    "print()\n",
    "print(f'Accuracy Score: {acc_score:.5f}')\n",
    "print()\n",
    "print()\n",
    "print('Classification Report')\n",
    "print(classification_report(y_test, predictions))"
   ]
  },
  {
   "cell_type": "code",
   "execution_count": 14,
   "metadata": {},
   "outputs": [
    {
     "output_type": "error",
     "ename": "InvocationException",
     "evalue": "GraphViz's executables not found",
     "traceback": [
      "\u001b[1;31m---------------------------------------------------------------------------\u001b[0m",
      "\u001b[1;31mInvocationException\u001b[0m                       Traceback (most recent call last)",
      "\u001b[1;32m<ipython-input-14-4aa1b37a649c>\u001b[0m in \u001b[0;36m<module>\u001b[1;34m\u001b[0m\n\u001b[0;32m      7\u001b[0m )\n\u001b[0;32m      8\u001b[0m \u001b[0mgraph\u001b[0m \u001b[1;33m=\u001b[0m \u001b[0mpydotplus\u001b[0m\u001b[1;33m.\u001b[0m\u001b[0mgraph_from_dot_data\u001b[0m\u001b[1;33m(\u001b[0m\u001b[0mdot_data\u001b[0m\u001b[1;33m)\u001b[0m\u001b[1;33m\u001b[0m\u001b[1;33m\u001b[0m\u001b[0m\n\u001b[1;32m----> 9\u001b[1;33m \u001b[0mImage\u001b[0m\u001b[1;33m(\u001b[0m\u001b[0mgraph\u001b[0m\u001b[1;33m.\u001b[0m\u001b[0mcreate_png\u001b[0m\u001b[1;33m(\u001b[0m\u001b[1;33m)\u001b[0m\u001b[1;33m)\u001b[0m\u001b[1;33m\u001b[0m\u001b[1;33m\u001b[0m\u001b[0m\n\u001b[0m",
      "\u001b[1;32m~\\anaconda3\\envs\\alpacaenv\\lib\\site-packages\\pydotplus\\graphviz.py\u001b[0m in \u001b[0;36m<lambda>\u001b[1;34m(f, prog)\u001b[0m\n\u001b[0;32m   1789\u001b[0m             self.__setattr__(\n\u001b[0;32m   1790\u001b[0m                 \u001b[1;34m'create_'\u001b[0m \u001b[1;33m+\u001b[0m \u001b[0mfrmt\u001b[0m\u001b[1;33m,\u001b[0m\u001b[1;33m\u001b[0m\u001b[1;33m\u001b[0m\u001b[0m\n\u001b[1;32m-> 1791\u001b[1;33m                 \u001b[1;32mlambda\u001b[0m \u001b[0mf\u001b[0m\u001b[1;33m=\u001b[0m\u001b[0mfrmt\u001b[0m\u001b[1;33m,\u001b[0m \u001b[0mprog\u001b[0m\u001b[1;33m=\u001b[0m\u001b[0mself\u001b[0m\u001b[1;33m.\u001b[0m\u001b[0mprog\u001b[0m\u001b[1;33m:\u001b[0m \u001b[0mself\u001b[0m\u001b[1;33m.\u001b[0m\u001b[0mcreate\u001b[0m\u001b[1;33m(\u001b[0m\u001b[0mformat\u001b[0m\u001b[1;33m=\u001b[0m\u001b[0mf\u001b[0m\u001b[1;33m,\u001b[0m \u001b[0mprog\u001b[0m\u001b[1;33m=\u001b[0m\u001b[0mprog\u001b[0m\u001b[1;33m)\u001b[0m\u001b[1;33m\u001b[0m\u001b[1;33m\u001b[0m\u001b[0m\n\u001b[0m\u001b[0;32m   1792\u001b[0m             )\n\u001b[0;32m   1793\u001b[0m             \u001b[0mf\u001b[0m \u001b[1;33m=\u001b[0m \u001b[0mself\u001b[0m\u001b[1;33m.\u001b[0m\u001b[0m__dict__\u001b[0m\u001b[1;33m[\u001b[0m\u001b[1;34m'create_'\u001b[0m \u001b[1;33m+\u001b[0m \u001b[0mfrmt\u001b[0m\u001b[1;33m]\u001b[0m\u001b[1;33m\u001b[0m\u001b[1;33m\u001b[0m\u001b[0m\n",
      "\u001b[1;32m~\\anaconda3\\envs\\alpacaenv\\lib\\site-packages\\pydotplus\\graphviz.py\u001b[0m in \u001b[0;36mcreate\u001b[1;34m(self, prog, format)\u001b[0m\n\u001b[0;32m   1952\u001b[0m             \u001b[1;32mif\u001b[0m \u001b[0mself\u001b[0m\u001b[1;33m.\u001b[0m\u001b[0mprogs\u001b[0m \u001b[1;32mis\u001b[0m \u001b[1;32mNone\u001b[0m\u001b[1;33m:\u001b[0m\u001b[1;33m\u001b[0m\u001b[1;33m\u001b[0m\u001b[0m\n\u001b[0;32m   1953\u001b[0m                 raise InvocationException(\n\u001b[1;32m-> 1954\u001b[1;33m                     'GraphViz\\'s executables not found')\n\u001b[0m\u001b[0;32m   1955\u001b[0m \u001b[1;33m\u001b[0m\u001b[0m\n\u001b[0;32m   1956\u001b[0m         \u001b[1;32mif\u001b[0m \u001b[0mprog\u001b[0m \u001b[1;32mnot\u001b[0m \u001b[1;32min\u001b[0m \u001b[0mself\u001b[0m\u001b[1;33m.\u001b[0m\u001b[0mprogs\u001b[0m\u001b[1;33m:\u001b[0m\u001b[1;33m\u001b[0m\u001b[1;33m\u001b[0m\u001b[0m\n",
      "\u001b[1;31mInvocationException\u001b[0m: GraphViz's executables not found"
     ]
    }
   ],
   "source": [
    "dot_data = tree.export_graphviz(\n",
    "    model.estimators_[9, 0],\n",
    "    out_file=None, filled=True,\n",
    "    rounded=True,\n",
    "    special_characters=True,\n",
    "    proportion=True,\n",
    ")\n",
    "graph = pydotplus.graph_from_dot_data(dot_data)\n",
    "Image(graph.create_png())\n"
   ]
  },
  {
   "cell_type": "code",
   "execution_count": 39,
   "metadata": {},
   "outputs": [
    {
     "output_type": "error",
     "ename": "InvocationException",
     "evalue": "GraphViz's executables not found",
     "traceback": [
      "\u001b[1;31m---------------------------------------------------------------------------\u001b[0m",
      "\u001b[1;31mInvocationException\u001b[0m                       Traceback (most recent call last)",
      "\u001b[1;32m<ipython-input-39-2a7b1eabb91e>\u001b[0m in \u001b[0;36m<module>\u001b[1;34m\u001b[0m\n\u001b[1;32m----> 1\u001b[1;33m \u001b[0mgraph\u001b[0m\u001b[1;33m.\u001b[0m\u001b[0mwrite_png\u001b[0m\u001b[1;33m(\u001b[0m\u001b[1;34m\"Images/entry exit tree.png\"\u001b[0m\u001b[1;33m)\u001b[0m\u001b[1;33m\u001b[0m\u001b[1;33m\u001b[0m\u001b[0m\n\u001b[0m",
      "\u001b[1;32m~\\anaconda3\\envs\\alpacaenv\\lib\\site-packages\\pydotplus\\graphviz.py\u001b[0m in \u001b[0;36m<lambda>\u001b[1;34m(path, f, prog)\u001b[0m\n\u001b[0;32m   1802\u001b[0m                 \u001b[1;32mlambda\u001b[0m \u001b[0mpath\u001b[0m\u001b[1;33m,\u001b[0m\u001b[1;33m\u001b[0m\u001b[1;33m\u001b[0m\u001b[0m\n\u001b[0;32m   1803\u001b[0m                 \u001b[0mf\u001b[0m\u001b[1;33m=\u001b[0m\u001b[0mfrmt\u001b[0m\u001b[1;33m,\u001b[0m\u001b[1;33m\u001b[0m\u001b[1;33m\u001b[0m\u001b[0m\n\u001b[1;32m-> 1804\u001b[1;33m                 \u001b[0mprog\u001b[0m\u001b[1;33m=\u001b[0m\u001b[0mself\u001b[0m\u001b[1;33m.\u001b[0m\u001b[0mprog\u001b[0m\u001b[1;33m:\u001b[0m \u001b[0mself\u001b[0m\u001b[1;33m.\u001b[0m\u001b[0mwrite\u001b[0m\u001b[1;33m(\u001b[0m\u001b[0mpath\u001b[0m\u001b[1;33m,\u001b[0m \u001b[0mformat\u001b[0m\u001b[1;33m=\u001b[0m\u001b[0mf\u001b[0m\u001b[1;33m,\u001b[0m \u001b[0mprog\u001b[0m\u001b[1;33m=\u001b[0m\u001b[0mprog\u001b[0m\u001b[1;33m)\u001b[0m\u001b[1;33m\u001b[0m\u001b[1;33m\u001b[0m\u001b[0m\n\u001b[0m\u001b[0;32m   1805\u001b[0m             )\n\u001b[0;32m   1806\u001b[0m \u001b[1;33m\u001b[0m\u001b[0m\n",
      "\u001b[1;32m~\\anaconda3\\envs\\alpacaenv\\lib\\site-packages\\pydotplus\\graphviz.py\u001b[0m in \u001b[0;36mwrite\u001b[1;34m(self, path, prog, format)\u001b[0m\n\u001b[0;32m   1910\u001b[0m \u001b[1;33m\u001b[0m\u001b[0m\n\u001b[0;32m   1911\u001b[0m             \u001b[1;32melse\u001b[0m\u001b[1;33m:\u001b[0m\u001b[1;33m\u001b[0m\u001b[1;33m\u001b[0m\u001b[0m\n\u001b[1;32m-> 1912\u001b[1;33m                 \u001b[0mfobj\u001b[0m\u001b[1;33m.\u001b[0m\u001b[0mwrite\u001b[0m\u001b[1;33m(\u001b[0m\u001b[0mself\u001b[0m\u001b[1;33m.\u001b[0m\u001b[0mcreate\u001b[0m\u001b[1;33m(\u001b[0m\u001b[0mprog\u001b[0m\u001b[1;33m,\u001b[0m \u001b[0mformat\u001b[0m\u001b[1;33m)\u001b[0m\u001b[1;33m)\u001b[0m\u001b[1;33m\u001b[0m\u001b[1;33m\u001b[0m\u001b[0m\n\u001b[0m\u001b[0;32m   1913\u001b[0m         \u001b[1;32mfinally\u001b[0m\u001b[1;33m:\u001b[0m\u001b[1;33m\u001b[0m\u001b[1;33m\u001b[0m\u001b[0m\n\u001b[0;32m   1914\u001b[0m             \u001b[1;32mif\u001b[0m \u001b[0mclose\u001b[0m\u001b[1;33m:\u001b[0m\u001b[1;33m\u001b[0m\u001b[1;33m\u001b[0m\u001b[0m\n",
      "\u001b[1;32m~\\anaconda3\\envs\\alpacaenv\\lib\\site-packages\\pydotplus\\graphviz.py\u001b[0m in \u001b[0;36mcreate\u001b[1;34m(self, prog, format)\u001b[0m\n\u001b[0;32m   1952\u001b[0m             \u001b[1;32mif\u001b[0m \u001b[0mself\u001b[0m\u001b[1;33m.\u001b[0m\u001b[0mprogs\u001b[0m \u001b[1;32mis\u001b[0m \u001b[1;32mNone\u001b[0m\u001b[1;33m:\u001b[0m\u001b[1;33m\u001b[0m\u001b[1;33m\u001b[0m\u001b[0m\n\u001b[0;32m   1953\u001b[0m                 raise InvocationException(\n\u001b[1;32m-> 1954\u001b[1;33m                     'GraphViz\\'s executables not found')\n\u001b[0m\u001b[0;32m   1955\u001b[0m \u001b[1;33m\u001b[0m\u001b[0m\n\u001b[0;32m   1956\u001b[0m         \u001b[1;32mif\u001b[0m \u001b[0mprog\u001b[0m \u001b[1;32mnot\u001b[0m \u001b[1;32min\u001b[0m \u001b[0mself\u001b[0m\u001b[1;33m.\u001b[0m\u001b[0mprogs\u001b[0m\u001b[1;33m:\u001b[0m\u001b[1;33m\u001b[0m\u001b[1;33m\u001b[0m\u001b[0m\n",
      "\u001b[1;31mInvocationException\u001b[0m: GraphViz's executables not found"
     ]
    }
   ],
   "source": [
    "graph.write_png(\"Images/entry exit tree.png\")"
   ]
  },
  {
   "source": [
    "## Random Oversampling"
   ],
   "cell_type": "markdown",
   "metadata": {}
  },
  {
   "cell_type": "code",
   "execution_count": 15,
   "metadata": {},
   "outputs": [
    {
     "output_type": "execute_result",
     "data": {
      "text/plain": [
       "Counter({'Exit': 963, 'Entry': 963})"
      ]
     },
     "metadata": {},
     "execution_count": 15
    }
   ],
   "source": [
    "ros = RandomOverSampler(random_state=78)\n",
    "X_over_resampled, y_over_resampled = ros.fit_resample(X_train_scaled, y_train)\n",
    "Counter(y_over_resampled)"
   ]
  },
  {
   "cell_type": "code",
   "execution_count": 16,
   "metadata": {},
   "outputs": [],
   "source": [
    "model_over_resample = LogisticRegression(solver='lbfgs', random_state=78)\n",
    "model_over_resample.fit(X_over_resampled, y_over_resampled)\n",
    "y_pred_over = model.predict(X_test_scaled)\n",
    "cm_over = confusion_matrix(y_test, y_pred_over)\n",
    "cm_over_df = pd.DataFrame(\n",
    "    cm_over, index=[\"Actual Entry\", \"Actual Exit\"], columns=[\"Predicted Entry\", \"Predicted Exit\"]\n",
    ")\n",
    "bac_over = balanced_accuracy_score(y_test, y_pred_over)"
   ]
  },
  {
   "cell_type": "code",
   "execution_count": 17,
   "metadata": {},
   "outputs": [
    {
     "output_type": "stream",
     "name": "stdout",
     "text": [
      "Confusion Matrix\n"
     ]
    },
    {
     "output_type": "display_data",
     "data": {
      "text/plain": "              Predicted Entry  Predicted Exit\nActual Entry              213             187\nActual Exit               202             181",
      "text/html": "<div>\n<style scoped>\n    .dataframe tbody tr th:only-of-type {\n        vertical-align: middle;\n    }\n\n    .dataframe tbody tr th {\n        vertical-align: top;\n    }\n\n    .dataframe thead th {\n        text-align: right;\n    }\n</style>\n<table border=\"1\" class=\"dataframe\">\n  <thead>\n    <tr style=\"text-align: right;\">\n      <th></th>\n      <th>Predicted Entry</th>\n      <th>Predicted Exit</th>\n    </tr>\n  </thead>\n  <tbody>\n    <tr>\n      <th>Actual Entry</th>\n      <td>213</td>\n      <td>187</td>\n    </tr>\n    <tr>\n      <th>Actual Exit</th>\n      <td>202</td>\n      <td>181</td>\n    </tr>\n  </tbody>\n</table>\n</div>"
     },
     "metadata": {}
    },
    {
     "output_type": "stream",
     "name": "stdout",
     "text": [
      "\n\nBalance Accuracy Score: 0.50254\n\n\nClassification Report (Imbalanced)\n                   pre       rec       spe        f1       geo       iba       sup\n\n      Entry       0.51      0.53      0.47      0.52      0.50      0.25       400\n       Exit       0.49      0.47      0.53      0.48      0.50      0.25       383\n\navg / total       0.50      0.50      0.50      0.50      0.50      0.25       783\n\n"
     ]
    }
   ],
   "source": [
    "print('Confusion Matrix')\n",
    "display(cm_over_df)\n",
    "print()\n",
    "print()\n",
    "print(f'Balance Accuracy Score: {bac_over:.5f}')\n",
    "print()\n",
    "print()\n",
    "print('Classification Report (Imbalanced)')\n",
    "print(classification_report_imbalanced(y_test, y_pred_over))"
   ]
  },
  {
   "cell_type": "code",
   "execution_count": 18,
   "metadata": {},
   "outputs": [
    {
     "output_type": "execute_result",
     "data": {
      "text/plain": [
       "<pandas.io.formats.style.Styler at 0x14befa7b348>"
      ],
      "text/html": "<style  type=\"text/css\" >\n#T_bb21f_row0_col0,#T_bb21f_row0_col1,#T_bb21f_row0_col3,#T_bb21f_row0_col5,#T_bb21f_row0_col6,#T_bb21f_row1_col2{\n            background-color:  #fde725;\n            color:  #000000;\n        }#T_bb21f_row0_col2,#T_bb21f_row0_col4,#T_bb21f_row1_col0,#T_bb21f_row1_col1,#T_bb21f_row1_col3,#T_bb21f_row1_col4,#T_bb21f_row1_col5,#T_bb21f_row1_col6{\n            background-color:  #440154;\n            color:  #f1f1f1;\n        }</style><table id=\"T_bb21f_\" ><thead>    <tr>        <th class=\"blank level0\" ></th>        <th class=\"col_heading level0 col0\" >pre</th>        <th class=\"col_heading level0 col1\" >rec</th>        <th class=\"col_heading level0 col2\" >spe</th>        <th class=\"col_heading level0 col3\" >f1</th>        <th class=\"col_heading level0 col4\" >geo</th>        <th class=\"col_heading level0 col5\" >iba</th>        <th class=\"col_heading level0 col6\" >sup</th>    </tr></thead><tbody>\n                <tr>\n                        <th id=\"T_bb21f_level0_row0\" class=\"row_heading level0 row0\" >Entry</th>\n                        <td id=\"T_bb21f_row0_col0\" class=\"data row0 col0\" >0.513253</td>\n                        <td id=\"T_bb21f_row0_col1\" class=\"data row0 col1\" >0.532500</td>\n                        <td id=\"T_bb21f_row0_col2\" class=\"data row0 col2\" >0.472585</td>\n                        <td id=\"T_bb21f_row0_col3\" class=\"data row0 col3\" >0.522699</td>\n                        <td id=\"T_bb21f_row0_col4\" class=\"data row0 col4\" >0.501649</td>\n                        <td id=\"T_bb21f_row0_col5\" class=\"data row0 col5\" >0.253159</td>\n                        <td id=\"T_bb21f_row0_col6\" class=\"data row0 col6\" >400.000000</td>\n            </tr>\n            <tr>\n                        <th id=\"T_bb21f_level0_row1\" class=\"row_heading level0 row1\" >Exit</th>\n                        <td id=\"T_bb21f_row1_col0\" class=\"data row1 col0\" >0.491848</td>\n                        <td id=\"T_bb21f_row1_col1\" class=\"data row1 col1\" >0.472585</td>\n                        <td id=\"T_bb21f_row1_col2\" class=\"data row1 col2\" >0.532500</td>\n                        <td id=\"T_bb21f_row1_col3\" class=\"data row1 col3\" >0.482024</td>\n                        <td id=\"T_bb21f_row1_col4\" class=\"data row1 col4\" >0.501649</td>\n                        <td id=\"T_bb21f_row1_col5\" class=\"data row1 col5\" >0.250144</td>\n                        <td id=\"T_bb21f_row1_col6\" class=\"data row1 col6\" >383.000000</td>\n            </tr>\n            <tr>\n                        <th id=\"T_bb21f_level0_row2\" class=\"row_heading level0 row2\" >avg_pre</th>\n                        <td id=\"T_bb21f_row2_col0\" class=\"data row2 col0\" >0.502783</td>\n                        <td id=\"T_bb21f_row2_col1\" class=\"data row2 col1\" >0.502783</td>\n                        <td id=\"T_bb21f_row2_col2\" class=\"data row2 col2\" >0.502783</td>\n                        <td id=\"T_bb21f_row2_col3\" class=\"data row2 col3\" >0.502783</td>\n                        <td id=\"T_bb21f_row2_col4\" class=\"data row2 col4\" >0.502783</td>\n                        <td id=\"T_bb21f_row2_col5\" class=\"data row2 col5\" >0.502783</td>\n                        <td id=\"T_bb21f_row2_col6\" class=\"data row2 col6\" >0.502783</td>\n            </tr>\n            <tr>\n                        <th id=\"T_bb21f_level0_row3\" class=\"row_heading level0 row3\" >avg_rec</th>\n                        <td id=\"T_bb21f_row3_col0\" class=\"data row3 col0\" >0.503193</td>\n                        <td id=\"T_bb21f_row3_col1\" class=\"data row3 col1\" >0.503193</td>\n                        <td id=\"T_bb21f_row3_col2\" class=\"data row3 col2\" >0.503193</td>\n                        <td id=\"T_bb21f_row3_col3\" class=\"data row3 col3\" >0.503193</td>\n                        <td id=\"T_bb21f_row3_col4\" class=\"data row3 col4\" >0.503193</td>\n                        <td id=\"T_bb21f_row3_col5\" class=\"data row3 col5\" >0.503193</td>\n                        <td id=\"T_bb21f_row3_col6\" class=\"data row3 col6\" >0.503193</td>\n            </tr>\n            <tr>\n                        <th id=\"T_bb21f_level0_row4\" class=\"row_heading level0 row4\" >avg_spe</th>\n                        <td id=\"T_bb21f_row4_col0\" class=\"data row4 col0\" >0.501892</td>\n                        <td id=\"T_bb21f_row4_col1\" class=\"data row4 col1\" >0.501892</td>\n                        <td id=\"T_bb21f_row4_col2\" class=\"data row4 col2\" >0.501892</td>\n                        <td id=\"T_bb21f_row4_col3\" class=\"data row4 col3\" >0.501892</td>\n                        <td id=\"T_bb21f_row4_col4\" class=\"data row4 col4\" >0.501892</td>\n                        <td id=\"T_bb21f_row4_col5\" class=\"data row4 col5\" >0.501892</td>\n                        <td id=\"T_bb21f_row4_col6\" class=\"data row4 col6\" >0.501892</td>\n            </tr>\n            <tr>\n                        <th id=\"T_bb21f_level0_row5\" class=\"row_heading level0 row5\" >avg_f1</th>\n                        <td id=\"T_bb21f_row5_col0\" class=\"data row5 col0\" >0.502803</td>\n                        <td id=\"T_bb21f_row5_col1\" class=\"data row5 col1\" >0.502803</td>\n                        <td id=\"T_bb21f_row5_col2\" class=\"data row5 col2\" >0.502803</td>\n                        <td id=\"T_bb21f_row5_col3\" class=\"data row5 col3\" >0.502803</td>\n                        <td id=\"T_bb21f_row5_col4\" class=\"data row5 col4\" >0.502803</td>\n                        <td id=\"T_bb21f_row5_col5\" class=\"data row5 col5\" >0.502803</td>\n                        <td id=\"T_bb21f_row5_col6\" class=\"data row5 col6\" >0.502803</td>\n            </tr>\n            <tr>\n                        <th id=\"T_bb21f_level0_row6\" class=\"row_heading level0 row6\" >avg_geo</th>\n                        <td id=\"T_bb21f_row6_col0\" class=\"data row6 col0\" >0.501649</td>\n                        <td id=\"T_bb21f_row6_col1\" class=\"data row6 col1\" >0.501649</td>\n                        <td id=\"T_bb21f_row6_col2\" class=\"data row6 col2\" >0.501649</td>\n                        <td id=\"T_bb21f_row6_col3\" class=\"data row6 col3\" >0.501649</td>\n                        <td id=\"T_bb21f_row6_col4\" class=\"data row6 col4\" >0.501649</td>\n                        <td id=\"T_bb21f_row6_col5\" class=\"data row6 col5\" >0.501649</td>\n                        <td id=\"T_bb21f_row6_col6\" class=\"data row6 col6\" >0.501649</td>\n            </tr>\n            <tr>\n                        <th id=\"T_bb21f_level0_row7\" class=\"row_heading level0 row7\" >avg_iba</th>\n                        <td id=\"T_bb21f_row7_col0\" class=\"data row7 col0\" >0.251684</td>\n                        <td id=\"T_bb21f_row7_col1\" class=\"data row7 col1\" >0.251684</td>\n                        <td id=\"T_bb21f_row7_col2\" class=\"data row7 col2\" >0.251684</td>\n                        <td id=\"T_bb21f_row7_col3\" class=\"data row7 col3\" >0.251684</td>\n                        <td id=\"T_bb21f_row7_col4\" class=\"data row7 col4\" >0.251684</td>\n                        <td id=\"T_bb21f_row7_col5\" class=\"data row7 col5\" >0.251684</td>\n                        <td id=\"T_bb21f_row7_col6\" class=\"data row7 col6\" >0.251684</td>\n            </tr>\n            <tr>\n                        <th id=\"T_bb21f_level0_row8\" class=\"row_heading level0 row8\" >total_support</th>\n                        <td id=\"T_bb21f_row8_col0\" class=\"data row8 col0\" >783.000000</td>\n                        <td id=\"T_bb21f_row8_col1\" class=\"data row8 col1\" >783.000000</td>\n                        <td id=\"T_bb21f_row8_col2\" class=\"data row8 col2\" >783.000000</td>\n                        <td id=\"T_bb21f_row8_col3\" class=\"data row8 col3\" >783.000000</td>\n                        <td id=\"T_bb21f_row8_col4\" class=\"data row8 col4\" >783.000000</td>\n                        <td id=\"T_bb21f_row8_col5\" class=\"data row8 col5\" >783.000000</td>\n                        <td id=\"T_bb21f_row8_col6\" class=\"data row8 col6\" >783.000000</td>\n            </tr>\n    </tbody></table>"
     },
     "metadata": {},
     "execution_count": 18
    }
   ],
   "source": [
    "classification_report_os = pd.DataFrame(classification_report_imbalanced(y_test, y_pred_over,digits=2, output_dict=True)).T\n",
    "classification_report_os.to_csv('Export Files\\classification_report imbalanced (Oversampling).csv', index=False)\n",
    "dfi.export(classification_report_os.style.background_gradient(cmap='viridis', subset=pd.IndexSlice['Entry':'Exit']),'Images\\classification_report imbalanced (Oversampling).png')\n",
    "classification_report_os.style.background_gradient(cmap='viridis', subset=pd.IndexSlice['Entry':'Exit'])"
   ]
  },
  {
   "source": [
    "## SMOTE"
   ],
   "cell_type": "markdown",
   "metadata": {}
  },
  {
   "cell_type": "code",
   "execution_count": 19,
   "metadata": {},
   "outputs": [
    {
     "output_type": "execute_result",
     "data": {
      "text/plain": [
       "Counter({'Exit': 963, 'Entry': 963})"
      ]
     },
     "metadata": {},
     "execution_count": 19
    }
   ],
   "source": [
    "X_resampled_smote, y_resampled_smote = SMOTE(random_state=1, sampling_strategy=1.0).fit_resample(\n",
    "    X_train_scaled, y_train\n",
    ")\n",
    "\n",
    "Counter(y_resampled_smote)"
   ]
  },
  {
   "cell_type": "code",
   "execution_count": 20,
   "metadata": {},
   "outputs": [],
   "source": [
    "model_smote = LogisticRegression(solver='lbfgs', random_state=78)\n",
    "model_smote.fit(X_resampled_smote, y_resampled_smote)\n",
    "y_pred_smote = model_smote.predict(X_test_scaled)\n",
    "bac_smote = balanced_accuracy_score(y_test, y_pred_smote)\n",
    "cm_smote = confusion_matrix(y_test, y_pred_smote)\n",
    "cm_smote_df = pd.DataFrame(\n",
    "    cm_smote, index=[\"Actual Entry\", \"Actual Exit\"], columns=[\"Predicted Entry\", \"Predicted Exit\"]\n",
    ")"
   ]
  },
  {
   "cell_type": "code",
   "execution_count": 21,
   "metadata": {},
   "outputs": [
    {
     "output_type": "stream",
     "name": "stdout",
     "text": [
      "Confusion Matrix\n"
     ]
    },
    {
     "output_type": "display_data",
     "data": {
      "text/plain": "              Predicted Entry  Predicted Exit\nActual Entry              168             232\nActual Exit               131             252",
      "text/html": "<div>\n<style scoped>\n    .dataframe tbody tr th:only-of-type {\n        vertical-align: middle;\n    }\n\n    .dataframe tbody tr th {\n        vertical-align: top;\n    }\n\n    .dataframe thead th {\n        text-align: right;\n    }\n</style>\n<table border=\"1\" class=\"dataframe\">\n  <thead>\n    <tr style=\"text-align: right;\">\n      <th></th>\n      <th>Predicted Entry</th>\n      <th>Predicted Exit</th>\n    </tr>\n  </thead>\n  <tbody>\n    <tr>\n      <th>Actual Entry</th>\n      <td>168</td>\n      <td>232</td>\n    </tr>\n    <tr>\n      <th>Actual Exit</th>\n      <td>131</td>\n      <td>252</td>\n    </tr>\n  </tbody>\n</table>\n</div>"
     },
     "metadata": {}
    },
    {
     "output_type": "stream",
     "name": "stdout",
     "text": [
      "\n\nBalance Accuracy Score: 0.53898\n\n\nClassification Report (Imbalanced)\n                   pre       rec       spe        f1       geo       iba       sup\n\n      Entry       0.56      0.42      0.66      0.48      0.53      0.27       400\n       Exit       0.52      0.66      0.42      0.58      0.53      0.28       383\n\navg / total       0.54      0.54      0.54      0.53      0.53      0.28       783\n\n"
     ]
    }
   ],
   "source": [
    "print('Confusion Matrix')\n",
    "display(cm_smote_df)\n",
    "print()\n",
    "print()\n",
    "print(f'Balance Accuracy Score: {bac_smote:.5f}')\n",
    "print()\n",
    "print()\n",
    "print('Classification Report (Imbalanced)')\n",
    "print(classification_report_imbalanced(y_test, y_pred_smote))"
   ]
  },
  {
   "cell_type": "code",
   "execution_count": 22,
   "metadata": {},
   "outputs": [
    {
     "output_type": "execute_result",
     "data": {
      "text/plain": [
       "<pandas.io.formats.style.Styler at 0x14befdf6948>"
      ],
      "text/html": "<style  type=\"text/css\" >\n#T_52057_row0_col0,#T_52057_row0_col2,#T_52057_row0_col6,#T_52057_row1_col1,#T_52057_row1_col3,#T_52057_row1_col5{\n            background-color:  #fde725;\n            color:  #000000;\n        }#T_52057_row0_col1,#T_52057_row0_col3,#T_52057_row0_col4,#T_52057_row0_col5,#T_52057_row1_col0,#T_52057_row1_col2,#T_52057_row1_col4,#T_52057_row1_col6{\n            background-color:  #440154;\n            color:  #f1f1f1;\n        }</style><table id=\"T_52057_\" ><thead>    <tr>        <th class=\"blank level0\" ></th>        <th class=\"col_heading level0 col0\" >pre</th>        <th class=\"col_heading level0 col1\" >rec</th>        <th class=\"col_heading level0 col2\" >spe</th>        <th class=\"col_heading level0 col3\" >f1</th>        <th class=\"col_heading level0 col4\" >geo</th>        <th class=\"col_heading level0 col5\" >iba</th>        <th class=\"col_heading level0 col6\" >sup</th>    </tr></thead><tbody>\n                <tr>\n                        <th id=\"T_52057_level0_row0\" class=\"row_heading level0 row0\" >Entry</th>\n                        <td id=\"T_52057_row0_col0\" class=\"data row0 col0\" >0.561873</td>\n                        <td id=\"T_52057_row0_col1\" class=\"data row0 col1\" >0.420000</td>\n                        <td id=\"T_52057_row0_col2\" class=\"data row0 col2\" >0.657963</td>\n                        <td id=\"T_52057_row0_col3\" class=\"data row0 col3\" >0.480687</td>\n                        <td id=\"T_52057_row0_col4\" class=\"data row0 col4\" >0.525685</td>\n                        <td id=\"T_52057_row0_col5\" class=\"data row0 col5\" >0.269769</td>\n                        <td id=\"T_52057_row0_col6\" class=\"data row0 col6\" >400.000000</td>\n            </tr>\n            <tr>\n                        <th id=\"T_52057_level0_row1\" class=\"row_heading level0 row1\" >Exit</th>\n                        <td id=\"T_52057_row1_col0\" class=\"data row1 col0\" >0.520661</td>\n                        <td id=\"T_52057_row1_col1\" class=\"data row1 col1\" >0.657963</td>\n                        <td id=\"T_52057_row1_col2\" class=\"data row1 col2\" >0.420000</td>\n                        <td id=\"T_52057_row1_col3\" class=\"data row1 col3\" >0.581315</td>\n                        <td id=\"T_52057_row1_col4\" class=\"data row1 col4\" >0.525685</td>\n                        <td id=\"T_52057_row1_col5\" class=\"data row1 col5\" >0.282921</td>\n                        <td id=\"T_52057_row1_col6\" class=\"data row1 col6\" >383.000000</td>\n            </tr>\n            <tr>\n                        <th id=\"T_52057_level0_row2\" class=\"row_heading level0 row2\" >avg_pre</th>\n                        <td id=\"T_52057_row2_col0\" class=\"data row2 col0\" >0.541714</td>\n                        <td id=\"T_52057_row2_col1\" class=\"data row2 col1\" >0.541714</td>\n                        <td id=\"T_52057_row2_col2\" class=\"data row2 col2\" >0.541714</td>\n                        <td id=\"T_52057_row2_col3\" class=\"data row2 col3\" >0.541714</td>\n                        <td id=\"T_52057_row2_col4\" class=\"data row2 col4\" >0.541714</td>\n                        <td id=\"T_52057_row2_col5\" class=\"data row2 col5\" >0.541714</td>\n                        <td id=\"T_52057_row2_col6\" class=\"data row2 col6\" >0.541714</td>\n            </tr>\n            <tr>\n                        <th id=\"T_52057_level0_row3\" class=\"row_heading level0 row3\" >avg_rec</th>\n                        <td id=\"T_52057_row3_col0\" class=\"data row3 col0\" >0.536398</td>\n                        <td id=\"T_52057_row3_col1\" class=\"data row3 col1\" >0.536398</td>\n                        <td id=\"T_52057_row3_col2\" class=\"data row3 col2\" >0.536398</td>\n                        <td id=\"T_52057_row3_col3\" class=\"data row3 col3\" >0.536398</td>\n                        <td id=\"T_52057_row3_col4\" class=\"data row3 col4\" >0.536398</td>\n                        <td id=\"T_52057_row3_col5\" class=\"data row3 col5\" >0.536398</td>\n                        <td id=\"T_52057_row3_col6\" class=\"data row3 col6\" >0.536398</td>\n            </tr>\n            <tr>\n                        <th id=\"T_52057_level0_row4\" class=\"row_heading level0 row4\" >avg_spe</th>\n                        <td id=\"T_52057_row4_col0\" class=\"data row4 col0\" >0.541565</td>\n                        <td id=\"T_52057_row4_col1\" class=\"data row4 col1\" >0.541565</td>\n                        <td id=\"T_52057_row4_col2\" class=\"data row4 col2\" >0.541565</td>\n                        <td id=\"T_52057_row4_col3\" class=\"data row4 col3\" >0.541565</td>\n                        <td id=\"T_52057_row4_col4\" class=\"data row4 col4\" >0.541565</td>\n                        <td id=\"T_52057_row4_col5\" class=\"data row4 col5\" >0.541565</td>\n                        <td id=\"T_52057_row4_col6\" class=\"data row4 col6\" >0.541565</td>\n            </tr>\n            <tr>\n                        <th id=\"T_52057_level0_row5\" class=\"row_heading level0 row5\" >avg_f1</th>\n                        <td id=\"T_52057_row5_col0\" class=\"data row5 col0\" >0.529908</td>\n                        <td id=\"T_52057_row5_col1\" class=\"data row5 col1\" >0.529908</td>\n                        <td id=\"T_52057_row5_col2\" class=\"data row5 col2\" >0.529908</td>\n                        <td id=\"T_52057_row5_col3\" class=\"data row5 col3\" >0.529908</td>\n                        <td id=\"T_52057_row5_col4\" class=\"data row5 col4\" >0.529908</td>\n                        <td id=\"T_52057_row5_col5\" class=\"data row5 col5\" >0.529908</td>\n                        <td id=\"T_52057_row5_col6\" class=\"data row5 col6\" >0.529908</td>\n            </tr>\n            <tr>\n                        <th id=\"T_52057_level0_row6\" class=\"row_heading level0 row6\" >avg_geo</th>\n                        <td id=\"T_52057_row6_col0\" class=\"data row6 col0\" >0.525685</td>\n                        <td id=\"T_52057_row6_col1\" class=\"data row6 col1\" >0.525685</td>\n                        <td id=\"T_52057_row6_col2\" class=\"data row6 col2\" >0.525685</td>\n                        <td id=\"T_52057_row6_col3\" class=\"data row6 col3\" >0.525685</td>\n                        <td id=\"T_52057_row6_col4\" class=\"data row6 col4\" >0.525685</td>\n                        <td id=\"T_52057_row6_col5\" class=\"data row6 col5\" >0.525685</td>\n                        <td id=\"T_52057_row6_col6\" class=\"data row6 col6\" >0.525685</td>\n            </tr>\n            <tr>\n                        <th id=\"T_52057_level0_row7\" class=\"row_heading level0 row7\" >avg_iba</th>\n                        <td id=\"T_52057_row7_col0\" class=\"data row7 col0\" >0.276202</td>\n                        <td id=\"T_52057_row7_col1\" class=\"data row7 col1\" >0.276202</td>\n                        <td id=\"T_52057_row7_col2\" class=\"data row7 col2\" >0.276202</td>\n                        <td id=\"T_52057_row7_col3\" class=\"data row7 col3\" >0.276202</td>\n                        <td id=\"T_52057_row7_col4\" class=\"data row7 col4\" >0.276202</td>\n                        <td id=\"T_52057_row7_col5\" class=\"data row7 col5\" >0.276202</td>\n                        <td id=\"T_52057_row7_col6\" class=\"data row7 col6\" >0.276202</td>\n            </tr>\n            <tr>\n                        <th id=\"T_52057_level0_row8\" class=\"row_heading level0 row8\" >total_support</th>\n                        <td id=\"T_52057_row8_col0\" class=\"data row8 col0\" >783.000000</td>\n                        <td id=\"T_52057_row8_col1\" class=\"data row8 col1\" >783.000000</td>\n                        <td id=\"T_52057_row8_col2\" class=\"data row8 col2\" >783.000000</td>\n                        <td id=\"T_52057_row8_col3\" class=\"data row8 col3\" >783.000000</td>\n                        <td id=\"T_52057_row8_col4\" class=\"data row8 col4\" >783.000000</td>\n                        <td id=\"T_52057_row8_col5\" class=\"data row8 col5\" >783.000000</td>\n                        <td id=\"T_52057_row8_col6\" class=\"data row8 col6\" >783.000000</td>\n            </tr>\n    </tbody></table>"
     },
     "metadata": {},
     "execution_count": 22
    }
   ],
   "source": [
    "classification_report_smote = pd.DataFrame(classification_report_imbalanced(y_test, y_pred_smote,digits=2, output_dict=True)).T\n",
    "classification_report_smote.to_csv('Export Files\\classification_report imbalanced (SMOTE).csv', index=False)\n",
    "dfi.export(classification_report_smote.style.background_gradient(cmap='viridis', subset=pd.IndexSlice['Entry':'Exit']),'Images\\\\classification_report imbalanced (SMOTE).png')\n",
    "classification_report_smote.style.background_gradient(cmap='viridis', subset=pd.IndexSlice['Entry':'Exit'])"
   ]
  },
  {
   "source": [
    "## Undersampling"
   ],
   "cell_type": "markdown",
   "metadata": {}
  },
  {
   "cell_type": "code",
   "execution_count": 23,
   "metadata": {},
   "outputs": [
    {
     "output_type": "execute_result",
     "data": {
      "text/plain": [
       "Counter({'Exit': 963, 'Entry': 963})"
      ]
     },
     "metadata": {},
     "execution_count": 23
    }
   ],
   "source": [
    "rus = RandomUnderSampler(random_state=78)\n",
    "X_under_resampled, y_under_resampled = ros.fit_resample(X_train_scaled, y_train)\n",
    "Counter(y_under_resampled)"
   ]
  },
  {
   "cell_type": "code",
   "execution_count": 24,
   "metadata": {},
   "outputs": [],
   "source": [
    "model_under_resample = LogisticRegression(solver='lbfgs', random_state=78)\n",
    "model_under_resample.fit(X_under_resampled, y_under_resampled)\n",
    "y_pred_under = model_under_resample.predict(X_test_scaled)\n",
    "bac_under = balanced_accuracy_score(y_test, y_pred_under)\n",
    "cm_under = confusion_matrix(y_test, y_pred_under)\n",
    "cm_under_df = pd.DataFrame(\n",
    "    cm_under, index=[\"Actual Entry\", \"Actual Exit\"], columns=[\"Predicted Entry\", \"Predicted Exit\"]\n",
    ")"
   ]
  },
  {
   "cell_type": "code",
   "execution_count": 25,
   "metadata": {},
   "outputs": [
    {
     "output_type": "stream",
     "name": "stdout",
     "text": [
      "Confusion Matrix\n"
     ]
    },
    {
     "output_type": "display_data",
     "data": {
      "text/plain": "              Predicted Entry  Predicted Exit\nActual Entry              163             237\nActual Exit               126             257",
      "text/html": "<div>\n<style scoped>\n    .dataframe tbody tr th:only-of-type {\n        vertical-align: middle;\n    }\n\n    .dataframe tbody tr th {\n        vertical-align: top;\n    }\n\n    .dataframe thead th {\n        text-align: right;\n    }\n</style>\n<table border=\"1\" class=\"dataframe\">\n  <thead>\n    <tr style=\"text-align: right;\">\n      <th></th>\n      <th>Predicted Entry</th>\n      <th>Predicted Exit</th>\n    </tr>\n  </thead>\n  <tbody>\n    <tr>\n      <th>Actual Entry</th>\n      <td>163</td>\n      <td>237</td>\n    </tr>\n    <tr>\n      <th>Actual Exit</th>\n      <td>126</td>\n      <td>257</td>\n    </tr>\n  </tbody>\n</table>\n</div>"
     },
     "metadata": {}
    },
    {
     "output_type": "stream",
     "name": "stdout",
     "text": [
      "\n\nBalance Accuracy Score: 0.53926\n\n\nClassification Report (Imbalanced)\n                   pre       rec       spe        f1       geo       iba       sup\n\n      Entry       0.56      0.41      0.67      0.47      0.52      0.27       400\n       Exit       0.52      0.67      0.41      0.59      0.52      0.28       383\n\navg / total       0.54      0.54      0.54      0.53      0.52      0.27       783\n\n"
     ]
    }
   ],
   "source": [
    "print('Confusion Matrix')\n",
    "display(cm_under_df)\n",
    "print()\n",
    "print()\n",
    "print(f'Balance Accuracy Score: {bac_under:.5f}')\n",
    "print()\n",
    "print()\n",
    "print('Classification Report (Imbalanced)')\n",
    "print(classification_report_imbalanced(y_test, y_pred_under))"
   ]
  },
  {
   "cell_type": "code",
   "execution_count": 26,
   "metadata": {},
   "outputs": [
    {
     "output_type": "execute_result",
     "data": {
      "text/plain": [
       "<pandas.io.formats.style.Styler at 0x14befd9b908>"
      ],
      "text/html": "<style  type=\"text/css\" >\n#T_1aa31_row0_col0,#T_1aa31_row0_col2,#T_1aa31_row0_col6,#T_1aa31_row1_col1,#T_1aa31_row1_col3,#T_1aa31_row1_col5{\n            background-color:  #fde725;\n            color:  #000000;\n        }#T_1aa31_row0_col1,#T_1aa31_row0_col3,#T_1aa31_row0_col4,#T_1aa31_row0_col5,#T_1aa31_row1_col0,#T_1aa31_row1_col2,#T_1aa31_row1_col4,#T_1aa31_row1_col6{\n            background-color:  #440154;\n            color:  #f1f1f1;\n        }</style><table id=\"T_1aa31_\" ><thead>    <tr>        <th class=\"blank level0\" ></th>        <th class=\"col_heading level0 col0\" >pre</th>        <th class=\"col_heading level0 col1\" >rec</th>        <th class=\"col_heading level0 col2\" >spe</th>        <th class=\"col_heading level0 col3\" >f1</th>        <th class=\"col_heading level0 col4\" >geo</th>        <th class=\"col_heading level0 col5\" >iba</th>        <th class=\"col_heading level0 col6\" >sup</th>    </tr></thead><tbody>\n                <tr>\n                        <th id=\"T_1aa31_level0_row0\" class=\"row_heading level0 row0\" >Entry</th>\n                        <td id=\"T_1aa31_row0_col0\" class=\"data row0 col0\" >0.564014</td>\n                        <td id=\"T_1aa31_row0_col1\" class=\"data row0 col1\" >0.407500</td>\n                        <td id=\"T_1aa31_row0_col2\" class=\"data row0 col2\" >0.671018</td>\n                        <td id=\"T_1aa31_row0_col3\" class=\"data row0 col3\" >0.473149</td>\n                        <td id=\"T_1aa31_row0_col4\" class=\"data row0 col4\" >0.522915</td>\n                        <td id=\"T_1aa31_row0_col5\" class=\"data row0 col5\" >0.266234</td>\n                        <td id=\"T_1aa31_row0_col6\" class=\"data row0 col6\" >400.000000</td>\n            </tr>\n            <tr>\n                        <th id=\"T_1aa31_level0_row1\" class=\"row_heading level0 row1\" >Exit</th>\n                        <td id=\"T_1aa31_row1_col0\" class=\"data row1 col0\" >0.520243</td>\n                        <td id=\"T_1aa31_row1_col1\" class=\"data row1 col1\" >0.671018</td>\n                        <td id=\"T_1aa31_row1_col2\" class=\"data row1 col2\" >0.407500</td>\n                        <td id=\"T_1aa31_row1_col3\" class=\"data row1 col3\" >0.586089</td>\n                        <td id=\"T_1aa31_row1_col4\" class=\"data row1 col4\" >0.522915</td>\n                        <td id=\"T_1aa31_row1_col5\" class=\"data row1 col5\" >0.280646</td>\n                        <td id=\"T_1aa31_row1_col6\" class=\"data row1 col6\" >383.000000</td>\n            </tr>\n            <tr>\n                        <th id=\"T_1aa31_level0_row2\" class=\"row_heading level0 row2\" >avg_pre</th>\n                        <td id=\"T_1aa31_row2_col0\" class=\"data row2 col0\" >0.542604</td>\n                        <td id=\"T_1aa31_row2_col1\" class=\"data row2 col1\" >0.542604</td>\n                        <td id=\"T_1aa31_row2_col2\" class=\"data row2 col2\" >0.542604</td>\n                        <td id=\"T_1aa31_row2_col3\" class=\"data row2 col3\" >0.542604</td>\n                        <td id=\"T_1aa31_row2_col4\" class=\"data row2 col4\" >0.542604</td>\n                        <td id=\"T_1aa31_row2_col5\" class=\"data row2 col5\" >0.542604</td>\n                        <td id=\"T_1aa31_row2_col6\" class=\"data row2 col6\" >0.542604</td>\n            </tr>\n            <tr>\n                        <th id=\"T_1aa31_level0_row3\" class=\"row_heading level0 row3\" >avg_rec</th>\n                        <td id=\"T_1aa31_row3_col0\" class=\"data row3 col0\" >0.536398</td>\n                        <td id=\"T_1aa31_row3_col1\" class=\"data row3 col1\" >0.536398</td>\n                        <td id=\"T_1aa31_row3_col2\" class=\"data row3 col2\" >0.536398</td>\n                        <td id=\"T_1aa31_row3_col3\" class=\"data row3 col3\" >0.536398</td>\n                        <td id=\"T_1aa31_row3_col4\" class=\"data row3 col4\" >0.536398</td>\n                        <td id=\"T_1aa31_row3_col5\" class=\"data row3 col5\" >0.536398</td>\n                        <td id=\"T_1aa31_row3_col6\" class=\"data row3 col6\" >0.536398</td>\n            </tr>\n            <tr>\n                        <th id=\"T_1aa31_level0_row4\" class=\"row_heading level0 row4\" >avg_spe</th>\n                        <td id=\"T_1aa31_row4_col0\" class=\"data row4 col0\" >0.542120</td>\n                        <td id=\"T_1aa31_row4_col1\" class=\"data row4 col1\" >0.542120</td>\n                        <td id=\"T_1aa31_row4_col2\" class=\"data row4 col2\" >0.542120</td>\n                        <td id=\"T_1aa31_row4_col3\" class=\"data row4 col3\" >0.542120</td>\n                        <td id=\"T_1aa31_row4_col4\" class=\"data row4 col4\" >0.542120</td>\n                        <td id=\"T_1aa31_row4_col5\" class=\"data row4 col5\" >0.542120</td>\n                        <td id=\"T_1aa31_row4_col6\" class=\"data row4 col6\" >0.542120</td>\n            </tr>\n            <tr>\n                        <th id=\"T_1aa31_level0_row5\" class=\"row_heading level0 row5\" >avg_f1</th>\n                        <td id=\"T_1aa31_row5_col0\" class=\"data row5 col0\" >0.528393</td>\n                        <td id=\"T_1aa31_row5_col1\" class=\"data row5 col1\" >0.528393</td>\n                        <td id=\"T_1aa31_row5_col2\" class=\"data row5 col2\" >0.528393</td>\n                        <td id=\"T_1aa31_row5_col3\" class=\"data row5 col3\" >0.528393</td>\n                        <td id=\"T_1aa31_row5_col4\" class=\"data row5 col4\" >0.528393</td>\n                        <td id=\"T_1aa31_row5_col5\" class=\"data row5 col5\" >0.528393</td>\n                        <td id=\"T_1aa31_row5_col6\" class=\"data row5 col6\" >0.528393</td>\n            </tr>\n            <tr>\n                        <th id=\"T_1aa31_level0_row6\" class=\"row_heading level0 row6\" >avg_geo</th>\n                        <td id=\"T_1aa31_row6_col0\" class=\"data row6 col0\" >0.522915</td>\n                        <td id=\"T_1aa31_row6_col1\" class=\"data row6 col1\" >0.522915</td>\n                        <td id=\"T_1aa31_row6_col2\" class=\"data row6 col2\" >0.522915</td>\n                        <td id=\"T_1aa31_row6_col3\" class=\"data row6 col3\" >0.522915</td>\n                        <td id=\"T_1aa31_row6_col4\" class=\"data row6 col4\" >0.522915</td>\n                        <td id=\"T_1aa31_row6_col5\" class=\"data row6 col5\" >0.522915</td>\n                        <td id=\"T_1aa31_row6_col6\" class=\"data row6 col6\" >0.522915</td>\n            </tr>\n            <tr>\n                        <th id=\"T_1aa31_level0_row7\" class=\"row_heading level0 row7\" >avg_iba</th>\n                        <td id=\"T_1aa31_row7_col0\" class=\"data row7 col0\" >0.273284</td>\n                        <td id=\"T_1aa31_row7_col1\" class=\"data row7 col1\" >0.273284</td>\n                        <td id=\"T_1aa31_row7_col2\" class=\"data row7 col2\" >0.273284</td>\n                        <td id=\"T_1aa31_row7_col3\" class=\"data row7 col3\" >0.273284</td>\n                        <td id=\"T_1aa31_row7_col4\" class=\"data row7 col4\" >0.273284</td>\n                        <td id=\"T_1aa31_row7_col5\" class=\"data row7 col5\" >0.273284</td>\n                        <td id=\"T_1aa31_row7_col6\" class=\"data row7 col6\" >0.273284</td>\n            </tr>\n            <tr>\n                        <th id=\"T_1aa31_level0_row8\" class=\"row_heading level0 row8\" >total_support</th>\n                        <td id=\"T_1aa31_row8_col0\" class=\"data row8 col0\" >783.000000</td>\n                        <td id=\"T_1aa31_row8_col1\" class=\"data row8 col1\" >783.000000</td>\n                        <td id=\"T_1aa31_row8_col2\" class=\"data row8 col2\" >783.000000</td>\n                        <td id=\"T_1aa31_row8_col3\" class=\"data row8 col3\" >783.000000</td>\n                        <td id=\"T_1aa31_row8_col4\" class=\"data row8 col4\" >783.000000</td>\n                        <td id=\"T_1aa31_row8_col5\" class=\"data row8 col5\" >783.000000</td>\n                        <td id=\"T_1aa31_row8_col6\" class=\"data row8 col6\" >783.000000</td>\n            </tr>\n    </tbody></table>"
     },
     "metadata": {},
     "execution_count": 26
    }
   ],
   "source": [
    "classification_report_us = pd.DataFrame(classification_report_imbalanced(y_test, y_pred_under,digits=2, output_dict=True)).T\n",
    "classification_report_us.to_csv('Export Files\\classification_report imbalanced (Undersampling).csv', index=False)\n",
    "dfi.export(classification_report_us.style.background_gradient(cmap='viridis', subset=pd.IndexSlice['Entry':'Exit']),'Images\\classification_report imbalanced (Undersampling).png')\n",
    "classification_report_us.style.background_gradient(cmap='viridis', subset=pd.IndexSlice['Entry':'Exit'])"
   ]
  },
  {
   "source": [
    "## Cluster Centroid Undersampling"
   ],
   "cell_type": "markdown",
   "metadata": {}
  },
  {
   "cell_type": "code",
   "execution_count": 27,
   "metadata": {},
   "outputs": [
    {
     "output_type": "execute_result",
     "data": {
      "text/plain": [
       "Counter({'Entry': 862, 'Exit': 862})"
      ]
     },
     "metadata": {},
     "execution_count": 27
    }
   ],
   "source": [
    "cluster = ClusterCentroids(random_state=78)\n",
    "X_resampled_cc, y_resampled_cc = cluster.fit_resample(X_train_scaled, y_train)\n",
    "Counter(y_resampled_cc)"
   ]
  },
  {
   "cell_type": "code",
   "execution_count": 28,
   "metadata": {},
   "outputs": [],
   "source": [
    "model_resample_cc = LogisticRegression(solver='lbfgs', random_state=78)\n",
    "model_resample_cc.fit(X_resampled_cc, y_resampled_cc)\n",
    "y_pred_cc = model_resample_cc.predict(X_test_scaled)\n",
    "bac_cc = balanced_accuracy_score(y_test, y_pred_cc)\n",
    "cm_cc = confusion_matrix(y_test, y_pred_cc)\n",
    "cm_cc_df = pd.DataFrame(\n",
    "    cm_cc, index=[\"Actual Entry\", \"Actual Exit\"], columns=[\"Predicted Entry\", \"Predicted Exit\"]\n",
    ")"
   ]
  },
  {
   "cell_type": "code",
   "execution_count": 29,
   "metadata": {},
   "outputs": [
    {
     "output_type": "stream",
     "name": "stdout",
     "text": [
      "Confusion Matrix\n"
     ]
    },
    {
     "output_type": "display_data",
     "data": {
      "text/plain": "              Predicted Entry  Predicted Exit\nActual Entry              140             260\nActual Exit               112             271",
      "text/html": "<div>\n<style scoped>\n    .dataframe tbody tr th:only-of-type {\n        vertical-align: middle;\n    }\n\n    .dataframe tbody tr th {\n        vertical-align: top;\n    }\n\n    .dataframe thead th {\n        text-align: right;\n    }\n</style>\n<table border=\"1\" class=\"dataframe\">\n  <thead>\n    <tr style=\"text-align: right;\">\n      <th></th>\n      <th>Predicted Entry</th>\n      <th>Predicted Exit</th>\n    </tr>\n  </thead>\n  <tbody>\n    <tr>\n      <th>Actual Entry</th>\n      <td>140</td>\n      <td>260</td>\n    </tr>\n    <tr>\n      <th>Actual Exit</th>\n      <td>112</td>\n      <td>271</td>\n    </tr>\n  </tbody>\n</table>\n</div>"
     },
     "metadata": {}
    },
    {
     "output_type": "stream",
     "name": "stdout",
     "text": [
      "\n\nBalance Accuracy Score: 0.52879\n\n\nClassification Report (Imbalanced)\n                   pre       rec       spe        f1       geo       iba       sup\n\n      Entry       0.56      0.35      0.71      0.43      0.50      0.24       400\n       Exit       0.51      0.71      0.35      0.59      0.50      0.26       383\n\navg / total       0.53      0.52      0.53      0.51      0.50      0.25       783\n\n"
     ]
    }
   ],
   "source": [
    "print('Confusion Matrix')\n",
    "display(cm_cc_df)\n",
    "print()\n",
    "print()\n",
    "print(f'Balance Accuracy Score: {bac_cc:.5f}')\n",
    "print()\n",
    "print()\n",
    "print('Classification Report (Imbalanced)')\n",
    "print(classification_report_imbalanced(y_test, y_pred_cc))"
   ]
  },
  {
   "cell_type": "code",
   "execution_count": 30,
   "metadata": {},
   "outputs": [
    {
     "output_type": "execute_result",
     "data": {
      "text/plain": [
       "<pandas.io.formats.style.Styler at 0x14bf06a1788>"
      ],
      "text/html": "<style  type=\"text/css\" >\n#T_3b044_row0_col0,#T_3b044_row0_col2,#T_3b044_row0_col6,#T_3b044_row1_col1,#T_3b044_row1_col3,#T_3b044_row1_col5{\n            background-color:  #fde725;\n            color:  #000000;\n        }#T_3b044_row0_col1,#T_3b044_row0_col3,#T_3b044_row0_col4,#T_3b044_row0_col5,#T_3b044_row1_col0,#T_3b044_row1_col2,#T_3b044_row1_col4,#T_3b044_row1_col6{\n            background-color:  #440154;\n            color:  #f1f1f1;\n        }</style><table id=\"T_3b044_\" ><thead>    <tr>        <th class=\"blank level0\" ></th>        <th class=\"col_heading level0 col0\" >pre</th>        <th class=\"col_heading level0 col1\" >rec</th>        <th class=\"col_heading level0 col2\" >spe</th>        <th class=\"col_heading level0 col3\" >f1</th>        <th class=\"col_heading level0 col4\" >geo</th>        <th class=\"col_heading level0 col5\" >iba</th>        <th class=\"col_heading level0 col6\" >sup</th>    </tr></thead><tbody>\n                <tr>\n                        <th id=\"T_3b044_level0_row0\" class=\"row_heading level0 row0\" >Entry</th>\n                        <td id=\"T_3b044_row0_col0\" class=\"data row0 col0\" >0.555556</td>\n                        <td id=\"T_3b044_row0_col1\" class=\"data row0 col1\" >0.350000</td>\n                        <td id=\"T_3b044_row0_col2\" class=\"data row0 col2\" >0.707572</td>\n                        <td id=\"T_3b044_row0_col3\" class=\"data row0 col3\" >0.429448</td>\n                        <td id=\"T_3b044_row0_col4\" class=\"data row0 col4\" >0.497645</td>\n                        <td id=\"T_3b044_row0_col5\" class=\"data row0 col5\" >0.238795</td>\n                        <td id=\"T_3b044_row0_col6\" class=\"data row0 col6\" >400.000000</td>\n            </tr>\n            <tr>\n                        <th id=\"T_3b044_level0_row1\" class=\"row_heading level0 row1\" >Exit</th>\n                        <td id=\"T_3b044_row1_col0\" class=\"data row1 col0\" >0.510358</td>\n                        <td id=\"T_3b044_row1_col1\" class=\"data row1 col1\" >0.707572</td>\n                        <td id=\"T_3b044_row1_col2\" class=\"data row1 col2\" >0.350000</td>\n                        <td id=\"T_3b044_row1_col3\" class=\"data row1 col3\" >0.592998</td>\n                        <td id=\"T_3b044_row1_col4\" class=\"data row1 col4\" >0.497645</td>\n                        <td id=\"T_3b044_row1_col5\" class=\"data row1 col5\" >0.256505</td>\n                        <td id=\"T_3b044_row1_col6\" class=\"data row1 col6\" >383.000000</td>\n            </tr>\n            <tr>\n                        <th id=\"T_3b044_level0_row2\" class=\"row_heading level0 row2\" >avg_pre</th>\n                        <td id=\"T_3b044_row2_col0\" class=\"data row2 col0\" >0.533447</td>\n                        <td id=\"T_3b044_row2_col1\" class=\"data row2 col1\" >0.533447</td>\n                        <td id=\"T_3b044_row2_col2\" class=\"data row2 col2\" >0.533447</td>\n                        <td id=\"T_3b044_row2_col3\" class=\"data row2 col3\" >0.533447</td>\n                        <td id=\"T_3b044_row2_col4\" class=\"data row2 col4\" >0.533447</td>\n                        <td id=\"T_3b044_row2_col5\" class=\"data row2 col5\" >0.533447</td>\n                        <td id=\"T_3b044_row2_col6\" class=\"data row2 col6\" >0.533447</td>\n            </tr>\n            <tr>\n                        <th id=\"T_3b044_level0_row3\" class=\"row_heading level0 row3\" >avg_rec</th>\n                        <td id=\"T_3b044_row3_col0\" class=\"data row3 col0\" >0.524904</td>\n                        <td id=\"T_3b044_row3_col1\" class=\"data row3 col1\" >0.524904</td>\n                        <td id=\"T_3b044_row3_col2\" class=\"data row3 col2\" >0.524904</td>\n                        <td id=\"T_3b044_row3_col3\" class=\"data row3 col3\" >0.524904</td>\n                        <td id=\"T_3b044_row3_col4\" class=\"data row3 col4\" >0.524904</td>\n                        <td id=\"T_3b044_row3_col5\" class=\"data row3 col5\" >0.524904</td>\n                        <td id=\"T_3b044_row3_col6\" class=\"data row3 col6\" >0.524904</td>\n            </tr>\n            <tr>\n                        <th id=\"T_3b044_level0_row4\" class=\"row_heading level0 row4\" >avg_spe</th>\n                        <td id=\"T_3b044_row4_col0\" class=\"data row4 col0\" >0.532668</td>\n                        <td id=\"T_3b044_row4_col1\" class=\"data row4 col1\" >0.532668</td>\n                        <td id=\"T_3b044_row4_col2\" class=\"data row4 col2\" >0.532668</td>\n                        <td id=\"T_3b044_row4_col3\" class=\"data row4 col3\" >0.532668</td>\n                        <td id=\"T_3b044_row4_col4\" class=\"data row4 col4\" >0.532668</td>\n                        <td id=\"T_3b044_row4_col5\" class=\"data row4 col5\" >0.532668</td>\n                        <td id=\"T_3b044_row4_col6\" class=\"data row4 col6\" >0.532668</td>\n            </tr>\n            <tr>\n                        <th id=\"T_3b044_level0_row5\" class=\"row_heading level0 row5\" >avg_f1</th>\n                        <td id=\"T_3b044_row5_col0\" class=\"data row5 col0\" >0.509447</td>\n                        <td id=\"T_3b044_row5_col1\" class=\"data row5 col1\" >0.509447</td>\n                        <td id=\"T_3b044_row5_col2\" class=\"data row5 col2\" >0.509447</td>\n                        <td id=\"T_3b044_row5_col3\" class=\"data row5 col3\" >0.509447</td>\n                        <td id=\"T_3b044_row5_col4\" class=\"data row5 col4\" >0.509447</td>\n                        <td id=\"T_3b044_row5_col5\" class=\"data row5 col5\" >0.509447</td>\n                        <td id=\"T_3b044_row5_col6\" class=\"data row5 col6\" >0.509447</td>\n            </tr>\n            <tr>\n                        <th id=\"T_3b044_level0_row6\" class=\"row_heading level0 row6\" >avg_geo</th>\n                        <td id=\"T_3b044_row6_col0\" class=\"data row6 col0\" >0.497645</td>\n                        <td id=\"T_3b044_row6_col1\" class=\"data row6 col1\" >0.497645</td>\n                        <td id=\"T_3b044_row6_col2\" class=\"data row6 col2\" >0.497645</td>\n                        <td id=\"T_3b044_row6_col3\" class=\"data row6 col3\" >0.497645</td>\n                        <td id=\"T_3b044_row6_col4\" class=\"data row6 col4\" >0.497645</td>\n                        <td id=\"T_3b044_row6_col5\" class=\"data row6 col5\" >0.497645</td>\n                        <td id=\"T_3b044_row6_col6\" class=\"data row6 col6\" >0.497645</td>\n            </tr>\n            <tr>\n                        <th id=\"T_3b044_level0_row7\" class=\"row_heading level0 row7\" >avg_iba</th>\n                        <td id=\"T_3b044_row7_col0\" class=\"data row7 col0\" >0.247458</td>\n                        <td id=\"T_3b044_row7_col1\" class=\"data row7 col1\" >0.247458</td>\n                        <td id=\"T_3b044_row7_col2\" class=\"data row7 col2\" >0.247458</td>\n                        <td id=\"T_3b044_row7_col3\" class=\"data row7 col3\" >0.247458</td>\n                        <td id=\"T_3b044_row7_col4\" class=\"data row7 col4\" >0.247458</td>\n                        <td id=\"T_3b044_row7_col5\" class=\"data row7 col5\" >0.247458</td>\n                        <td id=\"T_3b044_row7_col6\" class=\"data row7 col6\" >0.247458</td>\n            </tr>\n            <tr>\n                        <th id=\"T_3b044_level0_row8\" class=\"row_heading level0 row8\" >total_support</th>\n                        <td id=\"T_3b044_row8_col0\" class=\"data row8 col0\" >783.000000</td>\n                        <td id=\"T_3b044_row8_col1\" class=\"data row8 col1\" >783.000000</td>\n                        <td id=\"T_3b044_row8_col2\" class=\"data row8 col2\" >783.000000</td>\n                        <td id=\"T_3b044_row8_col3\" class=\"data row8 col3\" >783.000000</td>\n                        <td id=\"T_3b044_row8_col4\" class=\"data row8 col4\" >783.000000</td>\n                        <td id=\"T_3b044_row8_col5\" class=\"data row8 col5\" >783.000000</td>\n                        <td id=\"T_3b044_row8_col6\" class=\"data row8 col6\" >783.000000</td>\n            </tr>\n    </tbody></table>"
     },
     "metadata": {},
     "execution_count": 30
    }
   ],
   "source": [
    "classification_report_cc = pd.DataFrame(classification_report_imbalanced(y_test, y_pred_cc,digits=2, output_dict=True)).T\n",
    "classification_report_cc.to_csv('Export Files\\classification_report imbalanced (Cluster Centroid).csv', index=False)\n",
    "dfi.export(\n",
    "classification_report_cc.style.background_gradient(cmap='viridis', subset=pd.IndexSlice['Entry':'Exit']),'Images\\classification_report imbalanced (Cluster Centroid).png')\n",
    "classification_report_cc.style.background_gradient(cmap='viridis', subset=pd.IndexSlice['Entry':'Exit'])"
   ]
  },
  {
   "source": [
    "## SMOTEEN"
   ],
   "cell_type": "markdown",
   "metadata": {}
  },
  {
   "cell_type": "code",
   "execution_count": 31,
   "metadata": {},
   "outputs": [
    {
     "output_type": "execute_result",
     "data": {
      "text/plain": [
       "Counter({'Entry': 139, 'Exit': 169})"
      ]
     },
     "metadata": {},
     "execution_count": 31
    }
   ],
   "source": [
    "sm = SMOTEENN(random_state=78)\n",
    "X_resampled_smoteenn, y_resampled_smoteenn = sm.fit_resample(X_train_scaled, y_train)\n",
    "Counter(y_resampled_smoteenn)"
   ]
  },
  {
   "cell_type": "code",
   "execution_count": 32,
   "metadata": {},
   "outputs": [],
   "source": [
    "model_smoteenn = LogisticRegression(solver='lbfgs', random_state=78)\n",
    "model_smoteenn.fit(X_resampled_smoteenn, y_resampled_smoteenn)\n",
    "y_pred_smoteenn = model_smoteenn.predict(X_test_scaled)\n",
    "bac_smoteenn = balanced_accuracy_score(y_test, y_pred_smoteenn)\n",
    "cm_smoteenn = confusion_matrix(y_test, y_pred_smoteenn)\n",
    "cm_smoteenn_df = pd.DataFrame(\n",
    "    cm_smoteenn, index=[\"Actual Entry\", \"Actual Exit\"], columns=[\"Predicted Entry\", \"Predicted Exit\"]\n",
    ")"
   ]
  },
  {
   "cell_type": "code",
   "execution_count": 33,
   "metadata": {},
   "outputs": [
    {
     "output_type": "stream",
     "name": "stdout",
     "text": [
      "Confusion Matrix\n"
     ]
    },
    {
     "output_type": "display_data",
     "data": {
      "text/plain": "              Predicted Entry  Predicted Exit\nActual Entry               96             304\nActual Exit                82             301",
      "text/html": "<div>\n<style scoped>\n    .dataframe tbody tr th:only-of-type {\n        vertical-align: middle;\n    }\n\n    .dataframe tbody tr th {\n        vertical-align: top;\n    }\n\n    .dataframe thead th {\n        text-align: right;\n    }\n</style>\n<table border=\"1\" class=\"dataframe\">\n  <thead>\n    <tr style=\"text-align: right;\">\n      <th></th>\n      <th>Predicted Entry</th>\n      <th>Predicted Exit</th>\n    </tr>\n  </thead>\n  <tbody>\n    <tr>\n      <th>Actual Entry</th>\n      <td>96</td>\n      <td>304</td>\n    </tr>\n    <tr>\n      <th>Actual Exit</th>\n      <td>82</td>\n      <td>301</td>\n    </tr>\n  </tbody>\n</table>\n</div>"
     },
     "metadata": {}
    },
    {
     "output_type": "stream",
     "name": "stdout",
     "text": [
      "\n\nBalance Accuracy Score: 0.51295\n\n\nClassification Report (Imbalanced)\n                   pre       rec       spe        f1       geo       iba       sup\n\n      Entry       0.54      0.24      0.79      0.33      0.43      0.18       400\n       Exit       0.50      0.79      0.24      0.61      0.43      0.20       383\n\navg / total       0.52      0.51      0.52      0.47      0.43      0.19       783\n\n"
     ]
    }
   ],
   "source": [
    "print('Confusion Matrix')\n",
    "display(cm_smoteenn_df)\n",
    "print()\n",
    "print()\n",
    "print(f'Balance Accuracy Score: {bac_smoteenn:.5f}')\n",
    "print()\n",
    "print()\n",
    "print('Classification Report (Imbalanced)')\n",
    "print(classification_report_imbalanced(y_test, y_pred_smoteenn))"
   ]
  },
  {
   "cell_type": "code",
   "execution_count": 34,
   "metadata": {},
   "outputs": [
    {
     "output_type": "execute_result",
     "data": {
      "text/plain": [
       "<pandas.io.formats.style.Styler at 0x14bf06c5548>"
      ],
      "text/html": "<style  type=\"text/css\" >\n#T_095fe_row0_col0,#T_095fe_row0_col2,#T_095fe_row0_col6,#T_095fe_row1_col1,#T_095fe_row1_col3,#T_095fe_row1_col5{\n            background-color:  #fde725;\n            color:  #000000;\n        }#T_095fe_row0_col1,#T_095fe_row0_col3,#T_095fe_row0_col4,#T_095fe_row0_col5,#T_095fe_row1_col0,#T_095fe_row1_col2,#T_095fe_row1_col4,#T_095fe_row1_col6{\n            background-color:  #440154;\n            color:  #f1f1f1;\n        }</style><table id=\"T_095fe_\" ><thead>    <tr>        <th class=\"blank level0\" ></th>        <th class=\"col_heading level0 col0\" >pre</th>        <th class=\"col_heading level0 col1\" >rec</th>        <th class=\"col_heading level0 col2\" >spe</th>        <th class=\"col_heading level0 col3\" >f1</th>        <th class=\"col_heading level0 col4\" >geo</th>        <th class=\"col_heading level0 col5\" >iba</th>        <th class=\"col_heading level0 col6\" >sup</th>    </tr></thead><tbody>\n                <tr>\n                        <th id=\"T_095fe_level0_row0\" class=\"row_heading level0 row0\" >Entry</th>\n                        <td id=\"T_095fe_row0_col0\" class=\"data row0 col0\" >0.539326</td>\n                        <td id=\"T_095fe_row0_col1\" class=\"data row0 col1\" >0.240000</td>\n                        <td id=\"T_095fe_row0_col2\" class=\"data row0 col2\" >0.785901</td>\n                        <td id=\"T_095fe_row0_col3\" class=\"data row0 col3\" >0.332180</td>\n                        <td id=\"T_095fe_row0_col4\" class=\"data row0 col4\" >0.434300</td>\n                        <td id=\"T_095fe_row0_col5\" class=\"data row0 col5\" >0.178320</td>\n                        <td id=\"T_095fe_row0_col6\" class=\"data row0 col6\" >400.000000</td>\n            </tr>\n            <tr>\n                        <th id=\"T_095fe_level0_row1\" class=\"row_heading level0 row1\" >Exit</th>\n                        <td id=\"T_095fe_row1_col0\" class=\"data row1 col0\" >0.497521</td>\n                        <td id=\"T_095fe_row1_col1\" class=\"data row1 col1\" >0.785901</td>\n                        <td id=\"T_095fe_row1_col2\" class=\"data row1 col2\" >0.240000</td>\n                        <td id=\"T_095fe_row1_col3\" class=\"data row1 col3\" >0.609312</td>\n                        <td id=\"T_095fe_row1_col4\" class=\"data row1 col4\" >0.434300</td>\n                        <td id=\"T_095fe_row1_col5\" class=\"data row1 col5\" >0.198913</td>\n                        <td id=\"T_095fe_row1_col6\" class=\"data row1 col6\" >383.000000</td>\n            </tr>\n            <tr>\n                        <th id=\"T_095fe_level0_row2\" class=\"row_heading level0 row2\" >avg_pre</th>\n                        <td id=\"T_095fe_row2_col0\" class=\"data row2 col0\" >0.518877</td>\n                        <td id=\"T_095fe_row2_col1\" class=\"data row2 col1\" >0.518877</td>\n                        <td id=\"T_095fe_row2_col2\" class=\"data row2 col2\" >0.518877</td>\n                        <td id=\"T_095fe_row2_col3\" class=\"data row2 col3\" >0.518877</td>\n                        <td id=\"T_095fe_row2_col4\" class=\"data row2 col4\" >0.518877</td>\n                        <td id=\"T_095fe_row2_col5\" class=\"data row2 col5\" >0.518877</td>\n                        <td id=\"T_095fe_row2_col6\" class=\"data row2 col6\" >0.518877</td>\n            </tr>\n            <tr>\n                        <th id=\"T_095fe_level0_row3\" class=\"row_heading level0 row3\" >avg_rec</th>\n                        <td id=\"T_095fe_row3_col0\" class=\"data row3 col0\" >0.507024</td>\n                        <td id=\"T_095fe_row3_col1\" class=\"data row3 col1\" >0.507024</td>\n                        <td id=\"T_095fe_row3_col2\" class=\"data row3 col2\" >0.507024</td>\n                        <td id=\"T_095fe_row3_col3\" class=\"data row3 col3\" >0.507024</td>\n                        <td id=\"T_095fe_row3_col4\" class=\"data row3 col4\" >0.507024</td>\n                        <td id=\"T_095fe_row3_col5\" class=\"data row3 col5\" >0.507024</td>\n                        <td id=\"T_095fe_row3_col6\" class=\"data row3 col6\" >0.507024</td>\n            </tr>\n            <tr>\n                        <th id=\"T_095fe_level0_row4\" class=\"row_heading level0 row4\" >avg_spe</th>\n                        <td id=\"T_095fe_row4_col0\" class=\"data row4 col0\" >0.518877</td>\n                        <td id=\"T_095fe_row4_col1\" class=\"data row4 col1\" >0.518877</td>\n                        <td id=\"T_095fe_row4_col2\" class=\"data row4 col2\" >0.518877</td>\n                        <td id=\"T_095fe_row4_col3\" class=\"data row4 col3\" >0.518877</td>\n                        <td id=\"T_095fe_row4_col4\" class=\"data row4 col4\" >0.518877</td>\n                        <td id=\"T_095fe_row4_col5\" class=\"data row4 col5\" >0.518877</td>\n                        <td id=\"T_095fe_row4_col6\" class=\"data row4 col6\" >0.518877</td>\n            </tr>\n            <tr>\n                        <th id=\"T_095fe_level0_row5\" class=\"row_heading level0 row5\" >avg_f1</th>\n                        <td id=\"T_095fe_row5_col0\" class=\"data row5 col0\" >0.467737</td>\n                        <td id=\"T_095fe_row5_col1\" class=\"data row5 col1\" >0.467737</td>\n                        <td id=\"T_095fe_row5_col2\" class=\"data row5 col2\" >0.467737</td>\n                        <td id=\"T_095fe_row5_col3\" class=\"data row5 col3\" >0.467737</td>\n                        <td id=\"T_095fe_row5_col4\" class=\"data row5 col4\" >0.467737</td>\n                        <td id=\"T_095fe_row5_col5\" class=\"data row5 col5\" >0.467737</td>\n                        <td id=\"T_095fe_row5_col6\" class=\"data row5 col6\" >0.467737</td>\n            </tr>\n            <tr>\n                        <th id=\"T_095fe_level0_row6\" class=\"row_heading level0 row6\" >avg_geo</th>\n                        <td id=\"T_095fe_row6_col0\" class=\"data row6 col0\" >0.434300</td>\n                        <td id=\"T_095fe_row6_col1\" class=\"data row6 col1\" >0.434300</td>\n                        <td id=\"T_095fe_row6_col2\" class=\"data row6 col2\" >0.434300</td>\n                        <td id=\"T_095fe_row6_col3\" class=\"data row6 col3\" >0.434300</td>\n                        <td id=\"T_095fe_row6_col4\" class=\"data row6 col4\" >0.434300</td>\n                        <td id=\"T_095fe_row6_col5\" class=\"data row6 col5\" >0.434300</td>\n                        <td id=\"T_095fe_row6_col6\" class=\"data row6 col6\" >0.434300</td>\n            </tr>\n            <tr>\n                        <th id=\"T_095fe_level0_row7\" class=\"row_heading level0 row7\" >avg_iba</th>\n                        <td id=\"T_095fe_row7_col0\" class=\"data row7 col0\" >0.188393</td>\n                        <td id=\"T_095fe_row7_col1\" class=\"data row7 col1\" >0.188393</td>\n                        <td id=\"T_095fe_row7_col2\" class=\"data row7 col2\" >0.188393</td>\n                        <td id=\"T_095fe_row7_col3\" class=\"data row7 col3\" >0.188393</td>\n                        <td id=\"T_095fe_row7_col4\" class=\"data row7 col4\" >0.188393</td>\n                        <td id=\"T_095fe_row7_col5\" class=\"data row7 col5\" >0.188393</td>\n                        <td id=\"T_095fe_row7_col6\" class=\"data row7 col6\" >0.188393</td>\n            </tr>\n            <tr>\n                        <th id=\"T_095fe_level0_row8\" class=\"row_heading level0 row8\" >total_support</th>\n                        <td id=\"T_095fe_row8_col0\" class=\"data row8 col0\" >783.000000</td>\n                        <td id=\"T_095fe_row8_col1\" class=\"data row8 col1\" >783.000000</td>\n                        <td id=\"T_095fe_row8_col2\" class=\"data row8 col2\" >783.000000</td>\n                        <td id=\"T_095fe_row8_col3\" class=\"data row8 col3\" >783.000000</td>\n                        <td id=\"T_095fe_row8_col4\" class=\"data row8 col4\" >783.000000</td>\n                        <td id=\"T_095fe_row8_col5\" class=\"data row8 col5\" >783.000000</td>\n                        <td id=\"T_095fe_row8_col6\" class=\"data row8 col6\" >783.000000</td>\n            </tr>\n    </tbody></table>"
     },
     "metadata": {},
     "execution_count": 34
    }
   ],
   "source": [
    "classification_report_smoteenn = pd.DataFrame(classification_report_imbalanced(y_test, y_pred_smoteenn,digits=2, output_dict=True)).T\n",
    "classification_report_smoteenn.to_csv('Export Files\\classification_report imbalanced (Smoteenn).csv', index=False)\n",
    "dfi.export(classification_report_smoteenn.style.background_gradient(cmap='viridis', subset=pd.IndexSlice['Entry':'Exit']), 'Images\\classification_report imbalanced (Smoteenn).png')\n",
    "classification_report_smoteenn.style.background_gradient(cmap='viridis', subset=pd.IndexSlice['Entry':'Exit'])"
   ]
  },
  {
   "source": [
    "## Balanced Random Forest Classifier"
   ],
   "cell_type": "markdown",
   "metadata": {}
  },
  {
   "cell_type": "code",
   "execution_count": 35,
   "metadata": {},
   "outputs": [
    {
     "output_type": "stream",
     "name": "stderr",
     "text": [
      "C:\\Users\\Andy L\\anaconda3\\envs\\alpacaenv\\lib\\site-packages\\ipykernel_launcher.py:2: DataConversionWarning: A column-vector y was passed when a 1d array was expected. Please change the shape of y to (n_samples,), for example using ravel().\n  \n"
     ]
    }
   ],
   "source": [
    "brf = BalancedRandomForestClassifier(n_estimators=1000, random_state=78)\n",
    "brf.fit(X_train_scaled, y_train)\n",
    "y_pred_brf = brf.predict(X_test_scaled)\n",
    "bac_brf = balanced_accuracy_score(y_test, y_pred_brf)\n",
    "cm_brf = confusion_matrix(y_test, y_pred_brf)\n",
    "cm_brf_df = pd.DataFrame(\n",
    "    cm_brf, index=[\"Actual Entry\", \"Actual Exit\"], columns=[\"Predicted Entry\", \"Predicted Exit\"]\n",
    ")"
   ]
  },
  {
   "cell_type": "code",
   "execution_count": 36,
   "metadata": {},
   "outputs": [
    {
     "output_type": "stream",
     "name": "stdout",
     "text": [
      "Confusion Matrix\n"
     ]
    },
    {
     "output_type": "display_data",
     "data": {
      "text/plain": "              Predicted Entry  Predicted Exit\nActual Entry              200             200\nActual Exit               193             190",
      "text/html": "<div>\n<style scoped>\n    .dataframe tbody tr th:only-of-type {\n        vertical-align: middle;\n    }\n\n    .dataframe tbody tr th {\n        vertical-align: top;\n    }\n\n    .dataframe thead th {\n        text-align: right;\n    }\n</style>\n<table border=\"1\" class=\"dataframe\">\n  <thead>\n    <tr style=\"text-align: right;\">\n      <th></th>\n      <th>Predicted Entry</th>\n      <th>Predicted Exit</th>\n    </tr>\n  </thead>\n  <tbody>\n    <tr>\n      <th>Actual Entry</th>\n      <td>200</td>\n      <td>200</td>\n    </tr>\n    <tr>\n      <th>Actual Exit</th>\n      <td>193</td>\n      <td>190</td>\n    </tr>\n  </tbody>\n</table>\n</div>"
     },
     "metadata": {}
    },
    {
     "output_type": "stream",
     "name": "stdout",
     "text": [
      "\n\nBalance Accuracy Score: 0.49804\n\n\nClassification Report (Imbalanced)\n                   pre       rec       spe        f1       geo       iba       sup\n\n      Entry       0.51      0.50      0.50      0.50      0.50      0.25       400\n       Exit       0.49      0.50      0.50      0.49      0.50      0.25       383\n\navg / total       0.50      0.50      0.50      0.50      0.50      0.25       783\n\n"
     ]
    }
   ],
   "source": [
    "print('Confusion Matrix')\n",
    "display(cm_brf_df)\n",
    "print()\n",
    "print()\n",
    "print(f'Balance Accuracy Score: {bac_brf:.5f}')\n",
    "print()\n",
    "print()\n",
    "print('Classification Report (Imbalanced)')\n",
    "print(classification_report_imbalanced(y_test, y_pred_brf))"
   ]
  },
  {
   "cell_type": "code",
   "execution_count": 37,
   "metadata": {},
   "outputs": [
    {
     "output_type": "execute_result",
     "data": {
      "text/plain": [
       "<pandas.io.formats.style.Styler at 0x14bf20e4208>"
      ],
      "text/html": "<style  type=\"text/css\" >\n#T_e36db_row0_col0,#T_e36db_row0_col1,#T_e36db_row0_col3,#T_e36db_row0_col5,#T_e36db_row0_col6,#T_e36db_row1_col2{\n            background-color:  #fde725;\n            color:  #000000;\n        }#T_e36db_row0_col2,#T_e36db_row0_col4,#T_e36db_row1_col0,#T_e36db_row1_col1,#T_e36db_row1_col3,#T_e36db_row1_col4,#T_e36db_row1_col5,#T_e36db_row1_col6{\n            background-color:  #440154;\n            color:  #f1f1f1;\n        }</style><table id=\"T_e36db_\" ><thead>    <tr>        <th class=\"blank level0\" ></th>        <th class=\"col_heading level0 col0\" >pre</th>        <th class=\"col_heading level0 col1\" >rec</th>        <th class=\"col_heading level0 col2\" >spe</th>        <th class=\"col_heading level0 col3\" >f1</th>        <th class=\"col_heading level0 col4\" >geo</th>        <th class=\"col_heading level0 col5\" >iba</th>        <th class=\"col_heading level0 col6\" >sup</th>    </tr></thead><tbody>\n                <tr>\n                        <th id=\"T_e36db_level0_row0\" class=\"row_heading level0 row0\" >Entry</th>\n                        <td id=\"T_e36db_row0_col0\" class=\"data row0 col0\" >0.508906</td>\n                        <td id=\"T_e36db_row0_col1\" class=\"data row0 col1\" >0.500000</td>\n                        <td id=\"T_e36db_row0_col2\" class=\"data row0 col2\" >0.496084</td>\n                        <td id=\"T_e36db_row0_col3\" class=\"data row0 col3\" >0.504414</td>\n                        <td id=\"T_e36db_row0_col4\" class=\"data row0 col4\" >0.498038</td>\n                        <td id=\"T_e36db_row0_col5\" class=\"data row0 col5\" >0.248139</td>\n                        <td id=\"T_e36db_row0_col6\" class=\"data row0 col6\" >400.000000</td>\n            </tr>\n            <tr>\n                        <th id=\"T_e36db_level0_row1\" class=\"row_heading level0 row1\" >Exit</th>\n                        <td id=\"T_e36db_row1_col0\" class=\"data row1 col0\" >0.487179</td>\n                        <td id=\"T_e36db_row1_col1\" class=\"data row1 col1\" >0.496084</td>\n                        <td id=\"T_e36db_row1_col2\" class=\"data row1 col2\" >0.500000</td>\n                        <td id=\"T_e36db_row1_col3\" class=\"data row1 col3\" >0.491591</td>\n                        <td id=\"T_e36db_row1_col4\" class=\"data row1 col4\" >0.498038</td>\n                        <td id=\"T_e36db_row1_col5\" class=\"data row1 col5\" >0.247945</td>\n                        <td id=\"T_e36db_row1_col6\" class=\"data row1 col6\" >383.000000</td>\n            </tr>\n            <tr>\n                        <th id=\"T_e36db_level0_row2\" class=\"row_heading level0 row2\" >avg_pre</th>\n                        <td id=\"T_e36db_row2_col0\" class=\"data row2 col0\" >0.498279</td>\n                        <td id=\"T_e36db_row2_col1\" class=\"data row2 col1\" >0.498279</td>\n                        <td id=\"T_e36db_row2_col2\" class=\"data row2 col2\" >0.498279</td>\n                        <td id=\"T_e36db_row2_col3\" class=\"data row2 col3\" >0.498279</td>\n                        <td id=\"T_e36db_row2_col4\" class=\"data row2 col4\" >0.498279</td>\n                        <td id=\"T_e36db_row2_col5\" class=\"data row2 col5\" >0.498279</td>\n                        <td id=\"T_e36db_row2_col6\" class=\"data row2 col6\" >0.498279</td>\n            </tr>\n            <tr>\n                        <th id=\"T_e36db_level0_row3\" class=\"row_heading level0 row3\" >avg_rec</th>\n                        <td id=\"T_e36db_row3_col0\" class=\"data row3 col0\" >0.498084</td>\n                        <td id=\"T_e36db_row3_col1\" class=\"data row3 col1\" >0.498084</td>\n                        <td id=\"T_e36db_row3_col2\" class=\"data row3 col2\" >0.498084</td>\n                        <td id=\"T_e36db_row3_col3\" class=\"data row3 col3\" >0.498084</td>\n                        <td id=\"T_e36db_row3_col4\" class=\"data row3 col4\" >0.498084</td>\n                        <td id=\"T_e36db_row3_col5\" class=\"data row3 col5\" >0.498084</td>\n                        <td id=\"T_e36db_row3_col6\" class=\"data row3 col6\" >0.498084</td>\n            </tr>\n            <tr>\n                        <th id=\"T_e36db_level0_row4\" class=\"row_heading level0 row4\" >avg_spe</th>\n                        <td id=\"T_e36db_row4_col0\" class=\"data row4 col0\" >0.497999</td>\n                        <td id=\"T_e36db_row4_col1\" class=\"data row4 col1\" >0.497999</td>\n                        <td id=\"T_e36db_row4_col2\" class=\"data row4 col2\" >0.497999</td>\n                        <td id=\"T_e36db_row4_col3\" class=\"data row4 col3\" >0.497999</td>\n                        <td id=\"T_e36db_row4_col4\" class=\"data row4 col4\" >0.497999</td>\n                        <td id=\"T_e36db_row4_col5\" class=\"data row4 col5\" >0.497999</td>\n                        <td id=\"T_e36db_row4_col6\" class=\"data row4 col6\" >0.497999</td>\n            </tr>\n            <tr>\n                        <th id=\"T_e36db_level0_row5\" class=\"row_heading level0 row5\" >avg_f1</th>\n                        <td id=\"T_e36db_row5_col0\" class=\"data row5 col0\" >0.498142</td>\n                        <td id=\"T_e36db_row5_col1\" class=\"data row5 col1\" >0.498142</td>\n                        <td id=\"T_e36db_row5_col2\" class=\"data row5 col2\" >0.498142</td>\n                        <td id=\"T_e36db_row5_col3\" class=\"data row5 col3\" >0.498142</td>\n                        <td id=\"T_e36db_row5_col4\" class=\"data row5 col4\" >0.498142</td>\n                        <td id=\"T_e36db_row5_col5\" class=\"data row5 col5\" >0.498142</td>\n                        <td id=\"T_e36db_row5_col6\" class=\"data row5 col6\" >0.498142</td>\n            </tr>\n            <tr>\n                        <th id=\"T_e36db_level0_row6\" class=\"row_heading level0 row6\" >avg_geo</th>\n                        <td id=\"T_e36db_row6_col0\" class=\"data row6 col0\" >0.498038</td>\n                        <td id=\"T_e36db_row6_col1\" class=\"data row6 col1\" >0.498038</td>\n                        <td id=\"T_e36db_row6_col2\" class=\"data row6 col2\" >0.498038</td>\n                        <td id=\"T_e36db_row6_col3\" class=\"data row6 col3\" >0.498038</td>\n                        <td id=\"T_e36db_row6_col4\" class=\"data row6 col4\" >0.498038</td>\n                        <td id=\"T_e36db_row6_col5\" class=\"data row6 col5\" >0.498038</td>\n                        <td id=\"T_e36db_row6_col6\" class=\"data row6 col6\" >0.498038</td>\n            </tr>\n            <tr>\n                        <th id=\"T_e36db_level0_row7\" class=\"row_heading level0 row7\" >avg_iba</th>\n                        <td id=\"T_e36db_row7_col0\" class=\"data row7 col0\" >0.248044</td>\n                        <td id=\"T_e36db_row7_col1\" class=\"data row7 col1\" >0.248044</td>\n                        <td id=\"T_e36db_row7_col2\" class=\"data row7 col2\" >0.248044</td>\n                        <td id=\"T_e36db_row7_col3\" class=\"data row7 col3\" >0.248044</td>\n                        <td id=\"T_e36db_row7_col4\" class=\"data row7 col4\" >0.248044</td>\n                        <td id=\"T_e36db_row7_col5\" class=\"data row7 col5\" >0.248044</td>\n                        <td id=\"T_e36db_row7_col6\" class=\"data row7 col6\" >0.248044</td>\n            </tr>\n            <tr>\n                        <th id=\"T_e36db_level0_row8\" class=\"row_heading level0 row8\" >total_support</th>\n                        <td id=\"T_e36db_row8_col0\" class=\"data row8 col0\" >783.000000</td>\n                        <td id=\"T_e36db_row8_col1\" class=\"data row8 col1\" >783.000000</td>\n                        <td id=\"T_e36db_row8_col2\" class=\"data row8 col2\" >783.000000</td>\n                        <td id=\"T_e36db_row8_col3\" class=\"data row8 col3\" >783.000000</td>\n                        <td id=\"T_e36db_row8_col4\" class=\"data row8 col4\" >783.000000</td>\n                        <td id=\"T_e36db_row8_col5\" class=\"data row8 col5\" >783.000000</td>\n                        <td id=\"T_e36db_row8_col6\" class=\"data row8 col6\" >783.000000</td>\n            </tr>\n    </tbody></table>"
     },
     "metadata": {},
     "execution_count": 37
    }
   ],
   "source": [
    "classification_report_brf = pd.DataFrame(classification_report_imbalanced(y_test, y_pred_brf,digits=2, output_dict=True)).T\n",
    "classification_report_brf.to_csv('Export Files\\classification_report imbalanced (Balanced Random Forest).csv', index=False)\n",
    "dfi.export(classification_report_brf.style.background_gradient(cmap='viridis', subset=pd.IndexSlice['Entry':'Exit']),'Images\\\\classification_report imbalanced (Balanced Random Forest).png')\n",
    "classification_report_brf.style.background_gradient(cmap='viridis', subset=pd.IndexSlice['Entry':'Exit'])"
   ]
  },
  {
   "cell_type": "code",
   "execution_count": null,
   "metadata": {},
   "outputs": [],
   "source": []
  },
  {
   "cell_type": "code",
   "execution_count": null,
   "metadata": {},
   "outputs": [],
   "source": []
  }
 ],
 "metadata": {
  "kernelspec": {
   "name": "python3710jvsc74a57bd0a0b64a8f310ee5ace1b9b3d4385d821e8822fc5ed1b5821a1c24d6f0c80e5ddc",
   "display_name": "Python 3.7.10 64-bit ('alpacaenv': conda)"
  },
  "language_info": {
   "codemirror_mode": {
    "name": "ipython",
    "version": 3
   },
   "file_extension": ".py",
   "mimetype": "text/x-python",
   "name": "python",
   "nbconvert_exporter": "python",
   "pygments_lexer": "ipython3",
   "version": "3.7.10"
  }
 },
 "nbformat": 4,
 "nbformat_minor": 4
}